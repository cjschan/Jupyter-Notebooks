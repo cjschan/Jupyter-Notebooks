{
 "cells": [
  {
   "cell_type": "code",
   "execution_count": 13,
   "id": "588d6bfb-60bb-4b0a-bba3-4adf4661a8ca",
   "metadata": {},
   "outputs": [],
   "source": [
    "# Import all libraries\n",
    "from sklearn.preprocessing import StandardScaler\n",
    "from sklearn.preprocessing import MinMaxScaler\n",
    "import pandas as pd"
   ]
  },
  {
   "cell_type": "code",
   "execution_count": 16,
   "id": "74a5539a-7c5f-4a29-8725-7c488ebd1cb3",
   "metadata": {},
   "outputs": [],
   "source": [
    "# Load the abalone.csv data\n",
    "abalone = pd.read_csv('abalone.csv')"
   ]
  },
  {
   "cell_type": "code",
   "execution_count": 27,
   "id": "d7b40fac-df11-47b0-9482-c6a554d068ce",
   "metadata": {},
   "outputs": [
    {
     "name": "stdout",
     "output_type": "stream",
     "text": [
      "  sex  length  diameter  height  whole_weight  shucked_weight  viscera_weight  \\\n",
      "0   M   0.455     0.365   0.095        0.5140          0.2245          0.1010   \n",
      "1   M   0.350     0.265   0.090        0.2255          0.0995          0.0485   \n",
      "2   F   0.530     0.420   0.135        0.6770          0.2565          0.1415   \n",
      "3   M   0.440     0.365   0.125        0.5160          0.2155          0.1140   \n",
      "4   I   0.330     0.255   0.080        0.2050          0.0895          0.0395   \n",
      "\n",
      "   shell_weight  rings  \n",
      "0         0.150     15  \n",
      "1         0.070      7  \n",
      "2         0.210      9  \n",
      "3         0.155     10  \n",
      "4         0.055      7  \n"
     ]
    }
   ],
   "source": [
    "print(abalone.head())"
   ]
  },
  {
   "cell_type": "code",
   "execution_count": 18,
   "id": "09935e71-7246-4057-be63-654a8444c17f",
   "metadata": {},
   "outputs": [
    {
     "data": {
      "text/plain": [
       "array([[-0.57455813, -0.64189823],\n",
       "       [-1.44898585, -1.23027711],\n",
       "       [ 0.05003309, -0.30946926],\n",
       "       ...,\n",
       "       [ 0.6329849 ,  0.70821206],\n",
       "       [ 0.84118198,  0.54199757],\n",
       "       [ 1.54905203,  2.28368063]])"
      ]
     },
     "execution_count": 18,
     "metadata": {},
     "output_type": "execute_result"
    }
   ],
   "source": [
    "# Return only the length and whole_weight features\n",
    "abalone_lw = abalone[['length','whole_weight']]\n",
    "\n",
    "# Define a standardization scaler to transform values\n",
    "standard_scaler = StandardScaler()\n",
    "\n",
    "# Apply scaler and view result\n",
    "standard_scaler.fit_transform(abalone_lw)"
   ]
  },
  {
   "cell_type": "code",
   "execution_count": 5,
   "id": "5e030339-ad36-4938-9b93-850ffab49fc7",
   "metadata": {},
   "outputs": [],
   "source": [
    "# Define a normalization scaler to transform values\n",
    "minmax_scaler = MinMaxScaler()\n",
    "\n",
    "# Apply scaler and view result\n",
    "minmax_scaler.fit_transform(abalone_lw)"
   ]
  },
  {
   "cell_type": "code",
   "execution_count": 24,
   "id": "cc5b5a20-cf3c-4b1b-8153-f5aa6128a2c6",
   "metadata": {},
   "outputs": [
    {
     "name": "stdout",
     "output_type": "stream",
     "text": [
      "               count      mean       std    min     25%     50%    75%     max\n",
      "length        4177.0  0.523992  0.120093  0.075  0.4500  0.5450  0.615  0.8150\n",
      "whole_weight  4177.0  0.828742  0.490389  0.002  0.4415  0.7995  1.153  2.8255\n"
     ]
    }
   ],
   "source": [
    "print(abalone_lw.describe().T)"
   ]
  },
  {
   "cell_type": "code",
   "execution_count": 25,
   "id": "5172d592-f19b-4084-a3e0-959264bda9e6",
   "metadata": {},
   "outputs": [
    {
     "name": "stdout",
     "output_type": "stream",
     "text": [
      "        length  whole_weight\n",
      "0    -0.574558     -0.641898\n",
      "1    -1.448986     -1.230277\n",
      "2     0.050033     -0.309469\n",
      "3    -0.699476     -0.637819\n",
      "4    -1.615544     -1.272086\n",
      "...        ...           ...\n",
      "4172  0.341509      0.118813\n",
      "4173  0.549706      0.279929\n",
      "4174  0.632985      0.708212\n",
      "4175  0.841182      0.541998\n",
      "4176  1.549052      2.283681\n",
      "\n",
      "[4177 rows x 2 columns]\n"
     ]
    }
   ],
   "source": [
    "# Display standardized result as a dataframe\n",
    "abalone_standardized = pd.DataFrame(standard_scaler.fit_transform(abalone_lw), columns=['length','whole_weight'])\n",
    "print(abalone_standardized)"
   ]
  },
  {
   "cell_type": "code",
   "execution_count": 26,
   "id": "eb41e5d2-c012-4ba1-97c1-e8c3ab8068ba",
   "metadata": {},
   "outputs": [
    {
     "name": "stdout",
     "output_type": "stream",
     "text": [
      "        length  whole_weight\n",
      "0     0.513514      0.181335\n",
      "1     0.371622      0.079157\n",
      "2     0.614865      0.239065\n",
      "3     0.493243      0.182044\n",
      "4     0.344595      0.071897\n",
      "...        ...           ...\n",
      "4172  0.662162      0.313441\n",
      "4173  0.695946      0.341420\n",
      "4174  0.709459      0.415796\n",
      "4175  0.743243      0.386931\n",
      "4176  0.858108      0.689393\n",
      "\n",
      "[4177 rows x 2 columns]\n"
     ]
    }
   ],
   "source": [
    "# Display normalized result as a dataframe\n",
    "abalone_normalized = pd.DataFrame(minmax_scaler.fit_transform(abalone_lw), columns=['length','whole_weight'])\n",
    "print(abalone_normalized)"
   ]
  },
  {
   "cell_type": "code",
   "execution_count": 8,
   "id": "b1e9eb64-1761-491b-bcfb-68feeca6383f",
   "metadata": {},
   "outputs": [
    {
     "data": {
      "text/plain": [
       "array([0.5239921 , 0.82874216])"
      ]
     },
     "execution_count": 8,
     "metadata": {},
     "output_type": "execute_result"
    }
   ],
   "source": [
    "standard_scaler.mean_"
   ]
  },
  {
   "cell_type": "code",
   "execution_count": 9,
   "id": "303dd4d1-e9c2-4c6c-af16-078832807340",
   "metadata": {},
   "outputs": [
    {
     "data": {
      "text/plain": [
       "array([0.01441885, 0.24042382])"
      ]
     },
     "execution_count": 9,
     "metadata": {},
     "output_type": "execute_result"
    }
   ],
   "source": [
    "standard_scaler.var_"
   ]
  },
  {
   "cell_type": "code",
   "execution_count": 10,
   "id": "94530876-a77a-4dd7-b988-f03bc41d3f10",
   "metadata": {},
   "outputs": [
    {
     "data": {
      "text/plain": [
       "array([0.075, 0.002])"
      ]
     },
     "execution_count": 10,
     "metadata": {},
     "output_type": "execute_result"
    }
   ],
   "source": [
    "minmax_scaler.data_min_"
   ]
  },
  {
   "cell_type": "code",
   "execution_count": 11,
   "id": "1c43a621-b74d-4bf0-afd3-dad81e542894",
   "metadata": {},
   "outputs": [
    {
     "data": {
      "text/plain": [
       "array([0.815 , 2.8255])"
      ]
     },
     "execution_count": 11,
     "metadata": {},
     "output_type": "execute_result"
    }
   ],
   "source": [
    "minmax_scaler.data_max_"
   ]
  },
  {
   "cell_type": "code",
   "execution_count": 12,
   "id": "3e15682f-484b-4e54-abb7-6521b38085d6",
   "metadata": {},
   "outputs": [
    {
     "data": {
      "text/plain": [
       "array([0.74  , 2.8235])"
      ]
     },
     "execution_count": 12,
     "metadata": {},
     "output_type": "execute_result"
    }
   ],
   "source": [
    "minmax_scaler.data_range_"
   ]
  }
 ],
 "metadata": {
  "kernelspec": {
   "display_name": "Python 3 (ipykernel)",
   "language": "python",
   "name": "python3"
  },
  "language_info": {
   "codemirror_mode": {
    "name": "ipython",
    "version": 3
   },
   "file_extension": ".py",
   "mimetype": "text/x-python",
   "name": "python",
   "nbconvert_exporter": "python",
   "pygments_lexer": "ipython3",
   "version": "3.9.12"
  }
 },
 "nbformat": 4,
 "nbformat_minor": 5
}
