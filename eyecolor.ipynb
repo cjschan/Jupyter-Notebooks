{
 "cells": [
  {
   "cell_type": "code",
   "execution_count": 1,
   "id": "aa556ce5-268c-4b80-aecf-587ea280dab9",
   "metadata": {},
   "outputs": [
    {
     "name": "stdout",
     "output_type": "stream",
     "text": [
      "                 Generalized Linear Model Regression Results                  \n",
      "==============================================================================\n",
      "Dep. Variable:               eyecolor   No. Observations:                 2052\n",
      "Model:                            GLM   Df Residuals:                     2050\n",
      "Model Family:                Binomial   Df Model:                            1\n",
      "Link Function:                  logit   Scale:                          1.0000\n",
      "Method:                          IRLS   Log-Likelihood:                -1319.8\n",
      "Date:                Thu, 02 Jun 2022   Deviance:                       2639.6\n",
      "Time:                        09:23:28   Pearson chi2:                 2.04e+03\n",
      "No. Iterations:                     6                                         \n",
      "Covariance Type:            nonrobust                                         \n",
      "==============================================================================\n",
      "                 coef    std err          z      P>|z|      [0.025      0.975]\n",
      "------------------------------------------------------------------------------\n",
      "const         -0.4976      0.051     -9.673      0.000      -0.598      -0.397\n",
      "miles         -0.0418      0.011     -3.705      0.000      -0.064      -0.020\n",
      "==============================================================================\n",
      "const    0.607979\n",
      "miles    0.959108\n",
      "dtype: float64\n",
      "              0        1\n",
      "const  0.549665  0.67248\n",
      "miles  0.938153  0.98053\n"
     ]
    },
    {
     "name": "stderr",
     "output_type": "stream",
     "text": [
      "/opt/anaconda3/lib/python3.9/site-packages/statsmodels/tsa/tsatools.py:142: FutureWarning: In a future version of pandas all arguments of concat except for the argument 'objs' will be keyword-only\n",
      "  x = pd.concat(x[::order], 1)\n"
     ]
    }
   ],
   "source": [
    "import pandas as pd\n",
    "import scipy.stats as stats\n",
    "import statsmodels.api as sm\n",
    "from statsmodels.tools import add_constant \n",
    "import numpy as np\n",
    "\n",
    "eyecolor = pd.read_csv('http://static-resources.zybooks.com/eyecolorgenderdata.csv')\n",
    "blueeyes = eyecolor.eyecolor == \"blue\"\n",
    "\n",
    "Y = np.multiply(blueeyes, 1)\n",
    "X = eyecolor.miles / 100\n",
    "X = add_constant(X)\n",
    "\n",
    "EYEmod1 = sm.GLM(Y, X, family=sm.families.Binomial(), missing = 'drop').fit()\n",
    "print(EYEmod1.summary())\n",
    "\n",
    "exp_coef = np.exp(EYEmod1.params)\n",
    "print(exp_coef)\n",
    "\n",
    "exp_conf = np.exp(EYEmod1.conf_int())\n",
    "print(exp_conf)"
   ]
  },
  {
   "cell_type": "code",
   "execution_count": null,
   "id": "d0025b90-35e9-43ab-a86b-2ebd5abd5c06",
   "metadata": {},
   "outputs": [],
   "source": []
  }
 ],
 "metadata": {
  "kernelspec": {
   "display_name": "Python 3 (ipykernel)",
   "language": "python",
   "name": "python3"
  },
  "language_info": {
   "codemirror_mode": {
    "name": "ipython",
    "version": 3
   },
   "file_extension": ".py",
   "mimetype": "text/x-python",
   "name": "python",
   "nbconvert_exporter": "python",
   "pygments_lexer": "ipython3",
   "version": "3.9.7"
  }
 },
 "nbformat": 4,
 "nbformat_minor": 5
}
