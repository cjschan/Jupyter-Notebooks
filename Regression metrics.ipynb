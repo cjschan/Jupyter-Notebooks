{
 "cells": [
  {
   "cell_type": "code",
   "execution_count": 1,
   "id": "7b6efd53-374d-410a-961e-aba7e7e62ca4",
   "metadata": {},
   "outputs": [],
   "source": [
    "# Import packages\n",
    "import pandas as pd\n",
    "import numpy as np\n",
    "from sklearn import metrics\n",
    "import matplotlib.pyplot as plt\n",
    "from sklearn.linear_model import LinearRegression\n",
    "from sklearn.preprocessing import PolynomialFeatures\n",
    "from sklearn.model_selection import train_test_split"
   ]
  },
  {
   "cell_type": "code",
   "execution_count": 2,
   "id": "f07051e1-e030-4c45-86bf-273715b0f8e9",
   "metadata": {},
   "outputs": [],
   "source": [
    "# Load tortoise data\n",
    "tortoise = pd.read_csv(\"tortoise.csv\")"
   ]
  },
  {
   "cell_type": "code",
   "execution_count": 3,
   "id": "61234470-8ac0-4af2-8f71-2814078346d6",
   "metadata": {},
   "outputs": [],
   "source": [
    "# Store relevant columns as variables\n",
    "X = tortoise[\"Length\"]\n",
    "y = tortoise[\"Clutch\"]"
   ]
  },
  {
   "cell_type": "code",
   "execution_count": 4,
   "id": "7f52034f-f306-40a3-bf94-74b1bbba70b4",
   "metadata": {},
   "outputs": [],
   "source": [
    "# Split data into train and test sets\n",
    "X_train, X_test, y_train, y_test = train_test_split(X, y, test_size = 0.3, random_state = 123)"
   ]
  },
  {
   "cell_type": "code",
   "execution_count": 5,
   "id": "880988a2-5966-43b8-b977-ee328bb717c8",
   "metadata": {},
   "outputs": [],
   "source": [
    "# Create a linear model using the training set and predictions using the test set\n",
    "X_test = np.asarray(X_test)\n",
    "y_test = np.asarray(y_test)\n",
    "linModel = LinearRegression()\n",
    "linModel.fit(X_train.values.reshape(-1, 1),y_train.values.reshape(-1, 1))\n",
    "y_pred = np.ravel(linModel.predict(X_test.reshape(-1,1)))"
   ]
  },
  {
   "cell_type": "code",
   "execution_count": 6,
   "id": "051523af-8fc3-487c-b7b6-1a75ead62904",
   "metadata": {},
   "outputs": [
    {
     "data": {
      "image/png": "[encoded data removed]",
      "text/plain": [
       "<Figure size 432x288 with 1 Axes>"
      ]
     },
     "metadata": {
      "needs_background": "light"
     },
     "output_type": "display_data"
    }
   ],
   "source": [
    "# Display linear model and scatter plot of the test set\n",
    "plt.scatter(X_test, y_test)\n",
    "plt.xlabel(\"Length (mm)\",fontsize=14)\n",
    "plt.ylabel(\"Clutch size\",fontsize=14)\n",
    "plt.plot(X_test,y_pred,color='red')\n",
    "plt.ylim([0, 14])\n",
    "for i in range(5):\n",
    "    plt.plot([X_test[i],X_test[i]],[y_test[i],y_pred[i]],color='grey',linewidth = 2)"
   ]
  },
  {
   "cell_type": "code",
   "execution_count": 7,
   "id": "c70b4de8-2964-4d1d-9c8a-67e27f064c28",
   "metadata": {},
   "outputs": [
    {
     "data": {
      "text/plain": [
       "13.769920706476412"
      ]
     },
     "execution_count": 7,
     "metadata": {},
     "output_type": "execute_result"
    }
   ],
   "source": [
    "# Display MSE\n",
    "metrics.mean_squared_error(y_test, y_pred)"
   ]
  },
  {
   "cell_type": "code",
   "execution_count": 8,
   "id": "bd671842-623e-472f-85c0-dfa8006064b6",
   "metadata": {},
   "outputs": [
    {
     "data": {
      "text/plain": [
       "3.7107843788714554"
      ]
     },
     "execution_count": 8,
     "metadata": {},
     "output_type": "execute_result"
    }
   ],
   "source": [
    "# Display RMSE\n",
    "metrics.mean_squared_error(y_test, y_pred, squared=False)"
   ]
  },
  {
   "cell_type": "code",
   "execution_count": 9,
   "id": "d5e0eec6-5fd4-494e-81af-57fcdeb7d09d",
   "metadata": {},
   "outputs": [
    {
     "data": {
      "text/plain": [
       "3.132264529058116"
      ]
     },
     "execution_count": 9,
     "metadata": {},
     "output_type": "execute_result"
    }
   ],
   "source": [
    "# Display MAE\n",
    "metrics.mean_absolute_error(y_test, y_pred)"
   ]
  },
  {
   "cell_type": "code",
   "execution_count": 10,
   "id": "763f7b1e-c473-4114-bb5c-6d4f1d378ee7",
   "metadata": {},
   "outputs": [],
   "source": [
    "# Create a quadratic model using the training set and predictions using the test set\n",
    "X_train = np.asarray(X_train)\n",
    "y_train = np.asarray(y_train)\n",
    "poly = PolynomialFeatures().fit_transform(X_train.reshape(-1,1))\n",
    "poly_reg_model = LinearRegression().fit(poly,y_train)\n",
    "poly_test = PolynomialFeatures().fit_transform(X_test.reshape(-1,1))\n",
    "y_pred = poly_reg_model.predict(poly_test)"
   ]
  },
  {
   "cell_type": "code",
   "execution_count": 11,
   "id": "2b1eea41-49dd-4d2c-99fc-298a58705048",
   "metadata": {},
   "outputs": [
    {
     "data": {
      "image/png": "[encoded data removed]",
      "text/plain": [
       "<Figure size 432x288 with 1 Axes>"
      ]
     },
     "metadata": {
      "needs_background": "light"
     },
     "output_type": "display_data"
    }
   ],
   "source": [
    "# Display quadratic model and scatter plot of the test set\n",
    "plt.scatter(X_test, y_test)\n",
    "plt.xlabel(\"Length (mm)\",fontsize=14)\n",
    "plt.ylabel(\"Clutch size\",fontsize=14)\n",
    "x = np.linspace(X_test.min(),X_test.max(),100)\n",
    "y = poly_reg_model.coef_[2]*x**2 + poly_reg_model.coef_[1]*x + poly_reg_model.intercept_\n",
    "plt.plot(x,y,color='red',linewidth=2)\n",
    "plt.ylim([0, 14])\n",
    "for i in range(5):\n",
    "    plt.plot([X_test[i],X_test[i]],[y_test[i],y_pred[i]],color='grey',linewidth = 2)"
   ]
  },
  {
   "cell_type": "code",
   "execution_count": 12,
   "id": "09613ce6-0460-4a85-96ad-915b26ff3176",
   "metadata": {},
   "outputs": [
    {
     "data": {
      "text/plain": [
       "7.90595691858314"
      ]
     },
     "execution_count": 12,
     "metadata": {},
     "output_type": "execute_result"
    }
   ],
   "source": [
    "# Display MSE\n",
    "metrics.mean_squared_error(y_test, y_pred)"
   ]
  },
  {
   "cell_type": "code",
   "execution_count": 13,
   "id": "f76eace3-36d8-4901-9c21-6069c23a0aa9",
   "metadata": {},
   "outputs": [
    {
     "data": {
      "text/plain": [
       "2.811753353084715"
      ]
     },
     "execution_count": 13,
     "metadata": {},
     "output_type": "execute_result"
    }
   ],
   "source": [
    "# Display RMSE\n",
    "metrics.mean_squared_error(y_test, y_pred, squared=False)"
   ]
  },
  {
   "cell_type": "code",
   "execution_count": 14,
   "id": "c707018f-6f5f-449f-909c-18c4593d7e7f",
   "metadata": {},
   "outputs": [
    {
     "data": {
      "text/plain": [
       "2.6860332375257485"
      ]
     },
     "execution_count": 14,
     "metadata": {},
     "output_type": "execute_result"
    }
   ],
   "source": [
    "# Display MAE\n",
    "metrics.mean_absolute_error(y_test, y_pred)"
   ]
  }
 ],
 "metadata": {
  "kernelspec": {
   "display_name": "Python 3 (ipykernel)",
   "language": "python",
   "name": "python3"
  },
  "language_info": {
   "codemirror_mode": {
    "name": "ipython",
    "version": 3
   },
   "file_extension": ".py",
   "mimetype": "text/x-python",
   "name": "python",
   "nbconvert_exporter": "python",
   "pygments_lexer": "ipython3",
   "version": "3.9.12"
  }
 },
 "nbformat": 4,
 "nbformat_minor": 5
}
