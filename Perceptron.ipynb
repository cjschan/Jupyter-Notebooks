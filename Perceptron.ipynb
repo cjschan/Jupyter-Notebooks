{
 "cells": [
  {
   "cell_type": "code",
   "execution_count": 1,
   "id": "5ee7e37a-7f92-4eb9-8ca1-cc93796ac2e0",
   "metadata": {},
   "outputs": [],
   "source": [
    "import numpy as np\n",
    "import pandas as pd\n",
    "from sklearn.linear_model import Perceptron\n",
    "import warnings\n",
    "warnings.filterwarnings('ignore')"
   ]
  },
  {
   "cell_type": "code",
   "execution_count": 2,
   "id": "40a89a7f-05e8-4275-a046-0b75c0ea065e",
   "metadata": {},
   "outputs": [],
   "source": [
    "andGate = pd.DataFrame([[0,0,0],[1,0,0],[0,1,0],[1,1,1]], columns=[\"x1\",\"x2\",\"y\"])"
   ]
  },
  {
   "cell_type": "code",
   "execution_count": 3,
   "id": "a4b6abf7-6bb6-40a6-9666-983d883e954c",
   "metadata": {},
   "outputs": [
    {
     "data": {
      "text/html": [
       "<div>\n",
       "<style scoped>\n",
       "    .dataframe tbody tr th:only-of-type {\n",
       "        vertical-align: middle;\n",
       "    }\n",
       "\n",
       "    .dataframe tbody tr th {\n",
       "        vertical-align: top;\n",
       "    }\n",
       "\n",
       "    .dataframe thead th {\n",
       "        text-align: right;\n",
       "    }\n",
       "</style>\n",
       "<table border=\"1\" class=\"dataframe\">\n",
       "  <thead>\n",
       "    <tr style=\"text-align: right;\">\n",
       "      <th></th>\n",
       "      <th>x1</th>\n",
       "      <th>x2</th>\n",
       "      <th>y</th>\n",
       "    </tr>\n",
       "  </thead>\n",
       "  <tbody>\n",
       "    <tr>\n",
       "      <th>0</th>\n",
       "      <td>0</td>\n",
       "      <td>0</td>\n",
       "      <td>0</td>\n",
       "    </tr>\n",
       "    <tr>\n",
       "      <th>1</th>\n",
       "      <td>1</td>\n",
       "      <td>0</td>\n",
       "      <td>0</td>\n",
       "    </tr>\n",
       "    <tr>\n",
       "      <th>2</th>\n",
       "      <td>0</td>\n",
       "      <td>1</td>\n",
       "      <td>0</td>\n",
       "    </tr>\n",
       "    <tr>\n",
       "      <th>3</th>\n",
       "      <td>1</td>\n",
       "      <td>1</td>\n",
       "      <td>1</td>\n",
       "    </tr>\n",
       "  </tbody>\n",
       "</table>\n",
       "</div>"
      ],
      "text/plain": [
       "   x1  x2  y\n",
       "0   0   0  0\n",
       "1   1   0  0\n",
       "2   0   1  0\n",
       "3   1   1  1"
      ]
     },
     "execution_count": 3,
     "metadata": {},
     "output_type": "execute_result"
    }
   ],
   "source": [
    "andGate"
   ]
  },
  {
   "cell_type": "code",
   "execution_count": 4,
   "id": "cf04086a-9827-4453-9ff4-56ffc365d031",
   "metadata": {},
   "outputs": [],
   "source": [
    "# returns weighted sum\n",
    "def weightedSum(w1,w2,b,x1,x2):\n",
    "    return w1*x1 + w2*x2 + b\n",
    "\n",
    "# gives output of unit step function\n",
    "def unitStep(z):\n",
    "    if z >= 0: \n",
    "        return 1\n",
    "    else:\n",
    "        return 0\n",
    "\n",
    "# returns weights after 1 epoch\n",
    "def perceptron(r,w1,w2,b):\n",
    "    for i in range(4):\n",
    "        x1 = andGate.iloc[i][0]\n",
    "        x2 = andGate.iloc[i][1]\n",
    "        z = weightedSum(w1,w2,b,x1,x2)\n",
    "        yHat = unitStep(z)\n",
    "        y = andGate.iloc[i][2]\n",
    "        if y != yHat:\n",
    "            w1 = w1 + r*(y-yHat)*x1\n",
    "            w2 = w2 + r*(y-yHat)*x2\n",
    "            b = b + r*(y-yHat)\n",
    "        weights = [w1,w2,b]\n",
    "    return weights\n",
    "\n",
    "# predictions for the inputs\n",
    "def predAND(w1,w2,b):\n",
    "    pred = []\n",
    "    for i in range(4): \n",
    "        x1 = andGate.iloc[i][0]\n",
    "        x2 = andGate.iloc[i][1]\n",
    "        z = weightedSum(w1,w2,b,x1,x2)\n",
    "        y = unitStep(z)\n",
    "        pred.append(y)\n",
    "    return pred\n",
    "\n",
    "# weight after n epochs\n",
    "def epochWeight(n,r,w1,w2,b):\n",
    "    for j in range(n):\n",
    "        weights = perceptron(r,w1,w2,b)\n",
    "        w1 = round(weights[0],1)\n",
    "        w2 = round(weights[1],1)\n",
    "        b = round(weights[2],1)\n",
    "    weights = [w1,w2,b]\n",
    "    return weights\n",
    "\n",
    "# weight with no classification errors for AND gate\n",
    "def getWeights(r,w1,w2,b):\n",
    "    i = 1\n",
    "    pred = predAND(w1,w2,b)\n",
    "    while pred != [0,0,0,1]:\n",
    "        wt = epochWeight(i,r,w1,w2,b)\n",
    "        pred = predAND(wt[0], wt[1], wt[2])\n",
    "        i = i+1\n",
    "    return wt"
   ]
  },
  {
   "cell_type": "code",
   "execution_count": 5,
   "id": "1e2b8d83-efc9-460e-867b-b749eb0cb5d9",
   "metadata": {},
   "outputs": [],
   "source": [
    "w1 = round(np.random.random(),1)\n",
    "w2 = round(np.random.random(),1)\n",
    "b = round(np.random.random(),1)\n",
    "r = 0.1"
   ]
  },
  {
   "cell_type": "code",
   "execution_count": 6,
   "id": "213fc2ca-9c65-4f58-982d-859d2e6d6c4a",
   "metadata": {},
   "outputs": [
    {
     "name": "stdout",
     "output_type": "stream",
     "text": [
      "[0.8, 0.7, 0.9]\n",
      "[0.7, 0.6, 0.6]\n",
      "[0.6, 0.5, 0.3]\n",
      "[0.5, 0.4, -0.0]\n",
      "[0.4, 0.3, -0.3]\n"
     ]
    }
   ],
   "source": [
    "for i in range(5):\n",
    "    print(epochWeight(i,r,w1,w2,b))"
   ]
  },
  {
   "cell_type": "code",
   "execution_count": 7,
   "id": "e6803ae4-d21f-4483-b5f0-f8c03aa542c9",
   "metadata": {},
   "outputs": [
    {
     "data": {
      "text/plain": [
       "[0.3, 0.3, -0.4]"
      ]
     },
     "execution_count": 7,
     "metadata": {},
     "output_type": "execute_result"
    }
   ],
   "source": [
    "getWeights(r,w1,w2,b)"
   ]
  },
  {
   "cell_type": "code",
   "execution_count": 8,
   "id": "bd7fc390-da5e-4c2e-935d-cca8b55a3449",
   "metadata": {},
   "outputs": [],
   "source": [
    "orGate = pd.DataFrame([[0,0,0],[1,0,1],[0,1,1],[1,1,1]], columns=[\"x1\",\"x2\",\"y\"])"
   ]
  },
  {
   "cell_type": "code",
   "execution_count": 9,
   "id": "2d7bda21-d9ea-40df-b34b-f62b5424a9da",
   "metadata": {},
   "outputs": [],
   "source": [
    "w1 = 0.8\n",
    "w2 = 0.1\n",
    "b = -0.7\n",
    "r = 0.2"
   ]
  },
  {
   "cell_type": "code",
   "execution_count": 12,
   "id": "6c4c8fb0-22f0-4492-83b4-f61e58ce7cf0",
   "metadata": {},
   "outputs": [],
   "source": [
    "# returns weights after 1 epoch\n",
    "def perceptronOR(r,w1,w2,b):\n",
    "    for i in range(4):\n",
    "        x1 = orGate.iloc[i][0]\n",
    "        x2 = orGate.iloc[i][1]\n",
    "        z = weightedSum(w1,w2,b,x1,x2)\n",
    "        yHat = unitStep(z)\n",
    "        y = orGate.iloc[i][2]\n",
    "        if y != yHat:\n",
    "            w1 = w1 + r*(y-yHat)*x1\n",
    "            w2 = w2 + r*(y-yHat)*x2\n",
    "            b = b + r*(y-yHat)\n",
    "        weights = [w1,w2,b]\n",
    "    return weights\n",
    "\n",
    "# predictions for the inputs\n",
    "def predOR(w1,w2,b):\n",
    "    predOR = []\n",
    "    for i in range(4): \n",
    "        x1 = orGate.iloc[i][0]\n",
    "        x2 = orGate.iloc[i][1]\n",
    "        z = weightedSum(w1,w2,b,x1,x2)\n",
    "        y = unitStep(z)\n",
    "        predOR.append(y)\n",
    "    return predOR\n",
    "\n",
    "# weight after n epochs\n",
    "def epochWeight(n,r,w1,w2,b):\n",
    "    for j in range(n):\n",
    "        weights = perceptronOR(r,w1,w2,b)\n",
    "        w1 = round(weights[0],1)\n",
    "        w2 = round(weights[1],1)\n",
    "        b = round(weights[2],1)\n",
    "    weights = [w1,w2,b]\n",
    "    return weights"
   ]
  },
  {
   "cell_type": "code",
   "execution_count": 13,
   "id": "2bff5fba-0c28-41b4-8d68-055c86a1a06a",
   "metadata": {},
   "outputs": [
    {
     "name": "stdout",
     "output_type": "stream",
     "text": [
      "[0.8, 0.1, -0.7]\n",
      "[0.8, 0.3, -0.5]\n",
      "[0.8, 0.5, -0.3]\n",
      "[0.8, 0.5, -0.3]\n",
      "[0.8, 0.5, -0.3]\n"
     ]
    }
   ],
   "source": [
    "for i in range(5):\n",
    "    print(epochWeight(i,r,w1,w2,b))"
   ]
  },
  {
   "cell_type": "code",
   "execution_count": null,
   "id": "e35f5ea5-6bbe-429a-98f7-bf9f293454f8",
   "metadata": {},
   "outputs": [],
   "source": []
  }
 ],
 "metadata": {
  "kernelspec": {
   "display_name": "Python 3 (ipykernel)",
   "language": "python",
   "name": "python3"
  },
  "language_info": {
   "codemirror_mode": {
    "name": "ipython",
    "version": 3
   },
   "file_extension": ".py",
   "mimetype": "text/x-python",
   "name": "python",
   "nbconvert_exporter": "python",
   "pygments_lexer": "ipython3",
   "version": "3.9.12"
  }
 },
 "nbformat": 4,
 "nbformat_minor": 5
}
