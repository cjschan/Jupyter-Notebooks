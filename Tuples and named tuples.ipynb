{
 "cells": [
  {
   "cell_type": "code",
   "execution_count": 1,
   "id": "f21e73f6-46fb-4dfe-b839-3afbcdc142a6",
   "metadata": {},
   "outputs": [],
   "source": [
    "# Load namedtuple class\n",
    "from collections import namedtuple"
   ]
  },
  {
   "cell_type": "code",
   "execution_count": 2,
   "id": "68bcb6dd-b06d-4569-b10c-6170d79f1b62",
   "metadata": {},
   "outputs": [],
   "source": [
    "# Create a tuple\n",
    "whiteHouse = (38.8977, 77.0366)"
   ]
  },
  {
   "cell_type": "code",
   "execution_count": 3,
   "id": "f9653680-e21c-4afc-93bc-cecbcf388e52",
   "metadata": {},
   "outputs": [
    {
     "name": "stdout",
     "output_type": "stream",
     "text": [
      "Coordinates: (38.8977, 77.0366)\n",
      "Latitude: 38.8977\n",
      "Longitude: 77.0366\n",
      "Tuple length: 2\n"
     ]
    }
   ],
   "source": [
    "# Print tuple elements and length \n",
    "print('Coordinates:', whiteHouse)\n",
    "print('Latitude:', whiteHouse[0])\n",
    "print('Longitude:', whiteHouse[1])\n",
    "print('Tuple length:', len(whiteHouse))"
   ]
  },
  {
   "cell_type": "code",
   "execution_count": 4,
   "id": "2d57c267-9969-4835-9aad-e2c393d602d2",
   "metadata": {},
   "outputs": [],
   "source": [
    "# The commented line below produces an error\n",
    "# whiteHouse[1] = 50"
   ]
  },
  {
   "cell_type": "code",
   "execution_count": 5,
   "id": "56d329fc-da14-4ea2-885e-a42d34864cee",
   "metadata": {},
   "outputs": [
    {
     "data": {
      "text/plain": [
       "Car(make='Chevrolet', model='Blazer', price=32000, horsepower=275, seats=8)"
      ]
     },
     "execution_count": 5,
     "metadata": {},
     "output_type": "execute_result"
    }
   ],
   "source": [
    "# Create a named tuple type Car and object chevyBlazer\n",
    "Car = namedtuple('Car', ['make','model','price','horsepower','seats'])  \n",
    "chevyBlazer = Car('Chevrolet', 'Blazer', 32000, 275, 8) \n",
    "chevyBlazer"
   ]
  },
  {
   "cell_type": "code",
   "execution_count": 6,
   "id": "32913a24-e535-4c85-86b5-71847aa7c379",
   "metadata": {},
   "outputs": [
    {
     "data": {
      "text/plain": [
       "32000"
      ]
     },
     "execution_count": 6,
     "metadata": {},
     "output_type": "execute_result"
    }
   ],
   "source": [
    "# Display the chevyBlazer's price\n",
    "chevyBlazer.price"
   ]
  }
 ],
 "metadata": {
  "kernelspec": {
   "display_name": "Python 3 (ipykernel)",
   "language": "python",
   "name": "python3"
  },
  "language_info": {
   "codemirror_mode": {
    "name": "ipython",
    "version": 3
   },
   "file_extension": ".py",
   "mimetype": "text/x-python",
   "name": "python",
   "nbconvert_exporter": "python",
   "pygments_lexer": "ipython3",
   "version": "3.9.7"
  }
 },
 "nbformat": 4,
 "nbformat_minor": 5
}
