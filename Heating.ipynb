{
 "cells": [
  {
   "cell_type": "code",
   "execution_count": 2,
   "metadata": {},
   "outputs": [
    {
     "name": "stdout",
     "output_type": "stream",
     "text": [
      "0        NaN\n",
      "1        NaN\n",
      "2        NaN\n",
      "3     119.00\n",
      "4     120.50\n",
      "5     120.75\n",
      "6     121.00\n",
      "7     123.50\n",
      "8     124.75\n",
      "9     124.75\n",
      "10    124.75\n",
      "11    122.75\n",
      "12    120.25\n",
      "Name: Expense, dtype: float64\n"
     ]
    }
   ],
   "source": [
    "import pandas as pd\n",
    "from sklearn.metrics import mean_absolute_error, mean_squared_error\n",
    "\n",
    "ts = pd.read_csv(\"https://s3-us-west-2.amazonaws.com/static-resources.zybooks.com/Heating.csv\")\n",
    "\n",
    "expense = pd.Series(ts[\"Expense\"])\n",
    "\n",
    "mov_ave = expense.rolling(window=4, center=False).mean()\n",
    "\n",
    "print(mov_ave)"
   ]
  },
  {
   "cell_type": "code",
   "execution_count": null,
   "metadata": {},
   "outputs": [],
   "source": []
  }
 ],
 "metadata": {
  "kernelspec": {
   "display_name": "Python 3 (ipykernel)",
   "language": "python",
   "name": "python3"
  },
  "language_info": {
   "codemirror_mode": {
    "name": "ipython",
    "version": 3
   },
   "file_extension": ".py",
   "mimetype": "text/x-python",
   "name": "python",
   "nbconvert_exporter": "python",
   "pygments_lexer": "ipython3",
   "version": "3.9.7"
  }
 },
 "nbformat": 4,
 "nbformat_minor": 4
}
