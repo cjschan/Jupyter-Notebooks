{
 "cells": [
  {
   "cell_type": "code",
   "execution_count": 154,
   "metadata": {},
   "outputs": [],
   "source": [
    "import numpy as np\n",
    "import matplotlib.pyplot as plt\n",
    "import pandas as pd\n",
    "from apyori import apriori"
   ]
  },
  {
   "cell_type": "code",
   "execution_count": 189,
   "metadata": {},
   "outputs": [],
   "source": [
    "shopping = pd.read_csv(\"/Users/cjschan/Desktop/shopping.csv\", header=None)"
   ]
  },
  {
   "cell_type": "code",
   "execution_count": 173,
   "metadata": {},
   "outputs": [
    {
     "data": {
      "text/html": [
       "<div>\n",
       "<style scoped>\n",
       "    .dataframe tbody tr th:only-of-type {\n",
       "        vertical-align: middle;\n",
       "    }\n",
       "\n",
       "    .dataframe tbody tr th {\n",
       "        vertical-align: top;\n",
       "    }\n",
       "\n",
       "    .dataframe thead th {\n",
       "        text-align: right;\n",
       "    }\n",
       "</style>\n",
       "<table border=\"1\" class=\"dataframe\">\n",
       "  <thead>\n",
       "    <tr style=\"text-align: right;\">\n",
       "      <th></th>\n",
       "      <th>0</th>\n",
       "      <th>1</th>\n",
       "      <th>2</th>\n",
       "      <th>3</th>\n",
       "      <th>4</th>\n",
       "      <th>5</th>\n",
       "    </tr>\n",
       "  </thead>\n",
       "  <tbody>\n",
       "    <tr>\n",
       "      <th>0</th>\n",
       "      <td>banana</td>\n",
       "      <td>soda</td>\n",
       "      <td>hamburgers</td>\n",
       "      <td>buns</td>\n",
       "      <td>potato chips</td>\n",
       "      <td>ice</td>\n",
       "    </tr>\n",
       "    <tr>\n",
       "      <th>1</th>\n",
       "      <td>cucumber</td>\n",
       "      <td>cream cheese</td>\n",
       "      <td>yogurt</td>\n",
       "      <td>ice</td>\n",
       "      <td></td>\n",
       "      <td></td>\n",
       "    </tr>\n",
       "    <tr>\n",
       "      <th>2</th>\n",
       "      <td>green pepper</td>\n",
       "      <td>rice</td>\n",
       "      <td>steak</td>\n",
       "      <td>eggs</td>\n",
       "      <td></td>\n",
       "      <td></td>\n",
       "    </tr>\n",
       "    <tr>\n",
       "      <th>3</th>\n",
       "      <td>carrots</td>\n",
       "      <td>lettuce</td>\n",
       "      <td>eggs</td>\n",
       "      <td>strawberries</td>\n",
       "      <td>whipped cream</td>\n",
       "      <td></td>\n",
       "    </tr>\n",
       "    <tr>\n",
       "      <th>4</th>\n",
       "      <td>potatoes</td>\n",
       "      <td>soda</td>\n",
       "      <td>ice</td>\n",
       "      <td>bread</td>\n",
       "      <td>newspaper</td>\n",
       "      <td></td>\n",
       "    </tr>\n",
       "    <tr>\n",
       "      <th>5</th>\n",
       "      <td>avocado</td>\n",
       "      <td>strawberries</td>\n",
       "      <td>onion</td>\n",
       "      <td>whipped cream</td>\n",
       "      <td>flowers</td>\n",
       "      <td></td>\n",
       "    </tr>\n",
       "    <tr>\n",
       "      <th>6</th>\n",
       "      <td>eggs</td>\n",
       "      <td>ice</td>\n",
       "      <td>buns</td>\n",
       "      <td>potato chips</td>\n",
       "      <td>hamburgers</td>\n",
       "      <td></td>\n",
       "    </tr>\n",
       "    <tr>\n",
       "      <th>7</th>\n",
       "      <td>ice</td>\n",
       "      <td>fabric softener</td>\n",
       "      <td>dog food</td>\n",
       "      <td></td>\n",
       "      <td></td>\n",
       "      <td></td>\n",
       "    </tr>\n",
       "  </tbody>\n",
       "</table>\n",
       "</div>"
      ],
      "text/plain": [
       "              0                1           2              3              4  \\\n",
       "0        banana             soda  hamburgers           buns   potato chips   \n",
       "1      cucumber     cream cheese      yogurt            ice                  \n",
       "2  green pepper             rice       steak           eggs                  \n",
       "3       carrots          lettuce        eggs   strawberries  whipped cream   \n",
       "4      potatoes             soda         ice          bread      newspaper   \n",
       "5       avocado     strawberries       onion  whipped cream        flowers   \n",
       "6          eggs              ice        buns   potato chips     hamburgers   \n",
       "7           ice  fabric softener    dog food                                 \n",
       "\n",
       "     5  \n",
       "0  ice  \n",
       "1       \n",
       "2       \n",
       "3       \n",
       "4       \n",
       "5       \n",
       "6       \n",
       "7       "
      ]
     },
     "execution_count": 173,
     "metadata": {},
     "output_type": "execute_result"
    }
   ],
   "source": [
    "shopping"
   ]
  },
  {
   "cell_type": "code",
   "execution_count": 183,
   "metadata": {},
   "outputs": [],
   "source": [
    "records = []\n",
    "for i in range(0, 8):\n",
    "    records.append([str(shopping.values[i,j]) for j in range(0, 6)])"
   ]
  },
  {
   "cell_type": "code",
   "execution_count": 184,
   "metadata": {},
   "outputs": [
    {
     "data": {
      "text/plain": [
       "[['banana', 'soda', 'hamburgers', 'buns', 'potato chips', 'ice'],\n",
       " ['cucumber', 'cream cheese', 'yogurt', 'ice', '', ''],\n",
       " ['green pepper', 'rice', 'steak', 'eggs', '', ''],\n",
       " ['carrots', 'lettuce', 'eggs', 'strawberries', 'whipped cream', ''],\n",
       " ['potatoes', 'soda', 'ice', 'bread', 'newspaper', ''],\n",
       " ['avocado', 'strawberries', 'onion', 'whipped cream', 'flowers', ''],\n",
       " ['eggs', 'ice', 'buns', 'potato chips', 'hamburgers', ''],\n",
       " ['ice', 'fabric softener', 'dog food', '', '', '']]"
      ]
     },
     "execution_count": 184,
     "metadata": {},
     "output_type": "execute_result"
    }
   ],
   "source": [
    "records"
   ]
  },
  {
   "cell_type": "code",
   "execution_count": 185,
   "metadata": {},
   "outputs": [],
   "source": [
    "records2 = []\n",
    "for x in records:\n",
    "    records2.append(list(filter(None, x)))"
   ]
  },
  {
   "cell_type": "code",
   "execution_count": 186,
   "metadata": {},
   "outputs": [
    {
     "data": {
      "text/plain": [
       "[['banana', 'soda', 'hamburgers', 'buns', 'potato chips', 'ice'],\n",
       " ['cucumber', 'cream cheese', 'yogurt', 'ice'],\n",
       " ['green pepper', 'rice', 'steak', 'eggs'],\n",
       " ['carrots', 'lettuce', 'eggs', 'strawberries', 'whipped cream'],\n",
       " ['potatoes', 'soda', 'ice', 'bread', 'newspaper'],\n",
       " ['avocado', 'strawberries', 'onion', 'whipped cream', 'flowers'],\n",
       " ['eggs', 'ice', 'buns', 'potato chips', 'hamburgers'],\n",
       " ['ice', 'fabric softener', 'dog food']]"
      ]
     },
     "execution_count": 186,
     "metadata": {},
     "output_type": "execute_result"
    }
   ],
   "source": [
    "records2"
   ]
  },
  {
   "cell_type": "code",
   "execution_count": 187,
   "metadata": {},
   "outputs": [],
   "source": [
    "association_rules = apriori(records, min_support=0.0045, min_confidence=0.2, min_lift=3, min_length=2)\n",
    "association_results = list(association_rules)"
   ]
  },
  {
   "cell_type": "code",
   "execution_count": 188,
   "metadata": {},
   "outputs": [
    {
     "data": {
      "text/plain": [
       "RelationRecord(items=frozenset({'flowers', 'avocado'}), support=0.125, ordered_statistics=[OrderedStatistic(items_base=frozenset({'avocado'}), items_add=frozenset({'flowers'}), confidence=1.0, lift=8.0), OrderedStatistic(items_base=frozenset({'flowers'}), items_add=frozenset({'avocado'}), confidence=1.0, lift=8.0)])"
      ]
     },
     "execution_count": 188,
     "metadata": {},
     "output_type": "execute_result"
    }
   ],
   "source": [
    "association_results[0]"
   ]
  },
  {
   "cell_type": "code",
   "execution_count": null,
   "metadata": {},
   "outputs": [],
   "source": []
  }
 ],
 "metadata": {
  "kernelspec": {
   "display_name": "Python 3 (ipykernel)",
   "language": "python",
   "name": "python3"
  },
  "language_info": {
   "codemirror_mode": {
    "name": "ipython",
    "version": 3
   },
   "file_extension": ".py",
   "mimetype": "text/x-python",
   "name": "python",
   "nbconvert_exporter": "python",
   "pygments_lexer": "ipython3",
   "version": "3.9.7"
  }
 },
 "nbformat": 4,
 "nbformat_minor": 4
}
