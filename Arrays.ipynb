{
 "cells": [
  {
   "cell_type": "code",
   "execution_count": 1,
   "id": "7dbef033-add2-4930-aa1f-ebf2e46c1a72",
   "metadata": {},
   "outputs": [],
   "source": [
    "# Load NumPy package\n",
    "import numpy as np"
   ]
  },
  {
   "cell_type": "code",
   "execution_count": 2,
   "id": "fb63be33-5645-4a54-83c5-1c577b09a7b0",
   "metadata": {},
   "outputs": [],
   "source": [
    "# Create two-dimensional array\n",
    "myArray = np.array([[10, 20, 30], [210, 220, 230]])"
   ]
  },
  {
   "cell_type": "code",
   "execution_count": 3,
   "id": "4ad9ecfa-ddd9-4e85-9d0e-e3bf93ad70dc",
   "metadata": {},
   "outputs": [
    {
     "data": {
      "text/plain": [
       "array([[ 10,  20,  30],\n",
       "       [210, 220, 230]])"
      ]
     },
     "execution_count": 3,
     "metadata": {},
     "output_type": "execute_result"
    }
   ],
   "source": [
    "# Displays the array\n",
    "myArray"
   ]
  },
  {
   "cell_type": "code",
   "execution_count": 4,
   "id": "1b0801b6-418d-46dd-af09-9b6690627f88",
   "metadata": {},
   "outputs": [
    {
     "data": {
      "text/plain": [
       "(2, 3)"
      ]
     },
     "execution_count": 4,
     "metadata": {},
     "output_type": "execute_result"
    }
   ],
   "source": [
    "# Displays the shape\n",
    "myArray.shape"
   ]
  },
  {
   "cell_type": "code",
   "execution_count": 5,
   "id": "5dfdb27c-feec-456c-a24f-b8eff0b36854",
   "metadata": {},
   "outputs": [
    {
     "data": {
      "text/plain": [
       "6"
      ]
     },
     "execution_count": 5,
     "metadata": {},
     "output_type": "execute_result"
    }
   ],
   "source": [
    "# Displays the size\n",
    "myArray.size"
   ]
  }
 ],
 "metadata": {
  "kernelspec": {
   "display_name": "Python 3 (ipykernel)",
   "language": "python",
   "name": "python3"
  },
  "language_info": {
   "codemirror_mode": {
    "name": "ipython",
    "version": 3
   },
   "file_extension": ".py",
   "mimetype": "text/x-python",
   "name": "python",
   "nbconvert_exporter": "python",
   "pygments_lexer": "ipython3",
   "version": "3.9.7"
  }
 },
 "nbformat": 4,
 "nbformat_minor": 5
}
