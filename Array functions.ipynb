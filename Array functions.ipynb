{
 "cells": [
  {
   "cell_type": "code",
   "execution_count": 1,
   "id": "faedf7a0-4842-4af0-a571-3b26f628db30",
   "metadata": {},
   "outputs": [],
   "source": [
    "# Load NumPy package\n",
    "import numpy as np"
   ]
  },
  {
   "cell_type": "code",
   "execution_count": 2,
   "id": "83f546a1-0602-42e9-a771-cffd9b5d60ae",
   "metadata": {},
   "outputs": [],
   "source": [
    "# Create array\n",
    "array1 = np.array([['a', 'a'], ['b', 'b'], ['c', 'c']])"
   ]
  },
  {
   "cell_type": "code",
   "execution_count": 3,
   "id": "6dc00c66-4f46-4914-906b-810e7ab2a7f7",
   "metadata": {},
   "outputs": [
    {
     "data": {
      "text/plain": [
       "array([['a', 'a'],\n",
       "       ['b', 'b'],\n",
       "       ['c', 'c'],\n",
       "       ['z', 'z']], dtype='<U1')"
      ]
     },
     "execution_count": 3,
     "metadata": {},
     "output_type": "execute_result"
    }
   ],
   "source": [
    "# Insert 'z's in row 3\n",
    "np.insert(array1, 3, 'z', axis=0)"
   ]
  },
  {
   "cell_type": "code",
   "execution_count": 4,
   "id": "b5377eb4-8533-4eb9-ab31-303502887cea",
   "metadata": {},
   "outputs": [
    {
     "data": {
      "text/plain": [
       "array([['a', '0', 'a'],\n",
       "       ['b', '0', 'b'],\n",
       "       ['c', '0', 'c']], dtype='<U1')"
      ]
     },
     "execution_count": 4,
     "metadata": {},
     "output_type": "execute_result"
    }
   ],
   "source": [
    "# Insert 0s in column 1\n",
    "np.insert(array1, 1, '0', axis=1)"
   ]
  },
  {
   "cell_type": "code",
   "execution_count": 5,
   "id": "629c6427-3042-4815-9693-556e62b43346",
   "metadata": {},
   "outputs": [
    {
     "data": {
      "text/plain": [
       "array([['a', 'a'],\n",
       "       ['c', 'c']], dtype='<U1')"
      ]
     },
     "execution_count": 5,
     "metadata": {},
     "output_type": "execute_result"
    }
   ],
   "source": [
    "# Delete row 1\n",
    "np.delete(array1, 1, axis=0)"
   ]
  },
  {
   "cell_type": "code",
   "execution_count": 6,
   "id": "f82d8b43-62df-480e-817f-1213123aa75d",
   "metadata": {},
   "outputs": [
    {
     "data": {
      "text/plain": [
       "array([0., 0., 0.])"
      ]
     },
     "execution_count": 6,
     "metadata": {},
     "output_type": "execute_result"
    }
   ],
   "source": [
    "# Returns array with 3 zeros\n",
    "np.zeros(3)"
   ]
  },
  {
   "cell_type": "code",
   "execution_count": 7,
   "id": "b6732266-f5a1-49ad-b2bd-b14658ae71a2",
   "metadata": {},
   "outputs": [],
   "source": [
    "# Creates another array\n",
    "array2 = np.array(['z','b','a','d','c'])"
   ]
  },
  {
   "cell_type": "code",
   "execution_count": 8,
   "id": "d4703da7-db1d-4f5b-b71a-eb7a4bc2c8a1",
   "metadata": {},
   "outputs": [
    {
     "data": {
      "text/plain": [
       "array(['z', 'b', 'a', 'd', 'c'], dtype='<U1')"
      ]
     },
     "execution_count": 8,
     "metadata": {},
     "output_type": "execute_result"
    }
   ],
   "source": [
    "# Displays the other array\n",
    "array2"
   ]
  },
  {
   "cell_type": "code",
   "execution_count": 9,
   "id": "b37d245b-edb8-4bfb-ab3f-010daecf5dc4",
   "metadata": {},
   "outputs": [
    {
     "data": {
      "text/plain": [
       "array(['a', 'b', 'c', 'd', 'z'], dtype='<U1')"
      ]
     },
     "execution_count": 9,
     "metadata": {},
     "output_type": "execute_result"
    }
   ],
   "source": [
    "# Sorts array2\n",
    "np.sort(array2, None)"
   ]
  },
  {
   "cell_type": "code",
   "execution_count": 10,
   "id": "59c1d5fd-71e7-4694-95a4-551d618e7ce2",
   "metadata": {},
   "outputs": [
    {
     "data": {
      "text/plain": [
       "array(['z', 'a', 'd', 'c'], dtype='<U1')"
      ]
     },
     "execution_count": 10,
     "metadata": {},
     "output_type": "execute_result"
    }
   ],
   "source": [
    "# Deletes array element with index 1\n",
    "np.delete(array2,1)"
   ]
  }
 ],
 "metadata": {
  "kernelspec": {
   "display_name": "Python 3 (ipykernel)",
   "language": "python",
   "name": "python3"
  },
  "language_info": {
   "codemirror_mode": {
    "name": "ipython",
    "version": 3
   },
   "file_extension": ".py",
   "mimetype": "text/x-python",
   "name": "python",
   "nbconvert_exporter": "python",
   "pygments_lexer": "ipython3",
   "version": "3.9.7"
  }
 },
 "nbformat": 4,
 "nbformat_minor": 5
}
