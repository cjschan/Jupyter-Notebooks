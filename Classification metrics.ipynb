{
 "cells": [
  {
   "cell_type": "code",
   "execution_count": 1,
   "id": "b6eb933d-f981-4d3c-a2d2-06df74d62d87",
   "metadata": {},
   "outputs": [],
   "source": [
    "# Import packages\n",
    "import pandas as pd\n",
    "import numpy as np\n",
    "import matplotlib.pyplot as plt\n",
    "from sklearn import metrics\n",
    "from sklearn.linear_model import LogisticRegression\n",
    "from sklearn.model_selection import train_test_split"
   ]
  },
  {
   "cell_type": "code",
   "execution_count": 2,
   "id": "724337ce-1e15-4376-9b4a-db27a9905b01",
   "metadata": {},
   "outputs": [],
   "source": [
    "# Load the Wisconsin Breast Cancer dataset\n",
    "WBCD = pd.read_csv('WisconsinBreastCancerDatabase.csv')"
   ]
  },
  {
   "cell_type": "code",
   "execution_count": 3,
   "id": "5843b013-ac7e-422e-a544-ded95e8306bd",
   "metadata": {},
   "outputs": [],
   "source": [
    "# Convert Diagnosis to 0 and 1\n",
    "WBCD.loc[WBCD['Diagnosis']=='B','Diagnosis']=0\n",
    "WBCD.loc[WBCD['Diagnosis']=='M','Diagnosis']=1"
   ]
  },
  {
   "cell_type": "code",
   "execution_count": 4,
   "id": "82cdf225-4df6-4953-a4c0-31fb8b7a6b4b",
   "metadata": {},
   "outputs": [],
   "source": [
    "# Store relevant columns as variables\n",
    "X = WBCD[['Radius mean']].values.reshape(-1, 1)\n",
    "y = WBCD[['Diagnosis']].values.reshape(-1, 1).astype(int)"
   ]
  },
  {
   "cell_type": "code",
   "execution_count": 5,
   "id": "4e650f9e-e590-4aa0-a32d-9f6ae559d90c",
   "metadata": {},
   "outputs": [],
   "source": [
    "# Split data into train and test sets\n",
    "X_train, X_test, y_train, y_test = train_test_split(X, y, test_size = 0.3, random_state = 123)"
   ]
  },
  {
   "cell_type": "code",
   "execution_count": 6,
   "id": "1cae94f6-9b36-4771-aa7e-76f54d1b13a8",
   "metadata": {},
   "outputs": [
    {
     "data": {
      "text/plain": [
       "LogisticRegression()"
      ]
     },
     "execution_count": 6,
     "metadata": {},
     "output_type": "execute_result"
    }
   ],
   "source": [
    "# Logistic regression predicting diagnosis from tumor radius\n",
    "logisticModel = LogisticRegression()\n",
    "logisticModel.fit(X_train,np.ravel(y_train.astype(int)))"
   ]
  },
  {
   "cell_type": "code",
   "execution_count": 7,
   "id": "ebd783a8-2f78-4d94-98ff-779f5ddaa0cd",
   "metadata": {},
   "outputs": [
    {
     "data": {
      "image/png": "[encoded data removed]",
      "text/plain": [
       "<Figure size 432x288 with 1 Axes>"
      ]
     },
     "metadata": {
      "needs_background": "light"
     },
     "output_type": "display_data"
    }
   ],
   "source": [
    "# Graph logistic regression probabilities\n",
    "plt.scatter(X_test,y_test)\n",
    "x_prob = np.linspace(X_test.min(),X_test.max(),1000)\n",
    "y_prob = logisticModel.predict_proba(x_prob.reshape(-1,1))[:,1]\n",
    "plt.plot(x_prob,y_prob, color='red')\n",
    "plt.xlabel('Radius mean',fontsize=14);\n",
    "plt.ylabel('Probability of malignant tumor',fontsize=14);"
   ]
  },
  {
   "cell_type": "code",
   "execution_count": 8,
   "id": "9c794820-091e-4256-83f5-5d2fb294db21",
   "metadata": {},
   "outputs": [],
   "source": [
    "# Predict the probabilities for the test set\n",
    "p_hat = logisticModel.predict_proba(X_test)"
   ]
  },
  {
   "cell_type": "code",
   "execution_count": 9,
   "id": "773f2564-5d1e-4edd-86b0-28a77ffdc182",
   "metadata": {},
   "outputs": [],
   "source": [
    "# Display the log-loss\n",
    "metrics.log_loss(y_test, p_hat)"
   ]
  },
  {
   "cell_type": "code",
   "execution_count": 10,
   "id": "5cd39ad4-7cd1-42de-9782-353cda1c7355",
   "metadata": {},
   "outputs": [
    {
     "data": {
      "text/plain": [
       "array([[9.76146551e-01, 2.38534487e-02],\n",
       "       [9.94617609e-01, 5.38239091e-03],\n",
       "       [7.06725024e-02, 9.29327498e-01],\n",
       "       [8.75688374e-01, 1.24311626e-01],\n",
       "       [2.94226857e-02, 9.70577314e-01],\n",
       "       [4.80718479e-01, 5.19281521e-01],\n",
       "       [9.55717737e-01, 4.42822626e-02],\n",
       "       [9.60903420e-01, 3.90965801e-02],\n",
       "       [4.23824107e-01, 5.76175893e-01],\n",
       "       [9.65835168e-01, 3.41648324e-02],\n",
       "       [6.62086829e-01, 3.37913171e-01],\n",
       "       [1.09432546e-01, 8.90567454e-01],\n",
       "       [9.24285522e-01, 7.57144785e-02],\n",
       "       [9.15451194e-01, 8.45488065e-02],\n",
       "       [5.15693120e-01, 4.84306880e-01],\n",
       "       [9.38887643e-01, 6.11123567e-02],\n",
       "       [9.03969575e-01, 9.60304249e-02],\n",
       "       [9.30991550e-01, 6.90084502e-02],\n",
       "       [9.18495288e-01, 8.15047122e-02],\n",
       "       [9.48432893e-01, 5.15671067e-02],\n",
       "       [1.36507074e-03, 9.98634929e-01],\n",
       "       [8.22349360e-01, 1.77650640e-01],\n",
       "       [7.15557689e-01, 2.84442311e-01],\n",
       "       [9.96081533e-01, 3.91846653e-03],\n",
       "       [7.46963607e-01, 2.53036393e-01],\n",
       "       [1.44717563e-01, 8.55282437e-01],\n",
       "       [2.32040691e-01, 7.67959309e-01],\n",
       "       [9.58981716e-01, 4.10182836e-02],\n",
       "       [2.48458360e-01, 7.51541640e-01],\n",
       "       [9.74211713e-01, 2.57882873e-02],\n",
       "       [9.24982166e-01, 7.50178339e-02],\n",
       "       [9.90999047e-01, 9.00095329e-03],\n",
       "       [8.88169900e-01, 1.11830100e-01],\n",
       "       [9.59373155e-01, 4.06268446e-02],\n",
       "       [5.62849653e-01, 4.37150347e-01],\n",
       "       [9.32265068e-01, 6.77349315e-02],\n",
       "       [5.50514713e-01, 4.49485287e-01],\n",
       "       [9.42781672e-01, 5.72183282e-02],\n",
       "       [9.41693515e-01, 5.83064853e-02],\n",
       "       [7.20541817e-03, 9.92794582e-01],\n",
       "       [4.65767111e-01, 5.34232889e-01],\n",
       "       [7.01102426e-01, 2.98897574e-01],\n",
       "       [5.03202031e-01, 4.96797969e-01],\n",
       "       [9.23582942e-01, 7.64170580e-02],\n",
       "       [3.06413710e-01, 6.93586290e-01],\n",
       "       [8.89158993e-01, 1.10841007e-01],\n",
       "       [3.59189217e-03, 9.96408108e-01],\n",
       "       [1.95876862e-06, 9.99998041e-01],\n",
       "       [2.91746211e-01, 7.08253789e-01],\n",
       "       [6.25428980e-01, 3.74571020e-01],\n",
       "       [7.67178908e-01, 2.32821092e-01],\n",
       "       [1.17520423e-03, 9.98824796e-01],\n",
       "       [8.60836881e-01, 1.39163119e-01],\n",
       "       [9.12304261e-01, 8.76957385e-02],\n",
       "       [7.81157654e-01, 2.18842346e-01],\n",
       "       [1.82913316e-01, 8.17086684e-01],\n",
       "       [9.37730322e-01, 6.22696778e-02],\n",
       "       [2.47299425e-04, 9.99752701e-01],\n",
       "       [9.70096416e-03, 9.90299036e-01],\n",
       "       [8.10363020e-01, 1.89636980e-01],\n",
       "       [4.99120453e-02, 9.50087955e-01],\n",
       "       [9.63095557e-01, 3.69044434e-02],\n",
       "       [9.63799648e-01, 3.62003520e-02],\n",
       "       [9.84655688e-01, 1.53443119e-02],\n",
       "       [9.29039664e-01, 7.09603364e-02],\n",
       "       [3.52126200e-05, 9.99964787e-01],\n",
       "       [9.94547587e-01, 5.45241336e-03],\n",
       "       [9.74461682e-01, 2.55383182e-02],\n",
       "       [9.98820828e-01, 1.17917207e-03],\n",
       "       [6.70974434e-01, 3.29025566e-01],\n",
       "       [9.90999047e-01, 9.00095329e-03],\n",
       "       [9.80575798e-01, 1.94242025e-02],\n",
       "       [4.60795629e-01, 5.39204371e-01],\n",
       "       [8.76772545e-01, 1.23227455e-01],\n",
       "       [3.23668436e-01, 6.76331564e-01],\n",
       "       [9.33516763e-01, 6.64832368e-02],\n",
       "       [7.77720479e-01, 2.22279521e-01],\n",
       "       [1.12918955e-03, 9.98870810e-01],\n",
       "       [6.20147423e-02, 9.37985258e-01],\n",
       "       [4.89724040e-02, 9.51027596e-01],\n",
       "       [9.09874978e-01, 9.01250219e-02],\n",
       "       [2.37427890e-01, 7.62572110e-01],\n",
       "       [1.33094925e-02, 9.86690507e-01],\n",
       "       [9.83069741e-01, 1.69302591e-02],\n",
       "       [9.32265068e-01, 6.77349315e-02],\n",
       "       [9.92691046e-01, 7.30895435e-03],\n",
       "       [6.04125259e-01, 3.95874741e-01],\n",
       "       [9.49402033e-01, 5.05979667e-02],\n",
       "       [3.78237303e-01, 6.21762697e-01],\n",
       "       [8.81028244e-01, 1.18971756e-01],\n",
       "       [8.43208956e-01, 1.56791044e-01],\n",
       "       [9.00441769e-01, 9.95582307e-02],\n",
       "       [9.66488809e-01, 3.35111907e-02],\n",
       "       [2.42405228e-04, 9.99757595e-01],\n",
       "       [8.43208956e-01, 1.56791044e-01],\n",
       "       [9.78785912e-01, 2.12140878e-02],\n",
       "       [8.19409581e-01, 1.80590419e-01],\n",
       "       [8.76772545e-01, 1.23227455e-01],\n",
       "       [9.62738590e-01, 3.72614101e-02],\n",
       "       [9.95914192e-01, 4.08580842e-03],\n",
       "       [9.56556239e-01, 4.34437609e-02],\n",
       "       [9.98148489e-01, 1.85151060e-03],\n",
       "       [9.53553464e-01, 4.64465360e-02],\n",
       "       [8.71269573e-01, 1.28730427e-01],\n",
       "       [9.84655688e-01, 1.53443119e-02],\n",
       "       [9.98243868e-01, 1.75613172e-03],\n",
       "       [9.75912666e-01, 2.40873339e-02],\n",
       "       [9.75676545e-01, 2.43234552e-02],\n",
       "       [9.98280289e-01, 1.71971120e-03],\n",
       "       [8.95870260e-01, 1.04129740e-01],\n",
       "       [9.94734077e-01, 5.26592311e-03],\n",
       "       [8.53494547e-01, 1.46505453e-01],\n",
       "       [9.57785627e-01, 4.22143733e-02],\n",
       "       [9.65196314e-02, 9.03480369e-01],\n",
       "       [6.77561185e-01, 3.22438815e-01],\n",
       "       [2.97095158e-02, 9.70290484e-01],\n",
       "       [9.40024830e-01, 5.99751695e-02],\n",
       "       [3.06413710e-01, 6.93586290e-01],\n",
       "       [9.41693515e-01, 5.83064853e-02],\n",
       "       [8.78916515e-01, 1.21083485e-01],\n",
       "       [7.13518582e-01, 2.86481418e-01],\n",
       "       [9.47446218e-01, 5.25537819e-02],\n",
       "       [9.34746946e-01, 6.52530535e-02],\n",
       "       [8.82072116e-01, 1.17927884e-01],\n",
       "       [1.07499160e-01, 8.92500840e-01],\n",
       "       [8.16432014e-01, 1.83567986e-01],\n",
       "       [3.78237303e-01, 6.21762697e-01],\n",
       "       [7.58131912e-01, 2.41868088e-01],\n",
       "       [9.34134524e-01, 6.58654757e-02],\n",
       "       [9.65503751e-01, 3.44962487e-02],\n",
       "       [1.56213598e-01, 8.43786402e-01],\n",
       "       [8.88169900e-01, 1.11830100e-01],\n",
       "       [9.94924328e-01, 5.07567207e-03],\n",
       "       [9.07385232e-01, 9.26147681e-02],\n",
       "       [2.13024393e-01, 7.86975607e-01],\n",
       "       [9.90447948e-01, 9.55205200e-03],\n",
       "       [5.38117338e-01, 4.61882662e-01],\n",
       "       [9.68984633e-01, 3.10153666e-02],\n",
       "       [1.10410632e-01, 8.89589368e-01],\n",
       "       [1.17064544e-02, 9.88293546e-01],\n",
       "       [3.73788686e-03, 9.96262113e-01],\n",
       "       [8.90140420e-01, 1.09859580e-01],\n",
       "       [2.62582765e-04, 9.99737417e-01],\n",
       "       [9.68378080e-01, 3.16219196e-02],\n",
       "       [4.74662800e-03, 9.95253372e-01],\n",
       "       [9.73447432e-01, 2.65525681e-02],\n",
       "       [5.94523147e-01, 4.05476853e-01],\n",
       "       [2.85782176e-02, 9.71421782e-01],\n",
       "       [9.63449233e-01, 3.65507667e-02],\n",
       "       [2.11485974e-05, 9.99978851e-01],\n",
       "       [8.71269573e-01, 1.28730427e-01],\n",
       "       [8.64390963e-01, 1.35609037e-01],\n",
       "       [9.83722586e-01, 1.62774143e-02],\n",
       "       [9.98044041e-01, 1.95595875e-03],\n",
       "       [8.93990275e-01, 1.06009725e-01],\n",
       "       [9.96550566e-01, 3.44943363e-03],\n",
       "       [4.45208325e-02, 9.55479168e-01],\n",
       "       [2.18200688e-03, 9.97817993e-01],\n",
       "       [3.12824241e-01, 6.87175759e-01],\n",
       "       [8.13416532e-01, 1.86583468e-01],\n",
       "       [5.10698163e-01, 4.89301837e-01],\n",
       "       [8.52240088e-01, 1.47759912e-01],\n",
       "       [4.06833003e-01, 5.93166997e-01],\n",
       "       [1.32777894e-01, 8.67222106e-01],\n",
       "       [9.68984633e-01, 3.10153666e-02],\n",
       "       [9.55292720e-01, 4.47072802e-02],\n",
       "       [9.99657668e-01, 3.42332171e-04],\n",
       "       [2.14705141e-01, 7.85294859e-01],\n",
       "       [1.62075192e-02, 9.83792481e-01],\n",
       "       [5.40182268e-03, 9.94598177e-01],\n",
       "       [9.82217409e-01, 1.77825905e-02]])"
      ]
     },
     "execution_count": 10,
     "metadata": {},
     "output_type": "execute_result"
    }
   ],
   "source": [
    "p_hat"
   ]
  },
  {
   "cell_type": "code",
   "execution_count": 19,
   "id": "363a26b7-77ed-4da8-96c9-2e56f60f10c0",
   "metadata": {},
   "outputs": [
    {
     "data": {
      "text/plain": [
       "0.023853448653461104"
      ]
     },
     "execution_count": 19,
     "metadata": {},
     "output_type": "execute_result"
    }
   ],
   "source": [
    "logisticModel.predict_proba(X_test)[0][1]"
   ]
  },
  {
   "cell_type": "code",
   "execution_count": 13,
   "id": "3345142e-c65d-4a00-b83a-944a7057d0c3",
   "metadata": {},
   "outputs": [
    {
     "data": {
      "text/plain": [
       "array([0])"
      ]
     },
     "execution_count": 13,
     "metadata": {},
     "output_type": "execute_result"
    }
   ],
   "source": [
    "y_test[0]"
   ]
  },
  {
   "cell_type": "code",
   "execution_count": 17,
   "id": "c789cf58-2494-405a-83c5-f606f2e42190",
   "metadata": {},
   "outputs": [
    {
     "data": {
      "text/plain": [
       "array([14.05])"
      ]
     },
     "execution_count": 17,
     "metadata": {},
     "output_type": "execute_result"
    }
   ],
   "source": [
    "X_test[120]"
   ]
  },
  {
   "cell_type": "code",
   "execution_count": 18,
   "id": "fed577e9-952c-471f-aa24-293599c5c320",
   "metadata": {},
   "outputs": [
    {
     "data": {
      "text/plain": [
       "array([0])"
      ]
     },
     "execution_count": 18,
     "metadata": {},
     "output_type": "execute_result"
    }
   ],
   "source": [
    "y_test[120]"
   ]
  },
  {
   "cell_type": "code",
   "execution_count": 31,
   "id": "679997a8-d35e-4ed9-9169-cc762d282026",
   "metadata": {},
   "outputs": [],
   "source": [
    "loss_sum = 0\n",
    "for i in range(len(X_test)): \n",
    "    loss_sum = loss_sum + np.abs(y_test[i][0] - p_hat[i][1])"
   ]
  },
  {
   "cell_type": "code",
   "execution_count": 32,
   "id": "a2e4041c-0926-41f6-8865-e2a6a90eee7d",
   "metadata": {},
   "outputs": [
    {
     "data": {
      "text/plain": [
       "0.9822174094775677"
      ]
     },
     "execution_count": 32,
     "metadata": {},
     "output_type": "execute_result"
    }
   ],
   "source": [
    "y_test[170][0] - p_hat[170][1]"
   ]
  },
  {
   "cell_type": "code",
   "execution_count": 33,
   "id": "9ab30943-0010-443f-b25d-4344b4bd3b4e",
   "metadata": {},
   "outputs": [
    {
     "data": {
      "text/plain": [
       "1"
      ]
     },
     "execution_count": 33,
     "metadata": {},
     "output_type": "execute_result"
    }
   ],
   "source": [
    "y_test[170][0]"
   ]
  },
  {
   "cell_type": "code",
   "execution_count": 34,
   "id": "a1781603-0a17-424b-9c1d-1699b327b17c",
   "metadata": {},
   "outputs": [
    {
     "data": {
      "text/plain": [
       "0.01778259052243221"
      ]
     },
     "execution_count": 34,
     "metadata": {},
     "output_type": "execute_result"
    }
   ],
   "source": [
    "p_hat[170][1]"
   ]
  },
  {
   "cell_type": "code",
   "execution_count": 35,
   "id": "b0ee687b-5ec2-47e6-aaed-e76309350b20",
   "metadata": {},
   "outputs": [
    {
     "data": {
      "text/plain": [
       "-0.28648141834808377"
      ]
     },
     "execution_count": 35,
     "metadata": {},
     "output_type": "execute_result"
    }
   ],
   "source": [
    "y_test[120][0] - p_hat[120][1]"
   ]
  },
  {
   "cell_type": "code",
   "execution_count": 36,
   "id": "5d48d022-2b4f-4885-ba5a-7aadf696ce46",
   "metadata": {},
   "outputs": [
    {
     "data": {
      "text/plain": [
       "0.18269930363477052"
      ]
     },
     "execution_count": 36,
     "metadata": {},
     "output_type": "execute_result"
    }
   ],
   "source": [
    "loss_sum/171"
   ]
  },
  {
   "cell_type": "code",
   "execution_count": 37,
   "id": "a10952f9-e59f-4646-a898-a097e270d170",
   "metadata": {},
   "outputs": [
    {
     "data": {
      "text/plain": [
       "array([0])"
      ]
     },
     "execution_count": 37,
     "metadata": {},
     "output_type": "execute_result"
    }
   ],
   "source": [
    "y_test[59]"
   ]
  },
  {
   "cell_type": "code",
   "execution_count": 38,
   "id": "8f2db4c5-c8b9-4d17-ba77-14dbfdb51fff",
   "metadata": {},
   "outputs": [
    {
     "data": {
      "text/plain": [
       "array([0.81036302, 0.18963698])"
      ]
     },
     "execution_count": 38,
     "metadata": {},
     "output_type": "execute_result"
    }
   ],
   "source": [
    "p_hat[59]"
   ]
  },
  {
   "cell_type": "code",
   "execution_count": 39,
   "id": "e61a9a4b-7a5f-4b0d-ae66-5f62caf90275",
   "metadata": {},
   "outputs": [
    {
     "data": {
      "text/plain": [
       "array([13.51])"
      ]
     },
     "execution_count": 39,
     "metadata": {},
     "output_type": "execute_result"
    }
   ],
   "source": [
    "X_test[59]"
   ]
  },
  {
   "cell_type": "code",
   "execution_count": 41,
   "id": "9571e14d-2880-4261-a9db-c3a2e3f4d31b",
   "metadata": {},
   "outputs": [
    {
     "ename": "NameError",
     "evalue": "name 'y_pred' is not defined",
     "output_type": "error",
     "traceback": [
      "\u001b[0;31m---------------------------------------------------------------------------\u001b[0m",
      "\u001b[0;31mNameError\u001b[0m                                 Traceback (most recent call last)",
      "Input \u001b[0;32mIn [41]\u001b[0m, in \u001b[0;36m<cell line: 1>\u001b[0;34m()\u001b[0m\n\u001b[0;32m----> 1\u001b[0m y_test \u001b[38;5;241m==\u001b[39m \u001b[43my_pred\u001b[49m\n",
      "\u001b[0;31mNameError\u001b[0m: name 'y_pred' is not defined"
     ]
    }
   ],
   "source": [
    "y_test == y_pred"
   ]
  },
  {
   "cell_type": "code",
   "execution_count": 47,
   "id": "6e3e7b48-224e-46d2-8561-50605800cb8d",
   "metadata": {},
   "outputs": [],
   "source": [
    "test1 = pd.DataFrame(X_test)"
   ]
  },
  {
   "cell_type": "code",
   "execution_count": 50,
   "id": "06546d9a-db72-4614-a5cc-1d16d6bfcb8b",
   "metadata": {},
   "outputs": [
    {
     "ename": "ValueError",
     "evalue": "Expected a 1D array, got an array with shape (171, 2)",
     "output_type": "error",
     "traceback": [
      "\u001b[0;31m---------------------------------------------------------------------------\u001b[0m",
      "\u001b[0;31mValueError\u001b[0m                                Traceback (most recent call last)",
      "Input \u001b[0;32mIn [50]\u001b[0m, in \u001b[0;36m<cell line: 1>\u001b[0;34m()\u001b[0m\n\u001b[0;32m----> 1\u001b[0m \u001b[43mtest1\u001b[49m\u001b[38;5;241;43m.\u001b[39;49m\u001b[43minsert\u001b[49m\u001b[43m(\u001b[49m\u001b[43mvalue\u001b[49m\u001b[38;5;241;43m=\u001b[39;49m\u001b[43mp_hat\u001b[49m\u001b[43m,\u001b[49m\u001b[43mcolumn\u001b[49m\u001b[38;5;241;43m=\u001b[39;49m\u001b[38;5;124;43m\"\u001b[39;49m\u001b[38;5;124;43mprob\u001b[39;49m\u001b[38;5;124;43m\"\u001b[39;49m\u001b[43m,\u001b[49m\u001b[43mloc\u001b[49m\u001b[38;5;241;43m=\u001b[39;49m\u001b[38;5;241;43m1\u001b[39;49m\u001b[43m)\u001b[49m\n",
      "File \u001b[0;32m~/opt/anaconda3/lib/python3.9/site-packages/pandas/core/frame.py:4445\u001b[0m, in \u001b[0;36mDataFrame.insert\u001b[0;34m(self, loc, column, value, allow_duplicates)\u001b[0m\n\u001b[1;32m   4442\u001b[0m     \u001b[38;5;28;01mraise\u001b[39;00m \u001b[38;5;167;01mTypeError\u001b[39;00m(\u001b[38;5;124m\"\u001b[39m\u001b[38;5;124mloc must be int\u001b[39m\u001b[38;5;124m\"\u001b[39m)\n\u001b[1;32m   4444\u001b[0m value \u001b[38;5;241m=\u001b[39m \u001b[38;5;28mself\u001b[39m\u001b[38;5;241m.\u001b[39m_sanitize_column(value)\n\u001b[0;32m-> 4445\u001b[0m \u001b[38;5;28;43mself\u001b[39;49m\u001b[38;5;241;43m.\u001b[39;49m\u001b[43m_mgr\u001b[49m\u001b[38;5;241;43m.\u001b[39;49m\u001b[43minsert\u001b[49m\u001b[43m(\u001b[49m\u001b[43mloc\u001b[49m\u001b[43m,\u001b[49m\u001b[43m \u001b[49m\u001b[43mcolumn\u001b[49m\u001b[43m,\u001b[49m\u001b[43m \u001b[49m\u001b[43mvalue\u001b[49m\u001b[43m)\u001b[49m\n",
      "File \u001b[0;32m~/opt/anaconda3/lib/python3.9/site-packages/pandas/core/internals/managers.py:1235\u001b[0m, in \u001b[0;36mBlockManager.insert\u001b[0;34m(self, loc, item, value)\u001b[0m\n\u001b[1;32m   1233\u001b[0m     value \u001b[38;5;241m=\u001b[39m value\u001b[38;5;241m.\u001b[39mT\n\u001b[1;32m   1234\u001b[0m     \u001b[38;5;28;01mif\u001b[39;00m \u001b[38;5;28mlen\u001b[39m(value) \u001b[38;5;241m>\u001b[39m \u001b[38;5;241m1\u001b[39m:\n\u001b[0;32m-> 1235\u001b[0m         \u001b[38;5;28;01mraise\u001b[39;00m \u001b[38;5;167;01mValueError\u001b[39;00m(\n\u001b[1;32m   1236\u001b[0m             \u001b[38;5;124mf\u001b[39m\u001b[38;5;124m\"\u001b[39m\u001b[38;5;124mExpected a 1D array, got an array with shape \u001b[39m\u001b[38;5;132;01m{\u001b[39;00mvalue\u001b[38;5;241m.\u001b[39mT\u001b[38;5;241m.\u001b[39mshape\u001b[38;5;132;01m}\u001b[39;00m\u001b[38;5;124m\"\u001b[39m\n\u001b[1;32m   1237\u001b[0m         )\n\u001b[1;32m   1238\u001b[0m \u001b[38;5;28;01melse\u001b[39;00m:\n\u001b[1;32m   1239\u001b[0m     value \u001b[38;5;241m=\u001b[39m ensure_block_shape(value, ndim\u001b[38;5;241m=\u001b[39m\u001b[38;5;28mself\u001b[39m\u001b[38;5;241m.\u001b[39mndim)\n",
      "\u001b[0;31mValueError\u001b[0m: Expected a 1D array, got an array with shape (171, 2)"
     ]
    }
   ],
   "source": [
    "test1.insert(value=p_hat,column=\"prob\",loc=1)"
   ]
  },
  {
   "cell_type": "code",
   "execution_count": 51,
   "id": "205ff11c-0213-46e0-96b8-2df155c68337",
   "metadata": {},
   "outputs": [
    {
     "ename": "SyntaxError",
     "evalue": "invalid syntax (3562778372.py, line 1)",
     "output_type": "error",
     "traceback": [
      "\u001b[0;36m  Input \u001b[0;32mIn [51]\u001b[0;36m\u001b[0m\n\u001b[0;31m    p_hat[][1]\u001b[0m\n\u001b[0m          ^\u001b[0m\n\u001b[0;31mSyntaxError\u001b[0m\u001b[0;31m:\u001b[0m invalid syntax\n"
     ]
    }
   ],
   "source": [
    "p_hat[][1]"
   ]
  },
  {
   "cell_type": "code",
   "execution_count": null,
   "id": "e39fc727-e615-4688-bb7b-51c996048e51",
   "metadata": {},
   "outputs": [],
   "source": []
  }
 ],
 "metadata": {
  "kernelspec": {
   "display_name": "Python 3 (ipykernel)",
   "language": "python",
   "name": "python3"
  },
  "language_info": {
   "codemirror_mode": {
    "name": "ipython",
    "version": 3
   },
   "file_extension": ".py",
   "mimetype": "text/x-python",
   "name": "python",
   "nbconvert_exporter": "python",
   "pygments_lexer": "ipython3",
   "version": "3.9.12"
  }
 },
 "nbformat": 4,
 "nbformat_minor": 5
}
