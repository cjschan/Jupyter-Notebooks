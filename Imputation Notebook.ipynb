{
 "cells": [
  {
   "cell_type": "code",
   "execution_count": 1,
   "id": "d8be678a-f0f2-4b93-a204-df48a65ea4d0",
   "metadata": {},
   "outputs": [],
   "source": [
    "# Load libraries\n",
    "import pandas as pd\n",
    "import numpy as np\n",
    "from sklearn.experimental import enable_iterative_imputer\n",
    "from sklearn.impute import IterativeImputer"
   ]
  },
  {
   "cell_type": "code",
   "execution_count": 3,
   "id": "a2e2bbee-3981-4eb4-90c2-f4977623a415",
   "metadata": {},
   "outputs": [],
   "source": [
    "# Loads the rent.csv dataset and uses the following feature:\n",
    "# beds, baths, sqft, nhood, city, county, address, and price\n",
    "rent = pd.read_csv('rent.csv')\n",
    "rent = rent[['beds','baths','sqft','price']]\n",
    "rent_features = rent[['beds','baths','sqft']]"
   ]
  },
  {
   "cell_type": "code",
   "execution_count": 18,
   "id": "c29ea56d-d62f-42f2-b779-2f3671e8d43b",
   "metadata": {},
   "outputs": [
    {
     "name": "stdout",
     "output_type": "stream",
     "text": [
      "<class 'pandas.core.frame.DataFrame'>\n",
      "RangeIndex: 200796 entries, 0 to 200795\n",
      "Data columns (total 4 columns):\n",
      " #   Column  Non-Null Count   Dtype  \n",
      "---  ------  --------------   -----  \n",
      " 0   beds    194188 non-null  float64\n",
      " 1   baths   42675 non-null   float64\n",
      " 2   sqft    64679 non-null   float64\n",
      " 3   price   200796 non-null  int64  \n",
      "dtypes: float64(3), int64(1)\n",
      "memory usage: 6.1 MB\n"
     ]
    }
   ],
   "source": [
    "# Displays the number of non-missing values for each feature\n",
    "rent.info()"
   ]
  },
  {
   "cell_type": "code",
   "execution_count": 19,
   "id": "152c585d",
   "metadata": {},
   "outputs": [
    {
     "data": {
      "text/plain": [
       "beds       6608\n",
       "baths    158121\n",
       "sqft     136117\n",
       "price         0\n",
       "dtype: int64"
      ]
     },
     "execution_count": 19,
     "metadata": {},
     "output_type": "execute_result"
    }
   ],
   "source": [
    "# Counts the number of missing values for each feature\n",
    "rent.isnull().sum()"
   ]
  },
  {
   "cell_type": "code",
   "execution_count": 26,
   "id": "26d80d7d",
   "metadata": {},
   "outputs": [
    {
     "data": {
      "text/html": [
       "<div>\n",
       "<style scoped>\n",
       "    .dataframe tbody tr th:only-of-type {\n",
       "        vertical-align: middle;\n",
       "    }\n",
       "\n",
       "    .dataframe tbody tr th {\n",
       "        vertical-align: top;\n",
       "    }\n",
       "\n",
       "    .dataframe thead th {\n",
       "        text-align: right;\n",
       "    }\n",
       "</style>\n",
       "<table border=\"1\" class=\"dataframe\">\n",
       "  <thead>\n",
       "    <tr style=\"text-align: right;\">\n",
       "      <th></th>\n",
       "      <th>beds</th>\n",
       "      <th>baths</th>\n",
       "      <th>sqft</th>\n",
       "      <th>price</th>\n",
       "    </tr>\n",
       "  </thead>\n",
       "  <tbody>\n",
       "    <tr>\n",
       "      <th>44526</th>\n",
       "      <td>4.0</td>\n",
       "      <td>2.0</td>\n",
       "      <td>2000.0</td>\n",
       "      <td>2500</td>\n",
       "    </tr>\n",
       "    <tr>\n",
       "      <th>31260</th>\n",
       "      <td>5.0</td>\n",
       "      <td>NaN</td>\n",
       "      <td>NaN</td>\n",
       "      <td>3200</td>\n",
       "    </tr>\n",
       "    <tr>\n",
       "      <th>10252</th>\n",
       "      <td>3.0</td>\n",
       "      <td>NaN</td>\n",
       "      <td>935.0</td>\n",
       "      <td>3895</td>\n",
       "    </tr>\n",
       "    <tr>\n",
       "      <th>177336</th>\n",
       "      <td>5.0</td>\n",
       "      <td>NaN</td>\n",
       "      <td>3500.0</td>\n",
       "      <td>2400</td>\n",
       "    </tr>\n",
       "    <tr>\n",
       "      <th>187542</th>\n",
       "      <td>1.0</td>\n",
       "      <td>1.0</td>\n",
       "      <td>NaN</td>\n",
       "      <td>960</td>\n",
       "    </tr>\n",
       "  </tbody>\n",
       "</table>\n",
       "</div>"
      ],
      "text/plain": [
       "        beds  baths    sqft  price\n",
       "44526    4.0    2.0  2000.0   2500\n",
       "31260    5.0    NaN     NaN   3200\n",
       "10252    3.0    NaN   935.0   3895\n",
       "177336   5.0    NaN  3500.0   2400\n",
       "187542   1.0    1.0     NaN    960"
      ]
     },
     "execution_count": 26,
     "metadata": {},
     "output_type": "execute_result"
    }
   ],
   "source": [
    "rent.sample(n=5)"
   ]
  },
  {
   "cell_type": "code",
   "execution_count": 32,
   "id": "950e3d22",
   "metadata": {},
   "outputs": [
    {
     "data": {
      "text/html": [
       "<div>\n",
       "<style scoped>\n",
       "    .dataframe tbody tr th:only-of-type {\n",
       "        vertical-align: middle;\n",
       "    }\n",
       "\n",
       "    .dataframe tbody tr th {\n",
       "        vertical-align: top;\n",
       "    }\n",
       "\n",
       "    .dataframe thead th {\n",
       "        text-align: right;\n",
       "    }\n",
       "</style>\n",
       "<table border=\"1\" class=\"dataframe\">\n",
       "  <thead>\n",
       "    <tr style=\"text-align: right;\">\n",
       "      <th></th>\n",
       "      <th>beds</th>\n",
       "      <th>baths</th>\n",
       "      <th>sqft</th>\n",
       "      <th>price</th>\n",
       "    </tr>\n",
       "  </thead>\n",
       "  <tbody>\n",
       "    <tr>\n",
       "      <th>count</th>\n",
       "      <td>194188.000000</td>\n",
       "      <td>42675.000000</td>\n",
       "      <td>64679.000000</td>\n",
       "      <td>200796.000000</td>\n",
       "    </tr>\n",
       "    <tr>\n",
       "      <th>mean</th>\n",
       "      <td>1.889025</td>\n",
       "      <td>1.679086</td>\n",
       "      <td>1201.827688</td>\n",
       "      <td>2135.362746</td>\n",
       "    </tr>\n",
       "    <tr>\n",
       "      <th>std</th>\n",
       "      <td>1.079138</td>\n",
       "      <td>0.690509</td>\n",
       "      <td>5000.217864</td>\n",
       "      <td>1427.747903</td>\n",
       "    </tr>\n",
       "    <tr>\n",
       "      <th>min</th>\n",
       "      <td>0.000000</td>\n",
       "      <td>1.000000</td>\n",
       "      <td>80.000000</td>\n",
       "      <td>220.000000</td>\n",
       "    </tr>\n",
       "    <tr>\n",
       "      <th>25%</th>\n",
       "      <td>1.000000</td>\n",
       "      <td>1.000000</td>\n",
       "      <td>750.000000</td>\n",
       "      <td>1295.000000</td>\n",
       "    </tr>\n",
       "    <tr>\n",
       "      <th>50%</th>\n",
       "      <td>2.000000</td>\n",
       "      <td>2.000000</td>\n",
       "      <td>1000.000000</td>\n",
       "      <td>1800.000000</td>\n",
       "    </tr>\n",
       "    <tr>\n",
       "      <th>75%</th>\n",
       "      <td>3.000000</td>\n",
       "      <td>2.000000</td>\n",
       "      <td>1360.000000</td>\n",
       "      <td>2505.000000</td>\n",
       "    </tr>\n",
       "    <tr>\n",
       "      <th>max</th>\n",
       "      <td>12.000000</td>\n",
       "      <td>8.000000</td>\n",
       "      <td>900000.000000</td>\n",
       "      <td>40000.000000</td>\n",
       "    </tr>\n",
       "  </tbody>\n",
       "</table>\n",
       "</div>"
      ],
      "text/plain": [
       "                beds         baths           sqft          price\n",
       "count  194188.000000  42675.000000   64679.000000  200796.000000\n",
       "mean        1.889025      1.679086    1201.827688    2135.362746\n",
       "std         1.079138      0.690509    5000.217864    1427.747903\n",
       "min         0.000000      1.000000      80.000000     220.000000\n",
       "25%         1.000000      1.000000     750.000000    1295.000000\n",
       "50%         2.000000      2.000000    1000.000000    1800.000000\n",
       "75%         3.000000      2.000000    1360.000000    2505.000000\n",
       "max        12.000000      8.000000  900000.000000   40000.000000"
      ]
     },
     "execution_count": 32,
     "metadata": {},
     "output_type": "execute_result"
    }
   ],
   "source": [
    "df.describe()"
   ]
  },
  {
   "cell_type": "code",
   "execution_count": 52,
   "id": "600d59eb-4e67-4a83-956a-2491005861a0",
   "metadata": {},
   "outputs": [],
   "source": [
    "d = {'': ['mean','median','mode'], 'beds': [df.beds.mean(), df.beds.median(), df.beds.mode()[0]], 'baths': [df.baths.mean(), df.baths.median(), df.baths.mode()[0]], 'sqft': [df.sqft.mean(), df.sqft.median(), df.sqft.mode()[0]],'price': [df.price.mean(), df.price.median(), df.price.mode()[0]]}"
   ]
  },
  {
   "cell_type": "code",
   "execution_count": 53,
   "id": "ddeef543-801a-4fa8-aaac-d662e7cc40c1",
   "metadata": {},
   "outputs": [],
   "source": [
    "df2 = pd.DataFrame(data=d)"
   ]
  },
  {
   "cell_type": "code",
   "execution_count": 56,
   "id": "e8650eba-44b2-40a9-a2e1-4e564a720c22",
   "metadata": {},
   "outputs": [
    {
     "data": {
      "text/html": [
       "<div>\n",
       "<style scoped>\n",
       "    .dataframe tbody tr th:only-of-type {\n",
       "        vertical-align: middle;\n",
       "    }\n",
       "\n",
       "    .dataframe tbody tr th {\n",
       "        vertical-align: top;\n",
       "    }\n",
       "\n",
       "    .dataframe thead th {\n",
       "        text-align: right;\n",
       "    }\n",
       "</style>\n",
       "<table border=\"1\" class=\"dataframe\">\n",
       "  <thead>\n",
       "    <tr style=\"text-align: right;\">\n",
       "      <th></th>\n",
       "      <th>beds</th>\n",
       "      <th>baths</th>\n",
       "      <th>sqft</th>\n",
       "      <th>price</th>\n",
       "    </tr>\n",
       "    <tr>\n",
       "      <th></th>\n",
       "      <th></th>\n",
       "      <th></th>\n",
       "      <th></th>\n",
       "      <th></th>\n",
       "    </tr>\n",
       "  </thead>\n",
       "  <tbody>\n",
       "    <tr>\n",
       "      <th>mean</th>\n",
       "      <td>1.889025</td>\n",
       "      <td>1.679086</td>\n",
       "      <td>1201.827688</td>\n",
       "      <td>2135.362746</td>\n",
       "    </tr>\n",
       "    <tr>\n",
       "      <th>median</th>\n",
       "      <td>2.000000</td>\n",
       "      <td>2.000000</td>\n",
       "      <td>1000.000000</td>\n",
       "      <td>1800.000000</td>\n",
       "    </tr>\n",
       "    <tr>\n",
       "      <th>mode</th>\n",
       "      <td>2.000000</td>\n",
       "      <td>1.000000</td>\n",
       "      <td>1000.000000</td>\n",
       "      <td>1200.000000</td>\n",
       "    </tr>\n",
       "  </tbody>\n",
       "</table>\n",
       "</div>"
      ],
      "text/plain": [
       "            beds     baths         sqft        price\n",
       "                                                    \n",
       "mean    1.889025  1.679086  1201.827688  2135.362746\n",
       "median  2.000000  2.000000  1000.000000  1800.000000\n",
       "mode    2.000000  1.000000  1000.000000  1200.000000"
      ]
     },
     "execution_count": 56,
     "metadata": {},
     "output_type": "execute_result"
    }
   ],
   "source": [
    "df2.set_index('')"
   ]
  },
  {
   "cell_type": "code",
   "execution_count": 51,
   "id": "709c14f8-2399-4d00-9071-fbd5615cdbac",
   "metadata": {},
   "outputs": [
    {
     "data": {
      "text/html": [
       "<div>\n",
       "<style scoped>\n",
       "    .dataframe tbody tr th:only-of-type {\n",
       "        vertical-align: middle;\n",
       "    }\n",
       "\n",
       "    .dataframe tbody tr th {\n",
       "        vertical-align: top;\n",
       "    }\n",
       "\n",
       "    .dataframe thead th {\n",
       "        text-align: right;\n",
       "    }\n",
       "</style>\n",
       "<table border=\"1\" class=\"dataframe\">\n",
       "  <thead>\n",
       "    <tr style=\"text-align: right;\">\n",
       "      <th></th>\n",
       "      <th>beds</th>\n",
       "      <th>baths</th>\n",
       "      <th>sqft</th>\n",
       "      <th>price</th>\n",
       "    </tr>\n",
       "  </thead>\n",
       "  <tbody>\n",
       "    <tr>\n",
       "      <th>0</th>\n",
       "      <td>1.889025</td>\n",
       "      <td>1.679086</td>\n",
       "      <td>1201.827688</td>\n",
       "      <td>2135.362746</td>\n",
       "    </tr>\n",
       "    <tr>\n",
       "      <th>1</th>\n",
       "      <td>2.000000</td>\n",
       "      <td>2.000000</td>\n",
       "      <td>1000.000000</td>\n",
       "      <td>1800.000000</td>\n",
       "    </tr>\n",
       "    <tr>\n",
       "      <th>2</th>\n",
       "      <td>2.000000</td>\n",
       "      <td>1.000000</td>\n",
       "      <td>1000.000000</td>\n",
       "      <td>1200.000000</td>\n",
       "    </tr>\n",
       "  </tbody>\n",
       "</table>\n",
       "</div>"
      ],
      "text/plain": [
       "       beds     baths         sqft        price\n",
       "0  1.889025  1.679086  1201.827688  2135.362746\n",
       "1  2.000000  2.000000  1000.000000  1800.000000\n",
       "2  2.000000  1.000000  1000.000000  1200.000000"
      ]
     },
     "execution_count": 51,
     "metadata": {},
     "output_type": "execute_result"
    }
   ],
   "source": [
    "df2"
   ]
  },
  {
   "cell_type": "code",
   "execution_count": 59,
   "id": "90a8d882-2a3c-4364-837a-9f80e9c36ccd",
   "metadata": {},
   "outputs": [],
   "source": [
    "test = np.around(df2, decimals=1, out=None)"
   ]
  },
  {
   "cell_type": "code",
   "execution_count": 97,
   "id": "0931cdeb-6a91-4c42-8dcf-566ff1cd1352",
   "metadata": {},
   "outputs": [
    {
     "name": "stdout",
     "output_type": "stream",
     "text": [
      "        beds  baths    sqft   price\n",
      "                                   \n",
      "mean     1.9    1.7  1201.8  2135.4\n",
      "median   2.0    2.0  1000.0  1800.0\n",
      "mode     2.0    1.0  1000.0  1200.0\n"
     ]
    }
   ],
   "source": [
    "print(test.set_index(''))"
   ]
  },
  {
   "cell_type": "code",
   "execution_count": 98,
   "id": "9c40a880-1788-4057-bd53-076a19df4abd",
   "metadata": {},
   "outputs": [
    {
     "name": "stdout",
     "output_type": "stream",
     "text": [
      "        beds  baths    sqft  price\n",
      "0        2.0    2.0     NaN   1250\n",
      "1        2.0    NaN     NaN   1295\n",
      "2        2.0    NaN     NaN   1100\n",
      "3        1.0    NaN   735.0   1425\n",
      "4        1.0    NaN     NaN    890\n",
      "...      ...    ...     ...    ...\n",
      "200791   2.0    NaN     NaN   1850\n",
      "200792   2.0    NaN     NaN   1950\n",
      "200793   2.0    2.0  1300.0   2600\n",
      "200794   2.0    NaN  1000.0   1900\n",
      "200795   2.0    NaN     NaN   1650\n",
      "\n",
      "[200796 rows x 4 columns]\n"
     ]
    }
   ],
   "source": [
    "print(rent)"
   ]
  },
  {
   "cell_type": "code",
   "execution_count": 27,
   "id": "274e0595-3412-4f50-ba26-8876411e9c9e",
   "metadata": {},
   "outputs": [],
   "source": [
    "imp_mean = IterativeImputer(random_state=0, max_iter=2)"
   ]
  },
  {
   "cell_type": "code",
   "execution_count": 28,
   "id": "e752af86-feca-4d99-bb85-269a7fe7e553",
   "metadata": {},
   "outputs": [
    {
     "name": "stderr",
     "output_type": "stream",
     "text": [
      "/Users/cjschan/opt/anaconda3/lib/python3.9/site-packages/sklearn/impute/_iterative.py:699: ConvergenceWarning: [IterativeImputer] Early stopping criterion not reached.\n",
      "  warnings.warn(\n"
     ]
    },
    {
     "data": {
      "text/plain": [
       "IterativeImputer(max_iter=2, random_state=0)"
      ]
     },
     "execution_count": 28,
     "metadata": {},
     "output_type": "execute_result"
    }
   ],
   "source": [
    "imp_mean.fit(rent_features)"
   ]
  },
  {
   "cell_type": "code",
   "execution_count": 29,
   "id": "9328ed68-3000-4ad8-b64c-ba33f427cb5a",
   "metadata": {},
   "outputs": [
    {
     "data": {
      "text/plain": [
       "array([[   2.        ,    2.        ,  588.71461134],\n",
       "       [   2.        ,    1.56422423, 1150.99078505],\n",
       "       [   2.        ,    1.56422423, 1150.99078505],\n",
       "       ...,\n",
       "       [   2.        ,    2.        , 1300.        ],\n",
       "       [   2.        ,    1.63480985, 1000.        ],\n",
       "       [   2.        ,    1.56422423, 1150.99078505]])"
      ]
     },
     "execution_count": 29,
     "metadata": {},
     "output_type": "execute_result"
    }
   ],
   "source": [
    "imp_mean.transform(rent_features)"
   ]
  },
  {
   "cell_type": "code",
   "execution_count": 30,
   "id": "7a43fb09-79dc-417a-b6b3-9d0df13bd9f0",
   "metadata": {},
   "outputs": [
    {
     "name": "stdout",
     "output_type": "stream",
     "text": [
      "        beds     baths         sqft\n",
      "0        2.0  2.000000   588.714611\n",
      "1        2.0  1.564224  1150.990785\n",
      "2        2.0  1.564224  1150.990785\n",
      "3        1.0  0.956357   735.000000\n",
      "4        1.0  1.235534   137.809927\n",
      "...      ...       ...          ...\n",
      "200791   2.0  1.564224  1150.990785\n",
      "200792   2.0  1.564224  1150.990785\n",
      "200793   2.0  2.000000  1300.000000\n",
      "200794   2.0  1.634810  1000.000000\n",
      "200795   2.0  1.564224  1150.990785\n",
      "\n",
      "[200796 rows x 3 columns]\n"
     ]
    }
   ],
   "source": [
    "print(pd.DataFrame(imp_mean.transform(rent_features),columns=['beds','baths','sqft']))"
   ]
  },
  {
   "cell_type": "code",
   "execution_count": 31,
   "id": "3558a0c2-741d-49b3-89e3-503a0a41b0aa",
   "metadata": {},
   "outputs": [
    {
     "data": {
      "text/plain": [
       "2"
      ]
     },
     "execution_count": 31,
     "metadata": {},
     "output_type": "execute_result"
    }
   ],
   "source": [
    "imp_mean.n_iter_"
   ]
  },
  {
   "cell_type": "code",
   "execution_count": null,
   "id": "0429a887-c156-4cfd-86ef-dd5587f63567",
   "metadata": {},
   "outputs": [],
   "source": []
  }
 ],
 "metadata": {
  "kernelspec": {
   "display_name": "Python 3 (ipykernel)",
   "language": "python",
   "name": "python3"
  },
  "language_info": {
   "codemirror_mode": {
    "name": "ipython",
    "version": 3
   },
   "file_extension": ".py",
   "mimetype": "text/x-python",
   "name": "python",
   "nbconvert_exporter": "python",
   "pygments_lexer": "ipython3",
   "version": "3.9.12"
  }
 },
 "nbformat": 4,
 "nbformat_minor": 5
}
