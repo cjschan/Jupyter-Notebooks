{
 "cells": [
  {
   "cell_type": "code",
   "execution_count": 1,
   "id": "8acbf23e-96d2-4091-8800-32945c4f7aa8",
   "metadata": {},
   "outputs": [],
   "source": [
    "# Create a list\n",
    "list = [33, 2, 14]"
   ]
  },
  {
   "cell_type": "code",
   "execution_count": 2,
   "id": "b513c43a-e2a5-420b-8e46-2b990da4c6f8",
   "metadata": {},
   "outputs": [
    {
     "data": {
      "text/plain": [
       "3"
      ]
     },
     "execution_count": 2,
     "metadata": {},
     "output_type": "execute_result"
    }
   ],
   "source": [
    "# Finds the length of the list\n",
    "len(list)"
   ]
  },
  {
   "cell_type": "code",
   "execution_count": 3,
   "id": "dcac225a-783c-4009-a2b1-9fe4588f251d",
   "metadata": {},
   "outputs": [
    {
     "data": {
      "text/plain": [
       "[33, 2, 14, 'apples']"
      ]
     },
     "execution_count": 3,
     "metadata": {},
     "output_type": "execute_result"
    }
   ],
   "source": [
    "# Appends 'apples' to the list\n",
    "list.append('apples')\n",
    "list"
   ]
  },
  {
   "cell_type": "code",
   "execution_count": 4,
   "id": "59025692-b607-460e-b39e-d434f34bb5a6",
   "metadata": {},
   "outputs": [
    {
     "data": {
      "text/plain": [
       "33"
      ]
     },
     "execution_count": 4,
     "metadata": {},
     "output_type": "execute_result"
    }
   ],
   "source": [
    "# Removes and displays the first list element\n",
    "list.pop(0)"
   ]
  },
  {
   "cell_type": "code",
   "execution_count": 5,
   "id": "ae91467a-d96d-4470-b6e4-798dbe79785a",
   "metadata": {},
   "outputs": [
    {
     "data": {
      "text/plain": [
       "[2, 14, 'apples']"
      ]
     },
     "execution_count": 5,
     "metadata": {},
     "output_type": "execute_result"
    }
   ],
   "source": [
    "# Current list contains 2, 14, and 'apples'\n",
    "list"
   ]
  },
  {
   "cell_type": "code",
   "execution_count": 6,
   "id": "e922932d-43a4-4bc1-bea9-8a306122668d",
   "metadata": {},
   "outputs": [
    {
     "data": {
      "text/plain": [
       "[2, 'apples']"
      ]
     },
     "execution_count": 6,
     "metadata": {},
     "output_type": "execute_result"
    }
   ],
   "source": [
    "# Remove 14 from the list\n",
    "list.remove(14)\n",
    "list"
   ]
  },
  {
   "cell_type": "code",
   "execution_count": 7,
   "id": "323d323f-2e58-4623-b185-697d08361059",
   "metadata": {},
   "outputs": [
    {
     "data": {
      "text/plain": [
       "[2, 'apples', 'bananas', 'pineapples']"
      ]
     },
     "execution_count": 7,
     "metadata": {},
     "output_type": "execute_result"
    }
   ],
   "source": [
    "list + ['bananas','pineapples']"
   ]
  }
 ],
 "metadata": {
  "kernelspec": {
   "display_name": "Python 3 (ipykernel)",
   "language": "python",
   "name": "python3"
  },
  "language_info": {
   "codemirror_mode": {
    "name": "ipython",
    "version": 3
   },
   "file_extension": ".py",
   "mimetype": "text/x-python",
   "name": "python",
   "nbconvert_exporter": "python",
   "pygments_lexer": "ipython3",
   "version": "3.9.7"
  }
 },
 "nbformat": 4,
 "nbformat_minor": 5
}
