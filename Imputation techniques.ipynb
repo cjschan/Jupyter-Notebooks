{
 "cells": [
  {
   "cell_type": "code",
   "execution_count": 1,
   "id": "d8be678a-f0f2-4b93-a204-df48a65ea4d0",
   "metadata": {},
   "outputs": [],
   "source": [
    "# Load the necessary libraries\n",
    "import pandas as pd\n",
    "from sklearn.experimental import enable_iterative_imputer\n",
    "from sklearn.impute import SimpleImputer\n",
    "from sklearn.impute import KNNImputer\n",
    "from sklearn.impute import IterativeImputer\n",
    "from sklearn.preprocessing import MinMaxScaler"
   ]
  },
  {
   "cell_type": "code",
   "execution_count": 2,
   "id": "a2e2bbee-3981-4eb4-90c2-f4977623a415",
   "metadata": {},
   "outputs": [],
   "source": [
    "# Load the rent.csv dataset and uses the following feature:\n",
    "# beds, baths, sqft, and price\n",
    "rent = pd.read_csv('rent.csv')\n",
    "rent = rent[['beds','baths','sqft','price']]\n",
    "rent_features = rent[['beds','baths','sqft']]"
   ]
  },
  {
   "cell_type": "code",
   "execution_count": 3,
   "id": "1b7f4a2b-7114-4384-b82f-0f87491930f7",
   "metadata": {},
   "outputs": [
    {
     "data": {
      "text/plain": [
       "SimpleImputer(strategy='median')"
      ]
     },
     "execution_count": 3,
     "metadata": {},
     "output_type": "execute_result"
    }
   ],
   "source": [
    "# Initiliaze and fit a simple imputer to the dataset using \n",
    "# the median of each feature\n",
    "imputer = SimpleImputer(strategy='median')\n",
    "imputer.fit(rent)"
   ]
  },
  {
   "cell_type": "code",
   "execution_count": 4,
   "id": "a084ed90-5667-4486-8c25-0155dcc0b222",
   "metadata": {},
   "outputs": [
    {
     "data": {
      "text/plain": [
       "array([   2.,    2., 1000., 1800.])"
      ]
     },
     "execution_count": 4,
     "metadata": {},
     "output_type": "execute_result"
    }
   ],
   "source": [
    "# Display the median of each feature\n",
    "imputer.statistics_"
   ]
  },
  {
   "cell_type": "code",
   "execution_count": 5,
   "id": "152c585d",
   "metadata": {},
   "outputs": [
    {
     "data": {
      "text/html": [
       "<div>\n",
       "<style scoped>\n",
       "    .dataframe tbody tr th:only-of-type {\n",
       "        vertical-align: middle;\n",
       "    }\n",
       "\n",
       "    .dataframe tbody tr th {\n",
       "        vertical-align: top;\n",
       "    }\n",
       "\n",
       "    .dataframe thead th {\n",
       "        text-align: right;\n",
       "    }\n",
       "</style>\n",
       "<table border=\"1\" class=\"dataframe\">\n",
       "  <thead>\n",
       "    <tr style=\"text-align: right;\">\n",
       "      <th></th>\n",
       "      <th>beds</th>\n",
       "      <th>baths</th>\n",
       "      <th>sqft</th>\n",
       "      <th>price</th>\n",
       "    </tr>\n",
       "  </thead>\n",
       "  <tbody>\n",
       "    <tr>\n",
       "      <th>0</th>\n",
       "      <td>2.0</td>\n",
       "      <td>2.0</td>\n",
       "      <td>1000.0</td>\n",
       "      <td>1250.0</td>\n",
       "    </tr>\n",
       "    <tr>\n",
       "      <th>1</th>\n",
       "      <td>2.0</td>\n",
       "      <td>2.0</td>\n",
       "      <td>1000.0</td>\n",
       "      <td>1295.0</td>\n",
       "    </tr>\n",
       "    <tr>\n",
       "      <th>2</th>\n",
       "      <td>2.0</td>\n",
       "      <td>2.0</td>\n",
       "      <td>1000.0</td>\n",
       "      <td>1100.0</td>\n",
       "    </tr>\n",
       "    <tr>\n",
       "      <th>3</th>\n",
       "      <td>1.0</td>\n",
       "      <td>2.0</td>\n",
       "      <td>735.0</td>\n",
       "      <td>1425.0</td>\n",
       "    </tr>\n",
       "    <tr>\n",
       "      <th>4</th>\n",
       "      <td>1.0</td>\n",
       "      <td>2.0</td>\n",
       "      <td>1000.0</td>\n",
       "      <td>890.0</td>\n",
       "    </tr>\n",
       "    <tr>\n",
       "      <th>...</th>\n",
       "      <td>...</td>\n",
       "      <td>...</td>\n",
       "      <td>...</td>\n",
       "      <td>...</td>\n",
       "    </tr>\n",
       "    <tr>\n",
       "      <th>200791</th>\n",
       "      <td>2.0</td>\n",
       "      <td>2.0</td>\n",
       "      <td>1000.0</td>\n",
       "      <td>1850.0</td>\n",
       "    </tr>\n",
       "    <tr>\n",
       "      <th>200792</th>\n",
       "      <td>2.0</td>\n",
       "      <td>2.0</td>\n",
       "      <td>1000.0</td>\n",
       "      <td>1950.0</td>\n",
       "    </tr>\n",
       "    <tr>\n",
       "      <th>200793</th>\n",
       "      <td>2.0</td>\n",
       "      <td>2.0</td>\n",
       "      <td>1300.0</td>\n",
       "      <td>2600.0</td>\n",
       "    </tr>\n",
       "    <tr>\n",
       "      <th>200794</th>\n",
       "      <td>2.0</td>\n",
       "      <td>2.0</td>\n",
       "      <td>1000.0</td>\n",
       "      <td>1900.0</td>\n",
       "    </tr>\n",
       "    <tr>\n",
       "      <th>200795</th>\n",
       "      <td>2.0</td>\n",
       "      <td>2.0</td>\n",
       "      <td>1000.0</td>\n",
       "      <td>1650.0</td>\n",
       "    </tr>\n",
       "  </tbody>\n",
       "</table>\n",
       "<p>200796 rows × 4 columns</p>\n",
       "</div>"
      ],
      "text/plain": [
       "        beds  baths    sqft   price\n",
       "0        2.0    2.0  1000.0  1250.0\n",
       "1        2.0    2.0  1000.0  1295.0\n",
       "2        2.0    2.0  1000.0  1100.0\n",
       "3        1.0    2.0   735.0  1425.0\n",
       "4        1.0    2.0  1000.0   890.0\n",
       "...      ...    ...     ...     ...\n",
       "200791   2.0    2.0  1000.0  1850.0\n",
       "200792   2.0    2.0  1000.0  1950.0\n",
       "200793   2.0    2.0  1300.0  2600.0\n",
       "200794   2.0    2.0  1000.0  1900.0\n",
       "200795   2.0    2.0  1000.0  1650.0\n",
       "\n",
       "[200796 rows x 4 columns]"
      ]
     },
     "execution_count": 5,
     "metadata": {},
     "output_type": "execute_result"
    }
   ],
   "source": [
    "# Fill the missing value for each column\n",
    "pd.DataFrame(imputer.transform(rent),columns=['beds','baths','sqft','price'])"
   ]
  },
  {
   "cell_type": "code",
   "execution_count": 6,
   "id": "26d80d7d",
   "metadata": {},
   "outputs": [],
   "source": [
    "# Selects a sample of the rent dataset and scales\n",
    "# the values using MinMaxScaler()\n",
    "scaler = MinMaxScaler()\n",
    "rent_sample = rent.sample(n=2000)\n",
    "scaler.fit(rent_sample)\n",
    "rent_scaled = scaler.transform(rent_sample)"
   ]
  },
  {
   "cell_type": "code",
   "execution_count": 7,
   "id": "950e3d22",
   "metadata": {},
   "outputs": [],
   "source": [
    "# Initializes a KNN imputer with 8 neighbors\n",
    "knn_imputer = KNNImputer(n_neighbors=8)"
   ]
  },
  {
   "cell_type": "code",
   "execution_count": 8,
   "id": "600d59eb-4e67-4a83-956a-2491005861a0",
   "metadata": {},
   "outputs": [
    {
     "data": {
      "text/html": [
       "<div>\n",
       "<style scoped>\n",
       "    .dataframe tbody tr th:only-of-type {\n",
       "        vertical-align: middle;\n",
       "    }\n",
       "\n",
       "    .dataframe tbody tr th {\n",
       "        vertical-align: top;\n",
       "    }\n",
       "\n",
       "    .dataframe thead th {\n",
       "        text-align: right;\n",
       "    }\n",
       "</style>\n",
       "<table border=\"1\" class=\"dataframe\">\n",
       "  <thead>\n",
       "    <tr style=\"text-align: right;\">\n",
       "      <th></th>\n",
       "      <th>scaled_beds</th>\n",
       "      <th>scaled_baths</th>\n",
       "      <th>scaled_sqft</th>\n",
       "      <th>scaled_price</th>\n",
       "    </tr>\n",
       "  </thead>\n",
       "  <tbody>\n",
       "    <tr>\n",
       "      <th>0</th>\n",
       "      <td>0.333333</td>\n",
       "      <td>0.208333</td>\n",
       "      <td>0.256234</td>\n",
       "      <td>0.067719</td>\n",
       "    </tr>\n",
       "    <tr>\n",
       "      <th>1</th>\n",
       "      <td>0.333333</td>\n",
       "      <td>0.000000</td>\n",
       "      <td>0.158760</td>\n",
       "      <td>0.044841</td>\n",
       "    </tr>\n",
       "    <tr>\n",
       "      <th>2</th>\n",
       "      <td>0.111111</td>\n",
       "      <td>0.000000</td>\n",
       "      <td>0.101992</td>\n",
       "      <td>0.020819</td>\n",
       "    </tr>\n",
       "    <tr>\n",
       "      <th>3</th>\n",
       "      <td>0.333333</td>\n",
       "      <td>0.375000</td>\n",
       "      <td>0.290575</td>\n",
       "      <td>0.369709</td>\n",
       "    </tr>\n",
       "    <tr>\n",
       "      <th>4</th>\n",
       "      <td>0.111111</td>\n",
       "      <td>0.013889</td>\n",
       "      <td>0.121962</td>\n",
       "      <td>0.042553</td>\n",
       "    </tr>\n",
       "    <tr>\n",
       "      <th>...</th>\n",
       "      <td>...</td>\n",
       "      <td>...</td>\n",
       "      <td>...</td>\n",
       "      <td>...</td>\n",
       "    </tr>\n",
       "    <tr>\n",
       "      <th>1995</th>\n",
       "      <td>0.222222</td>\n",
       "      <td>0.097222</td>\n",
       "      <td>0.157518</td>\n",
       "      <td>0.035690</td>\n",
       "    </tr>\n",
       "    <tr>\n",
       "      <th>1996</th>\n",
       "      <td>0.222222</td>\n",
       "      <td>0.222222</td>\n",
       "      <td>0.181292</td>\n",
       "      <td>0.063143</td>\n",
       "    </tr>\n",
       "    <tr>\n",
       "      <th>1997</th>\n",
       "      <td>0.111111</td>\n",
       "      <td>0.000000</td>\n",
       "      <td>0.093697</td>\n",
       "      <td>0.029970</td>\n",
       "    </tr>\n",
       "    <tr>\n",
       "      <th>1998</th>\n",
       "      <td>0.111111</td>\n",
       "      <td>0.027778</td>\n",
       "      <td>0.121672</td>\n",
       "      <td>0.044841</td>\n",
       "    </tr>\n",
       "    <tr>\n",
       "      <th>1999</th>\n",
       "      <td>0.111111</td>\n",
       "      <td>0.000000</td>\n",
       "      <td>0.101992</td>\n",
       "      <td>0.015100</td>\n",
       "    </tr>\n",
       "  </tbody>\n",
       "</table>\n",
       "<p>2000 rows × 4 columns</p>\n",
       "</div>"
      ],
      "text/plain": [
       "      scaled_beds  scaled_baths  scaled_sqft  scaled_price\n",
       "0        0.333333      0.208333     0.256234      0.067719\n",
       "1        0.333333      0.000000     0.158760      0.044841\n",
       "2        0.111111      0.000000     0.101992      0.020819\n",
       "3        0.333333      0.375000     0.290575      0.369709\n",
       "4        0.111111      0.013889     0.121962      0.042553\n",
       "...           ...           ...          ...           ...\n",
       "1995     0.222222      0.097222     0.157518      0.035690\n",
       "1996     0.222222      0.222222     0.181292      0.063143\n",
       "1997     0.111111      0.000000     0.093697      0.029970\n",
       "1998     0.111111      0.027778     0.121672      0.044841\n",
       "1999     0.111111      0.000000     0.101992      0.015100\n",
       "\n",
       "[2000 rows x 4 columns]"
      ]
     },
     "execution_count": 8,
     "metadata": {},
     "output_type": "execute_result"
    }
   ],
   "source": [
    "# Fill the missing value for each feature\n",
    "pd.DataFrame(knn_imputer.fit_transform(rent_scaled),\n",
    "             columns=['scaled_beds','scaled_baths','scaled_sqft','scaled_price'])"
   ]
  },
  {
   "cell_type": "code",
   "execution_count": 9,
   "id": "db92a94e-874e-46d7-8117-6b96b08dc833",
   "metadata": {},
   "outputs": [
    {
     "data": {
      "text/plain": [
       "IterativeImputer()"
      ]
     },
     "execution_count": 9,
     "metadata": {},
     "output_type": "execute_result"
    }
   ],
   "source": [
    "# Initialize and fit an interative imputer to the \n",
    "# rent dataset\n",
    "iter_imputer = IterativeImputer()\n",
    "iter_imputer.fit(rent_features)"
   ]
  },
  {
   "cell_type": "code",
   "execution_count": 10,
   "id": "0fe9fd7e-c095-4027-97f5-a7ee2668c898",
   "metadata": {},
   "outputs": [
    {
     "data": {
      "text/plain": [
       "3"
      ]
     },
     "execution_count": 10,
     "metadata": {},
     "output_type": "execute_result"
    }
   ],
   "source": [
    "# Display the number of iteration rounds that occurred\n",
    "iter_imputer.n_iter_"
   ]
  },
  {
   "cell_type": "code",
   "execution_count": 11,
   "id": "e8650eba-44b2-40a9-a2e1-4e564a720c22",
   "metadata": {},
   "outputs": [
    {
     "data": {
      "text/html": [
       "<div>\n",
       "<style scoped>\n",
       "    .dataframe tbody tr th:only-of-type {\n",
       "        vertical-align: middle;\n",
       "    }\n",
       "\n",
       "    .dataframe tbody tr th {\n",
       "        vertical-align: top;\n",
       "    }\n",
       "\n",
       "    .dataframe thead th {\n",
       "        text-align: right;\n",
       "    }\n",
       "</style>\n",
       "<table border=\"1\" class=\"dataframe\">\n",
       "  <thead>\n",
       "    <tr style=\"text-align: right;\">\n",
       "      <th></th>\n",
       "      <th>beds</th>\n",
       "      <th>baths</th>\n",
       "      <th>sqft</th>\n",
       "    </tr>\n",
       "  </thead>\n",
       "  <tbody>\n",
       "    <tr>\n",
       "      <th>0</th>\n",
       "      <td>2.0</td>\n",
       "      <td>2.000000</td>\n",
       "      <td>582.607411</td>\n",
       "    </tr>\n",
       "    <tr>\n",
       "      <th>1</th>\n",
       "      <td>2.0</td>\n",
       "      <td>1.565187</td>\n",
       "      <td>1146.830456</td>\n",
       "    </tr>\n",
       "    <tr>\n",
       "      <th>2</th>\n",
       "      <td>2.0</td>\n",
       "      <td>1.565187</td>\n",
       "      <td>1146.830456</td>\n",
       "    </tr>\n",
       "    <tr>\n",
       "      <th>3</th>\n",
       "      <td>1.0</td>\n",
       "      <td>0.962895</td>\n",
       "      <td>735.000000</td>\n",
       "    </tr>\n",
       "    <tr>\n",
       "      <th>4</th>\n",
       "      <td>1.0</td>\n",
       "      <td>1.249608</td>\n",
       "      <td>130.085504</td>\n",
       "    </tr>\n",
       "    <tr>\n",
       "      <th>...</th>\n",
       "      <td>...</td>\n",
       "      <td>...</td>\n",
       "      <td>...</td>\n",
       "    </tr>\n",
       "    <tr>\n",
       "      <th>200791</th>\n",
       "      <td>2.0</td>\n",
       "      <td>1.565187</td>\n",
       "      <td>1146.830456</td>\n",
       "    </tr>\n",
       "    <tr>\n",
       "      <th>200792</th>\n",
       "      <td>2.0</td>\n",
       "      <td>1.565187</td>\n",
       "      <td>1146.830456</td>\n",
       "    </tr>\n",
       "    <tr>\n",
       "      <th>200793</th>\n",
       "      <td>2.0</td>\n",
       "      <td>2.000000</td>\n",
       "      <td>1300.000000</td>\n",
       "    </tr>\n",
       "    <tr>\n",
       "      <th>200794</th>\n",
       "      <td>2.0</td>\n",
       "      <td>1.634781</td>\n",
       "      <td>1000.000000</td>\n",
       "    </tr>\n",
       "    <tr>\n",
       "      <th>200795</th>\n",
       "      <td>2.0</td>\n",
       "      <td>1.565187</td>\n",
       "      <td>1146.830456</td>\n",
       "    </tr>\n",
       "  </tbody>\n",
       "</table>\n",
       "<p>200796 rows × 3 columns</p>\n",
       "</div>"
      ],
      "text/plain": [
       "        beds     baths         sqft\n",
       "0        2.0  2.000000   582.607411\n",
       "1        2.0  1.565187  1146.830456\n",
       "2        2.0  1.565187  1146.830456\n",
       "3        1.0  0.962895   735.000000\n",
       "4        1.0  1.249608   130.085504\n",
       "...      ...       ...          ...\n",
       "200791   2.0  1.565187  1146.830456\n",
       "200792   2.0  1.565187  1146.830456\n",
       "200793   2.0  2.000000  1300.000000\n",
       "200794   2.0  1.634781  1000.000000\n",
       "200795   2.0  1.565187  1146.830456\n",
       "\n",
       "[200796 rows x 3 columns]"
      ]
     },
     "execution_count": 11,
     "metadata": {},
     "output_type": "execute_result"
    }
   ],
   "source": [
    "# Fill in the missing values for each feature\n",
    "pd.DataFrame(iter_imputer.transform(rent_features), columns=['beds','baths','sqft'])"
   ]
  }
 ],
 "metadata": {
  "kernelspec": {
   "display_name": "Python 3 (ipykernel)",
   "language": "python",
   "name": "python3"
  },
  "language_info": {
   "codemirror_mode": {
    "name": "ipython",
    "version": 3
   },
   "file_extension": ".py",
   "mimetype": "text/x-python",
   "name": "python",
   "nbconvert_exporter": "python",
   "pygments_lexer": "ipython3",
   "version": "3.9.12"
  }
 },
 "nbformat": 4,
 "nbformat_minor": 5
}
