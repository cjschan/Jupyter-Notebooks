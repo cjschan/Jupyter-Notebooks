{
 "cells": [
  {
   "cell_type": "code",
   "execution_count": 28,
   "id": "be32440c-4603-43a6-85db-0e42cf733ffc",
   "metadata": {},
   "outputs": [],
   "source": [
    "# Import needed packages\n",
    "import pandas as pd\n",
    "import numpy as np\n",
    "from sklearn.model_selection import train_test_split\n",
    "from sklearn.feature_selection import SelectKBest, SelectPercentile, f_classif, r_regression\n",
    "from sklearn.preprocessing import StandardScaler\n",
    "from sklearn.neural_network import MLPClassifier"
   ]
  },
  {
   "cell_type": "code",
   "execution_count": 29,
   "id": "55c05c74-2a2b-4f39-b235-d412c2e3f22c",
   "metadata": {},
   "outputs": [],
   "source": [
    "# Load the Wisconsin Breast Cancer Database\n",
    "wbcd = pd.read_csv('WisconsinBreastCancerDatabase.csv')"
   ]
  },
  {
   "cell_type": "code",
   "execution_count": 30,
   "id": "30d085a2-44ef-4a1b-a356-3366752f90eb",
   "metadata": {},
   "outputs": [],
   "source": [
    "# Select and scale input features, create dataframe for output feature\n",
    "X = wbcd[['Radius mean','Texture mean', 'Area mean', \n",
    "         'Compactness mean', 'Concavity mean', 'Concave points mean', \n",
    "          'Fractal dimension mean', 'Symmetry mean']]\n",
    "scaler = StandardScaler()\n",
    "X_scaled = pd.DataFrame(scaler.fit_transform(X), columns=X.columns)\n",
    "y = wbcd[['Smoothness mean']]"
   ]
  },
  {
   "cell_type": "code",
   "execution_count": 31,
   "id": "d59114b0-742b-4250-837d-03e4bd79c088",
   "metadata": {},
   "outputs": [],
   "source": [
    "# Split the data into train and test sets\n",
    "X_train, X_test, y_train, y_test = train_test_split(X, y, test_size=0.2, random_state=123)"
   ]
  },
  {
   "cell_type": "code",
   "execution_count": 32,
   "id": "d88326ec-cd37-48dd-8b4d-0a188bd8b93f",
   "metadata": {},
   "outputs": [],
   "source": [
    "# Perform feature selection using the SelectKBest function\n",
    "model_kbest = SelectKBest(score_func=r_regression, k=5)\n",
    "X_new_kbest = model_kbest.fit_transform(X_train,np.ravel(y_train))\n",
    "\n",
    "# Perform feature selection using the SelectPercentile function\n",
    "model_percent = SelectPercentile(score_func=r_regression, percentile=30)\n",
    "X_new_percent = model_percent.fit_transform(X_train,np.ravel(y_train))"
   ]
  },
  {
   "cell_type": "code",
   "execution_count": 33,
   "id": "f2e0476c-4dff-43db-8000-66c007ad4655",
   "metadata": {},
   "outputs": [],
   "source": [
    "# Get features selected by each function\n",
    "filter_kbest = model_kbest.get_support()\n",
    "filter_percent = model_percent.get_support()\n",
    "\n",
    "# Get input feature names\n",
    "features = np.array(X_train.columns)"
   ]
  },
  {
   "cell_type": "code",
   "execution_count": 34,
   "id": "8d09924a-6a2a-4b9c-a3ab-fcf7260e309c",
   "metadata": {},
   "outputs": [
    {
     "data": {
      "text/plain": [
       "array(['Compactness mean', 'Concavity mean', 'Concave points mean',\n",
       "       'Fractal dimension mean', 'Symmetry mean'], dtype=object)"
      ]
     },
     "execution_count": 34,
     "metadata": {},
     "output_type": "execute_result"
    }
   ],
   "source": [
    "# Display feature names selected by the SelectKBest function\n",
    "features[filter_kbest]"
   ]
  },
  {
   "cell_type": "code",
   "execution_count": 35,
   "id": "6dad6f57-df6b-4868-a5dc-0579139420b8",
   "metadata": {},
   "outputs": [],
   "source": [
    "# Display feature names selected by the SelectPercent function\n",
    "features[filter_percent]"
   ]
  },
  {
   "cell_type": "code",
   "execution_count": 38,
   "id": "1948cb7d-b693-4b32-b8fa-aa29d80d84d0",
   "metadata": {},
   "outputs": [
    {
     "data": {
      "text/html": [
       "<div>\n",
       "<style scoped>\n",
       "    .dataframe tbody tr th:only-of-type {\n",
       "        vertical-align: middle;\n",
       "    }\n",
       "\n",
       "    .dataframe tbody tr th {\n",
       "        vertical-align: top;\n",
       "    }\n",
       "\n",
       "    .dataframe thead th {\n",
       "        text-align: right;\n",
       "    }\n",
       "</style>\n",
       "<table border=\"1\" class=\"dataframe\">\n",
       "  <thead>\n",
       "    <tr style=\"text-align: right;\">\n",
       "      <th></th>\n",
       "      <th>Smoothness mean</th>\n",
       "    </tr>\n",
       "  </thead>\n",
       "  <tbody>\n",
       "    <tr>\n",
       "      <th>190</th>\n",
       "      <td>0.10750</td>\n",
       "    </tr>\n",
       "    <tr>\n",
       "      <th>134</th>\n",
       "      <td>0.09430</td>\n",
       "    </tr>\n",
       "    <tr>\n",
       "      <th>386</th>\n",
       "      <td>0.08108</td>\n",
       "    </tr>\n",
       "    <tr>\n",
       "      <th>118</th>\n",
       "      <td>0.11550</td>\n",
       "    </tr>\n",
       "    <tr>\n",
       "      <th>316</th>\n",
       "      <td>0.07734</td>\n",
       "    </tr>\n",
       "    <tr>\n",
       "      <th>...</th>\n",
       "      <td>...</td>\n",
       "    </tr>\n",
       "    <tr>\n",
       "      <th>98</th>\n",
       "      <td>0.08983</td>\n",
       "    </tr>\n",
       "    <tr>\n",
       "      <th>322</th>\n",
       "      <td>0.11340</td>\n",
       "    </tr>\n",
       "    <tr>\n",
       "      <th>382</th>\n",
       "      <td>0.06935</td>\n",
       "    </tr>\n",
       "    <tr>\n",
       "      <th>365</th>\n",
       "      <td>0.09150</td>\n",
       "    </tr>\n",
       "    <tr>\n",
       "      <th>510</th>\n",
       "      <td>0.08099</td>\n",
       "    </tr>\n",
       "  </tbody>\n",
       "</table>\n",
       "<p>455 rows × 1 columns</p>\n",
       "</div>"
      ],
      "text/plain": [
       "     Smoothness mean\n",
       "190          0.10750\n",
       "134          0.09430\n",
       "386          0.08108\n",
       "118          0.11550\n",
       "316          0.07734\n",
       "..               ...\n",
       "98           0.08983\n",
       "322          0.11340\n",
       "382          0.06935\n",
       "365          0.09150\n",
       "510          0.08099\n",
       "\n",
       "[455 rows x 1 columns]"
      ]
     },
     "execution_count": 38,
     "metadata": {},
     "output_type": "execute_result"
    }
   ],
   "source": [
    "y_train"
   ]
  },
  {
   "cell_type": "code",
   "execution_count": 39,
   "id": "bf50220d-d47d-4bcc-b38e-30851a6f231e",
   "metadata": {},
   "outputs": [],
   "source": [
    "# Display the F-statistic and p-value for each feature\n",
    "pd.DataFrame(r_regression(X_train, np.ravel(y_train)), \n",
    "             columns=X_train.columns, index=['Pearson correlation','p-value']).T"
   ]
  },
  {
   "cell_type": "code",
   "execution_count": 44,
   "id": "b73d5b9f-c5b8-4b78-b4b6-5f1eb93549f1",
   "metadata": {},
   "outputs": [
    {
     "data": {
      "text/html": [
       "<div>\n",
       "<style scoped>\n",
       "    .dataframe tbody tr th:only-of-type {\n",
       "        vertical-align: middle;\n",
       "    }\n",
       "\n",
       "    .dataframe tbody tr th {\n",
       "        vertical-align: top;\n",
       "    }\n",
       "\n",
       "    .dataframe thead th {\n",
       "        text-align: right;\n",
       "    }\n",
       "</style>\n",
       "<table border=\"1\" class=\"dataframe\">\n",
       "  <thead>\n",
       "    <tr style=\"text-align: right;\">\n",
       "      <th></th>\n",
       "      <th>Pearson coefficient</th>\n",
       "    </tr>\n",
       "  </thead>\n",
       "  <tbody>\n",
       "    <tr>\n",
       "      <th>Radius mean</th>\n",
       "      <td>0.141981</td>\n",
       "    </tr>\n",
       "    <tr>\n",
       "      <th>Texture mean</th>\n",
       "      <td>-0.049423</td>\n",
       "    </tr>\n",
       "    <tr>\n",
       "      <th>Area mean</th>\n",
       "      <td>0.151101</td>\n",
       "    </tr>\n",
       "    <tr>\n",
       "      <th>Compactness mean</th>\n",
       "      <td>0.656917</td>\n",
       "    </tr>\n",
       "    <tr>\n",
       "      <th>Concavity mean</th>\n",
       "      <td>0.512830</td>\n",
       "    </tr>\n",
       "    <tr>\n",
       "      <th>Concave points mean</th>\n",
       "      <td>0.541455</td>\n",
       "    </tr>\n",
       "    <tr>\n",
       "      <th>Fractal dimension mean</th>\n",
       "      <td>0.600566</td>\n",
       "    </tr>\n",
       "    <tr>\n",
       "      <th>Symmetry mean</th>\n",
       "      <td>0.557752</td>\n",
       "    </tr>\n",
       "  </tbody>\n",
       "</table>\n",
       "</div>"
      ],
      "text/plain": [
       "                        Pearson coefficient\n",
       "Radius mean                        0.141981\n",
       "Texture mean                      -0.049423\n",
       "Area mean                          0.151101\n",
       "Compactness mean                   0.656917\n",
       "Concavity mean                     0.512830\n",
       "Concave points mean                0.541455\n",
       "Fractal dimension mean             0.600566\n",
       "Symmetry mean                      0.557752"
      ]
     },
     "execution_count": 44,
     "metadata": {},
     "output_type": "execute_result"
    }
   ],
   "source": [
    "pd.DataFrame(r_regression(X_train, np.ravel(y_train)),index=X_train.columns, columns=['Pearson coefficient'])"
   ]
  },
  {
   "cell_type": "code",
   "execution_count": 10,
   "id": "20722354-749f-4c62-9b80-7df265696829",
   "metadata": {},
   "outputs": [
    {
     "data": {
      "text/plain": [
       "0.8859649122807017"
      ]
     },
     "execution_count": 10,
     "metadata": {},
     "output_type": "execute_result"
    }
   ],
   "source": [
    "# Construct MLP classifier using all features and display classification accuracy\n",
    "clf = MLPClassifier(random_state=1, max_iter=300).fit(X_train, np.ravel(y_train))\n",
    "clf.score(X_test, y_test)"
   ]
  },
  {
   "cell_type": "code",
   "execution_count": 11,
   "id": "77da7659-4bbf-4505-9edc-722833ba2c1e",
   "metadata": {},
   "outputs": [
    {
     "data": {
      "text/plain": [
       "0.9035087719298246"
      ]
     },
     "execution_count": 11,
     "metadata": {},
     "output_type": "execute_result"
    }
   ],
   "source": [
    "# Construct MLP classifier using 5 best features and display classification accuracy\n",
    "clf_reduced_kbest = MLPClassifier(random_state=1, \n",
    "                                  max_iter=300).fit(X_train[features[filter_kbest]], np.ravel(y_train))\n",
    "clf_reduced_kbest.score(X_test[features[filter_kbest]], y_test)"
   ]
  },
  {
   "cell_type": "code",
   "execution_count": 12,
   "id": "3049c545-2500-4562-861e-261c8912ea0e",
   "metadata": {},
   "outputs": [
    {
     "data": {
      "text/plain": [
       "0.8771929824561403"
      ]
     },
     "execution_count": 12,
     "metadata": {},
     "output_type": "execute_result"
    }
   ],
   "source": [
    "# Construct MLP classifier using the top 30% features and display classification accuracy\n",
    "clf_reduced_percent = MLPClassifier(random_state=1, \n",
    "                              max_iter=1000).fit(X_train[features[filter_percent]], np.ravel(y_train))\n",
    "clf_reduced_percent.score(X_test[features[filter_percent]], y_test)"
   ]
  }
 ],
 "metadata": {
  "kernelspec": {
   "display_name": "Python 3 (ipykernel)",
   "language": "python",
   "name": "python3"
  },
  "language_info": {
   "codemirror_mode": {
    "name": "ipython",
    "version": 3
   },
   "file_extension": ".py",
   "mimetype": "text/x-python",
   "name": "python",
   "nbconvert_exporter": "python",
   "pygments_lexer": "ipython3",
   "version": "3.11.5"
  }
 },
 "nbformat": 4,
 "nbformat_minor": 5
}
