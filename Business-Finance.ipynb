{
 "cells": [
  {
   "cell_type": "code",
   "execution_count": 50,
   "id": "5d8c5101-67b8-47f1-860d-bbd19c9e222b",
   "metadata": {},
   "outputs": [],
   "source": [
    "import pandas as pd\n",
    "import seaborn as sns\n",
    "import matplotlib.pyplot as plt"
   ]
  },
  {
   "cell_type": "code",
   "execution_count": 55,
   "id": "b4165fce-4417-47c4-9495-d941266056bd",
   "metadata": {},
   "outputs": [],
   "source": [
    "per_fin = pd.read_csv(\"grable.csv\")\n",
    "bus_stats = pd.read_csv(\"black.csv\")\n",
    "cor_fin = pd.read_csv(\"parrino.csv\")\n",
    "con_bus = pd.read_csv(\"boone.csv\")"
   ]
  },
  {
   "cell_type": "code",
   "execution_count": 52,
   "id": "e9177bea-4e7c-45fd-acd6-9d44bc08cd76",
   "metadata": {},
   "outputs": [
    {
     "data": {
      "text/html": [
       "<div>\n",
       "<style scoped>\n",
       "    .dataframe tbody tr th:only-of-type {\n",
       "        vertical-align: middle;\n",
       "    }\n",
       "\n",
       "    .dataframe tbody tr th {\n",
       "        vertical-align: top;\n",
       "    }\n",
       "\n",
       "    .dataframe thead th {\n",
       "        text-align: right;\n",
       "    }\n",
       "</style>\n",
       "<table border=\"1\" class=\"dataframe\">\n",
       "  <thead>\n",
       "    <tr style=\"text-align: right;\">\n",
       "      <th></th>\n",
       "      <th>TSA Net Units</th>\n",
       "      <th>TSA Net Sales</th>\n",
       "    </tr>\n",
       "    <tr>\n",
       "      <th>SPC Sub Group</th>\n",
       "      <th></th>\n",
       "      <th></th>\n",
       "    </tr>\n",
       "  </thead>\n",
       "  <tbody>\n",
       "    <tr>\n",
       "      <th>Print</th>\n",
       "      <td>120.0</td>\n",
       "      <td>10949.55</td>\n",
       "    </tr>\n",
       "    <tr>\n",
       "      <th>WileyPlus</th>\n",
       "      <td>9835.0</td>\n",
       "      <td>577818.69</td>\n",
       "    </tr>\n",
       "    <tr>\n",
       "      <th>eBooks</th>\n",
       "      <td>1399.0</td>\n",
       "      <td>54561.46</td>\n",
       "    </tr>\n",
       "  </tbody>\n",
       "</table>\n",
       "</div>"
      ],
      "text/plain": [
       "               TSA Net Units  TSA Net Sales\n",
       "SPC Sub Group                              \n",
       "Print                  120.0       10949.55\n",
       "WileyPlus             9835.0      577818.69\n",
       "eBooks                1399.0       54561.46"
      ]
     },
     "execution_count": 52,
     "metadata": {},
     "output_type": "execute_result"
    }
   ],
   "source": [
    "per_fin.groupby([\"SPC Sub Group\"]).sum()"
   ]
  },
  {
   "cell_type": "code",
   "execution_count": 53,
   "id": "45b0dddd-ad97-4ff7-b8b8-03f7b4667a70",
   "metadata": {},
   "outputs": [
    {
     "data": {
      "text/html": [
       "<div>\n",
       "<style scoped>\n",
       "    .dataframe tbody tr th:only-of-type {\n",
       "        vertical-align: middle;\n",
       "    }\n",
       "\n",
       "    .dataframe tbody tr th {\n",
       "        vertical-align: top;\n",
       "    }\n",
       "\n",
       "    .dataframe thead th {\n",
       "        text-align: right;\n",
       "    }\n",
       "</style>\n",
       "<table border=\"1\" class=\"dataframe\">\n",
       "  <thead>\n",
       "    <tr style=\"text-align: right;\">\n",
       "      <th></th>\n",
       "      <th>TSA Net Units</th>\n",
       "      <th>TSA Net Sales</th>\n",
       "    </tr>\n",
       "    <tr>\n",
       "      <th>SPC Sub Group</th>\n",
       "      <th></th>\n",
       "      <th></th>\n",
       "    </tr>\n",
       "  </thead>\n",
       "  <tbody>\n",
       "    <tr>\n",
       "      <th>Courseware</th>\n",
       "      <td>1181.0</td>\n",
       "      <td>157020.00</td>\n",
       "    </tr>\n",
       "    <tr>\n",
       "      <th>Print</th>\n",
       "      <td>720.0</td>\n",
       "      <td>48259.32</td>\n",
       "    </tr>\n",
       "    <tr>\n",
       "      <th>WileyPlus</th>\n",
       "      <td>5591.0</td>\n",
       "      <td>419174.68</td>\n",
       "    </tr>\n",
       "    <tr>\n",
       "      <th>eBooks</th>\n",
       "      <td>1061.0</td>\n",
       "      <td>49764.16</td>\n",
       "    </tr>\n",
       "  </tbody>\n",
       "</table>\n",
       "</div>"
      ],
      "text/plain": [
       "               TSA Net Units  TSA Net Sales\n",
       "SPC Sub Group                              \n",
       "Courseware            1181.0      157020.00\n",
       "Print                  720.0       48259.32\n",
       "WileyPlus             5591.0      419174.68\n",
       "eBooks                1061.0       49764.16"
      ]
     },
     "execution_count": 53,
     "metadata": {},
     "output_type": "execute_result"
    }
   ],
   "source": [
    "bus_stats.groupby([\"SPC Sub Group\"]).sum()"
   ]
  },
  {
   "cell_type": "code",
   "execution_count": 56,
   "id": "9037f8f5-ed34-48b4-b7e5-7743c8e59453",
   "metadata": {},
   "outputs": [
    {
     "data": {
      "text/html": [
       "<div>\n",
       "<style scoped>\n",
       "    .dataframe tbody tr th:only-of-type {\n",
       "        vertical-align: middle;\n",
       "    }\n",
       "\n",
       "    .dataframe tbody tr th {\n",
       "        vertical-align: top;\n",
       "    }\n",
       "\n",
       "    .dataframe thead th {\n",
       "        text-align: right;\n",
       "    }\n",
       "</style>\n",
       "<table border=\"1\" class=\"dataframe\">\n",
       "  <thead>\n",
       "    <tr style=\"text-align: right;\">\n",
       "      <th></th>\n",
       "      <th>TSA Net Units</th>\n",
       "      <th>TSA Net Sales</th>\n",
       "    </tr>\n",
       "    <tr>\n",
       "      <th>SPC Sub Group</th>\n",
       "      <th></th>\n",
       "      <th></th>\n",
       "    </tr>\n",
       "  </thead>\n",
       "  <tbody>\n",
       "    <tr>\n",
       "      <th>Print</th>\n",
       "      <td>500.0</td>\n",
       "      <td>54182.09</td>\n",
       "    </tr>\n",
       "    <tr>\n",
       "      <th>WileyPlus</th>\n",
       "      <td>7146.0</td>\n",
       "      <td>499766.36</td>\n",
       "    </tr>\n",
       "    <tr>\n",
       "      <th>eBooks</th>\n",
       "      <td>2720.0</td>\n",
       "      <td>120098.96</td>\n",
       "    </tr>\n",
       "  </tbody>\n",
       "</table>\n",
       "</div>"
      ],
      "text/plain": [
       "               TSA Net Units  TSA Net Sales\n",
       "SPC Sub Group                              \n",
       "Print                  500.0       54182.09\n",
       "WileyPlus             7146.0      499766.36\n",
       "eBooks                2720.0      120098.96"
      ]
     },
     "execution_count": 56,
     "metadata": {},
     "output_type": "execute_result"
    }
   ],
   "source": [
    "cor_fin.groupby([\"SPC Sub Group\"]).sum()"
   ]
  },
  {
   "cell_type": "code",
   "execution_count": 57,
   "id": "7e91a370-e422-4d98-9acd-6a51b1d39f00",
   "metadata": {},
   "outputs": [
    {
     "data": {
      "text/html": [
       "<div>\n",
       "<style scoped>\n",
       "    .dataframe tbody tr th:only-of-type {\n",
       "        vertical-align: middle;\n",
       "    }\n",
       "\n",
       "    .dataframe tbody tr th {\n",
       "        vertical-align: top;\n",
       "    }\n",
       "\n",
       "    .dataframe thead th {\n",
       "        text-align: right;\n",
       "    }\n",
       "</style>\n",
       "<table border=\"1\" class=\"dataframe\">\n",
       "  <thead>\n",
       "    <tr style=\"text-align: right;\">\n",
       "      <th></th>\n",
       "      <th>TSA Net Units</th>\n",
       "      <th>TSA Net Sales</th>\n",
       "    </tr>\n",
       "    <tr>\n",
       "      <th>SPC Sub Group</th>\n",
       "      <th></th>\n",
       "      <th></th>\n",
       "    </tr>\n",
       "  </thead>\n",
       "  <tbody>\n",
       "    <tr>\n",
       "      <th>Print</th>\n",
       "      <td>1049.0</td>\n",
       "      <td>93499.52</td>\n",
       "    </tr>\n",
       "    <tr>\n",
       "      <th>WileyPlus</th>\n",
       "      <td>8168.0</td>\n",
       "      <td>550310.32</td>\n",
       "    </tr>\n",
       "    <tr>\n",
       "      <th>eBooks</th>\n",
       "      <td>2923.0</td>\n",
       "      <td>146490.36</td>\n",
       "    </tr>\n",
       "    <tr>\n",
       "      <th>eProduct</th>\n",
       "      <td>-30.0</td>\n",
       "      <td>-1764.00</td>\n",
       "    </tr>\n",
       "  </tbody>\n",
       "</table>\n",
       "</div>"
      ],
      "text/plain": [
       "               TSA Net Units  TSA Net Sales\n",
       "SPC Sub Group                              \n",
       "Print                 1049.0       93499.52\n",
       "WileyPlus             8168.0      550310.32\n",
       "eBooks                2923.0      146490.36\n",
       "eProduct               -30.0       -1764.00"
      ]
     },
     "execution_count": 57,
     "metadata": {},
     "output_type": "execute_result"
    }
   ],
   "source": [
    "con_bus.groupby([\"SPC Sub Group\"]).sum()"
   ]
  },
  {
   "cell_type": "code",
   "execution_count": null,
   "id": "f9e8a4a0-f20e-43c4-af42-6db6a50817b5",
   "metadata": {},
   "outputs": [],
   "source": []
  }
 ],
 "metadata": {
  "kernelspec": {
   "display_name": "Python 3 (ipykernel)",
   "language": "python",
   "name": "python3"
  },
  "language_info": {
   "codemirror_mode": {
    "name": "ipython",
    "version": 3
   },
   "file_extension": ".py",
   "mimetype": "text/x-python",
   "name": "python",
   "nbconvert_exporter": "python",
   "pygments_lexer": "ipython3",
   "version": "3.11.5"
  }
 },
 "nbformat": 4,
 "nbformat_minor": 5
}
