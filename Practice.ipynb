{
 "cells": [
  {
   "cell_type": "code",
   "execution_count": 37,
   "id": "42fe96f1-b516-4a6a-b340-2b0c5866700b",
   "metadata": {},
   "outputs": [],
   "source": [
    "import matplotlib.pyplot as plt\n",
    "import pandas as pd\n",
    "import numpy as np\n",
    "import seaborn as sns\n",
    "from scipy import stats\n",
    "from sklearn.model_selection import train_test_split\n",
    "from sklearn.linear_model import LinearRegression\n",
    "from numpy import random"
   ]
  },
  {
   "cell_type": "code",
   "execution_count": 8,
   "id": "45419ded-74b0-4e75-98c8-4f0a3924c679",
   "metadata": {},
   "outputs": [
    {
     "data": {
      "text/html": [
       "<div>\n",
       "<style scoped>\n",
       "    .dataframe tbody tr th:only-of-type {\n",
       "        vertical-align: middle;\n",
       "    }\n",
       "\n",
       "    .dataframe tbody tr th {\n",
       "        vertical-align: top;\n",
       "    }\n",
       "\n",
       "    .dataframe thead th {\n",
       "        text-align: right;\n",
       "    }\n",
       "</style>\n",
       "<table border=\"1\" class=\"dataframe\">\n",
       "  <thead>\n",
       "    <tr style=\"text-align: right;\">\n",
       "      <th></th>\n",
       "      <th>Area</th>\n",
       "      <th>Perimeter</th>\n",
       "      <th>Shape</th>\n",
       "      <th>Permeability</th>\n",
       "    </tr>\n",
       "  </thead>\n",
       "  <tbody>\n",
       "    <tr>\n",
       "      <th>0</th>\n",
       "      <td>4990</td>\n",
       "      <td>2791.900</td>\n",
       "      <td>0.090330</td>\n",
       "      <td>6.3</td>\n",
       "    </tr>\n",
       "    <tr>\n",
       "      <th>1</th>\n",
       "      <td>7002</td>\n",
       "      <td>3892.600</td>\n",
       "      <td>0.148622</td>\n",
       "      <td>6.3</td>\n",
       "    </tr>\n",
       "    <tr>\n",
       "      <th>2</th>\n",
       "      <td>7558</td>\n",
       "      <td>3930.660</td>\n",
       "      <td>0.183312</td>\n",
       "      <td>6.3</td>\n",
       "    </tr>\n",
       "    <tr>\n",
       "      <th>3</th>\n",
       "      <td>7352</td>\n",
       "      <td>3869.320</td>\n",
       "      <td>0.117063</td>\n",
       "      <td>6.3</td>\n",
       "    </tr>\n",
       "    <tr>\n",
       "      <th>4</th>\n",
       "      <td>7943</td>\n",
       "      <td>3948.540</td>\n",
       "      <td>0.122417</td>\n",
       "      <td>17.1</td>\n",
       "    </tr>\n",
       "    <tr>\n",
       "      <th>5</th>\n",
       "      <td>7979</td>\n",
       "      <td>4010.150</td>\n",
       "      <td>0.167045</td>\n",
       "      <td>17.1</td>\n",
       "    </tr>\n",
       "    <tr>\n",
       "      <th>6</th>\n",
       "      <td>9333</td>\n",
       "      <td>4345.750</td>\n",
       "      <td>0.189651</td>\n",
       "      <td>17.1</td>\n",
       "    </tr>\n",
       "    <tr>\n",
       "      <th>7</th>\n",
       "      <td>8209</td>\n",
       "      <td>4344.750</td>\n",
       "      <td>0.164127</td>\n",
       "      <td>17.1</td>\n",
       "    </tr>\n",
       "    <tr>\n",
       "      <th>8</th>\n",
       "      <td>8393</td>\n",
       "      <td>3682.040</td>\n",
       "      <td>0.203654</td>\n",
       "      <td>119.0</td>\n",
       "    </tr>\n",
       "    <tr>\n",
       "      <th>9</th>\n",
       "      <td>6425</td>\n",
       "      <td>3098.650</td>\n",
       "      <td>0.162394</td>\n",
       "      <td>119.0</td>\n",
       "    </tr>\n",
       "    <tr>\n",
       "      <th>10</th>\n",
       "      <td>9364</td>\n",
       "      <td>4480.050</td>\n",
       "      <td>0.150944</td>\n",
       "      <td>119.0</td>\n",
       "    </tr>\n",
       "    <tr>\n",
       "      <th>11</th>\n",
       "      <td>8624</td>\n",
       "      <td>3986.240</td>\n",
       "      <td>0.148141</td>\n",
       "      <td>119.0</td>\n",
       "    </tr>\n",
       "    <tr>\n",
       "      <th>12</th>\n",
       "      <td>10651</td>\n",
       "      <td>4036.540</td>\n",
       "      <td>0.228595</td>\n",
       "      <td>82.4</td>\n",
       "    </tr>\n",
       "    <tr>\n",
       "      <th>13</th>\n",
       "      <td>8868</td>\n",
       "      <td>3518.040</td>\n",
       "      <td>0.231623</td>\n",
       "      <td>82.4</td>\n",
       "    </tr>\n",
       "    <tr>\n",
       "      <th>14</th>\n",
       "      <td>9417</td>\n",
       "      <td>3999.370</td>\n",
       "      <td>0.172567</td>\n",
       "      <td>82.4</td>\n",
       "    </tr>\n",
       "    <tr>\n",
       "      <th>15</th>\n",
       "      <td>8874</td>\n",
       "      <td>3629.070</td>\n",
       "      <td>0.153481</td>\n",
       "      <td>82.4</td>\n",
       "    </tr>\n",
       "    <tr>\n",
       "      <th>16</th>\n",
       "      <td>10962</td>\n",
       "      <td>4608.660</td>\n",
       "      <td>0.204314</td>\n",
       "      <td>58.6</td>\n",
       "    </tr>\n",
       "    <tr>\n",
       "      <th>17</th>\n",
       "      <td>10743</td>\n",
       "      <td>4787.620</td>\n",
       "      <td>0.262727</td>\n",
       "      <td>58.6</td>\n",
       "    </tr>\n",
       "    <tr>\n",
       "      <th>18</th>\n",
       "      <td>11878</td>\n",
       "      <td>4864.220</td>\n",
       "      <td>0.200071</td>\n",
       "      <td>58.6</td>\n",
       "    </tr>\n",
       "    <tr>\n",
       "      <th>19</th>\n",
       "      <td>9867</td>\n",
       "      <td>4479.410</td>\n",
       "      <td>0.144810</td>\n",
       "      <td>58.6</td>\n",
       "    </tr>\n",
       "    <tr>\n",
       "      <th>20</th>\n",
       "      <td>7838</td>\n",
       "      <td>3428.740</td>\n",
       "      <td>0.113852</td>\n",
       "      <td>142.0</td>\n",
       "    </tr>\n",
       "    <tr>\n",
       "      <th>21</th>\n",
       "      <td>11876</td>\n",
       "      <td>4353.140</td>\n",
       "      <td>0.291029</td>\n",
       "      <td>142.0</td>\n",
       "    </tr>\n",
       "    <tr>\n",
       "      <th>22</th>\n",
       "      <td>12212</td>\n",
       "      <td>4697.650</td>\n",
       "      <td>0.240077</td>\n",
       "      <td>142.0</td>\n",
       "    </tr>\n",
       "    <tr>\n",
       "      <th>23</th>\n",
       "      <td>8233</td>\n",
       "      <td>3518.440</td>\n",
       "      <td>0.161865</td>\n",
       "      <td>142.0</td>\n",
       "    </tr>\n",
       "    <tr>\n",
       "      <th>24</th>\n",
       "      <td>6360</td>\n",
       "      <td>1977.390</td>\n",
       "      <td>0.280887</td>\n",
       "      <td>740.0</td>\n",
       "    </tr>\n",
       "    <tr>\n",
       "      <th>25</th>\n",
       "      <td>4193</td>\n",
       "      <td>1379.350</td>\n",
       "      <td>0.179455</td>\n",
       "      <td>740.0</td>\n",
       "    </tr>\n",
       "    <tr>\n",
       "      <th>26</th>\n",
       "      <td>7416</td>\n",
       "      <td>1916.240</td>\n",
       "      <td>0.191802</td>\n",
       "      <td>740.0</td>\n",
       "    </tr>\n",
       "    <tr>\n",
       "      <th>27</th>\n",
       "      <td>5246</td>\n",
       "      <td>1585.420</td>\n",
       "      <td>0.133083</td>\n",
       "      <td>740.0</td>\n",
       "    </tr>\n",
       "    <tr>\n",
       "      <th>28</th>\n",
       "      <td>6509</td>\n",
       "      <td>1851.210</td>\n",
       "      <td>0.225214</td>\n",
       "      <td>890.0</td>\n",
       "    </tr>\n",
       "    <tr>\n",
       "      <th>29</th>\n",
       "      <td>4895</td>\n",
       "      <td>1239.660</td>\n",
       "      <td>0.341273</td>\n",
       "      <td>890.0</td>\n",
       "    </tr>\n",
       "    <tr>\n",
       "      <th>30</th>\n",
       "      <td>6775</td>\n",
       "      <td>1728.140</td>\n",
       "      <td>0.311646</td>\n",
       "      <td>890.0</td>\n",
       "    </tr>\n",
       "    <tr>\n",
       "      <th>31</th>\n",
       "      <td>7894</td>\n",
       "      <td>1461.060</td>\n",
       "      <td>0.276016</td>\n",
       "      <td>890.0</td>\n",
       "    </tr>\n",
       "    <tr>\n",
       "      <th>32</th>\n",
       "      <td>5980</td>\n",
       "      <td>1426.760</td>\n",
       "      <td>0.197653</td>\n",
       "      <td>950.0</td>\n",
       "    </tr>\n",
       "    <tr>\n",
       "      <th>33</th>\n",
       "      <td>5318</td>\n",
       "      <td>990.388</td>\n",
       "      <td>0.326635</td>\n",
       "      <td>950.0</td>\n",
       "    </tr>\n",
       "    <tr>\n",
       "      <th>34</th>\n",
       "      <td>7392</td>\n",
       "      <td>1350.760</td>\n",
       "      <td>0.154192</td>\n",
       "      <td>950.0</td>\n",
       "    </tr>\n",
       "    <tr>\n",
       "      <th>35</th>\n",
       "      <td>7894</td>\n",
       "      <td>1461.060</td>\n",
       "      <td>0.276016</td>\n",
       "      <td>950.0</td>\n",
       "    </tr>\n",
       "    <tr>\n",
       "      <th>36</th>\n",
       "      <td>3469</td>\n",
       "      <td>1376.700</td>\n",
       "      <td>0.176969</td>\n",
       "      <td>100.0</td>\n",
       "    </tr>\n",
       "    <tr>\n",
       "      <th>37</th>\n",
       "      <td>1468</td>\n",
       "      <td>476.322</td>\n",
       "      <td>0.438712</td>\n",
       "      <td>100.0</td>\n",
       "    </tr>\n",
       "    <tr>\n",
       "      <th>38</th>\n",
       "      <td>3524</td>\n",
       "      <td>1189.460</td>\n",
       "      <td>0.163586</td>\n",
       "      <td>100.0</td>\n",
       "    </tr>\n",
       "    <tr>\n",
       "      <th>39</th>\n",
       "      <td>5267</td>\n",
       "      <td>1644.960</td>\n",
       "      <td>0.253832</td>\n",
       "      <td>100.0</td>\n",
       "    </tr>\n",
       "    <tr>\n",
       "      <th>40</th>\n",
       "      <td>5048</td>\n",
       "      <td>941.543</td>\n",
       "      <td>0.328641</td>\n",
       "      <td>1300.0</td>\n",
       "    </tr>\n",
       "    <tr>\n",
       "      <th>41</th>\n",
       "      <td>1016</td>\n",
       "      <td>308.642</td>\n",
       "      <td>0.230081</td>\n",
       "      <td>1300.0</td>\n",
       "    </tr>\n",
       "    <tr>\n",
       "      <th>42</th>\n",
       "      <td>5605</td>\n",
       "      <td>1145.690</td>\n",
       "      <td>0.464125</td>\n",
       "      <td>1300.0</td>\n",
       "    </tr>\n",
       "    <tr>\n",
       "      <th>43</th>\n",
       "      <td>8793</td>\n",
       "      <td>2280.490</td>\n",
       "      <td>0.420477</td>\n",
       "      <td>1300.0</td>\n",
       "    </tr>\n",
       "    <tr>\n",
       "      <th>44</th>\n",
       "      <td>3475</td>\n",
       "      <td>1174.110</td>\n",
       "      <td>0.200744</td>\n",
       "      <td>580.0</td>\n",
       "    </tr>\n",
       "    <tr>\n",
       "      <th>45</th>\n",
       "      <td>1651</td>\n",
       "      <td>597.808</td>\n",
       "      <td>0.262651</td>\n",
       "      <td>580.0</td>\n",
       "    </tr>\n",
       "    <tr>\n",
       "      <th>46</th>\n",
       "      <td>5514</td>\n",
       "      <td>1455.880</td>\n",
       "      <td>0.182453</td>\n",
       "      <td>580.0</td>\n",
       "    </tr>\n",
       "    <tr>\n",
       "      <th>47</th>\n",
       "      <td>9718</td>\n",
       "      <td>1485.580</td>\n",
       "      <td>0.200447</td>\n",
       "      <td>580.0</td>\n",
       "    </tr>\n",
       "  </tbody>\n",
       "</table>\n",
       "</div>"
      ],
      "text/plain": [
       "     Area  Perimeter     Shape  Permeability\n",
       "0    4990   2791.900  0.090330           6.3\n",
       "1    7002   3892.600  0.148622           6.3\n",
       "2    7558   3930.660  0.183312           6.3\n",
       "3    7352   3869.320  0.117063           6.3\n",
       "4    7943   3948.540  0.122417          17.1\n",
       "5    7979   4010.150  0.167045          17.1\n",
       "6    9333   4345.750  0.189651          17.1\n",
       "7    8209   4344.750  0.164127          17.1\n",
       "8    8393   3682.040  0.203654         119.0\n",
       "9    6425   3098.650  0.162394         119.0\n",
       "10   9364   4480.050  0.150944         119.0\n",
       "11   8624   3986.240  0.148141         119.0\n",
       "12  10651   4036.540  0.228595          82.4\n",
       "13   8868   3518.040  0.231623          82.4\n",
       "14   9417   3999.370  0.172567          82.4\n",
       "15   8874   3629.070  0.153481          82.4\n",
       "16  10962   4608.660  0.204314          58.6\n",
       "17  10743   4787.620  0.262727          58.6\n",
       "18  11878   4864.220  0.200071          58.6\n",
       "19   9867   4479.410  0.144810          58.6\n",
       "20   7838   3428.740  0.113852         142.0\n",
       "21  11876   4353.140  0.291029         142.0\n",
       "22  12212   4697.650  0.240077         142.0\n",
       "23   8233   3518.440  0.161865         142.0\n",
       "24   6360   1977.390  0.280887         740.0\n",
       "25   4193   1379.350  0.179455         740.0\n",
       "26   7416   1916.240  0.191802         740.0\n",
       "27   5246   1585.420  0.133083         740.0\n",
       "28   6509   1851.210  0.225214         890.0\n",
       "29   4895   1239.660  0.341273         890.0\n",
       "30   6775   1728.140  0.311646         890.0\n",
       "31   7894   1461.060  0.276016         890.0\n",
       "32   5980   1426.760  0.197653         950.0\n",
       "33   5318    990.388  0.326635         950.0\n",
       "34   7392   1350.760  0.154192         950.0\n",
       "35   7894   1461.060  0.276016         950.0\n",
       "36   3469   1376.700  0.176969         100.0\n",
       "37   1468    476.322  0.438712         100.0\n",
       "38   3524   1189.460  0.163586         100.0\n",
       "39   5267   1644.960  0.253832         100.0\n",
       "40   5048    941.543  0.328641        1300.0\n",
       "41   1016    308.642  0.230081        1300.0\n",
       "42   5605   1145.690  0.464125        1300.0\n",
       "43   8793   2280.490  0.420477        1300.0\n",
       "44   3475   1174.110  0.200744         580.0\n",
       "45   1651    597.808  0.262651         580.0\n",
       "46   5514   1455.880  0.182453         580.0\n",
       "47   9718   1485.580  0.200447         580.0"
      ]
     },
     "execution_count": 8,
     "metadata": {},
     "output_type": "execute_result"
    }
   ],
   "source": [
    "rock = pd.read_csv('rock.csv')\n",
    "rock"
   ]
  },
  {
   "cell_type": "code",
   "execution_count": 3,
   "id": "259506f4-5d06-487e-9e23-bafd0a5049be",
   "metadata": {},
   "outputs": [
    {
     "data": {
      "text/plain": [
       "LinregressResult(slope=-5.667162245628861e-06, intercept=0.25884445653180543, rvalue=-0.18216112550299984, pvalue=0.2152784124104263, stderr=4.510277274267463e-06, intercept_stderr=0.03456074291277461)"
      ]
     },
     "execution_count": 3,
     "metadata": {},
     "output_type": "execute_result"
    }
   ],
   "source": [
    "linReg = stats.linregress(x=rock['Area'], y=rock['Shape'])\n",
    "x = np.linspace(0,13000,100000)\n",
    "linReg"
   ]
  },
  {
   "cell_type": "code",
   "execution_count": 4,
   "id": "ff76049b-0a17-4352-ad10-ca652f6e0e96",
   "metadata": {},
   "outputs": [
    {
     "data": {
      "image/png": "[encoded data removed]",
      "text/plain": [
       "<Figure size 432x288 with 1 Axes>"
      ]
     },
     "metadata": {
      "needs_background": "light"
     },
     "output_type": "display_data"
    }
   ],
   "source": [
    "plt.scatter(rock['Area'], rock['Shape'], label='Scatter plot')\n",
    "plt.plot(x, linReg.slope*x + linReg.intercept, color='r', label='Reg line')\n",
    "plt.legend(title='Legend')\n",
    "plt.show()"
   ]
  },
  {
   "cell_type": "code",
   "execution_count": 5,
   "id": "2392666c-8d59-428d-be66-d7769a88f3b4",
   "metadata": {},
   "outputs": [
    {
     "data": {
      "text/plain": [
       "<AxesSubplot:xlabel='Area', ylabel='Shape'>"
      ]
     },
     "execution_count": 5,
     "metadata": {},
     "output_type": "execute_result"
    },
    {
     "data": {
      "image/png": "[encoded data removed]",
      "text/plain": [
       "<Figure size 432x288 with 1 Axes>"
      ]
     },
     "metadata": {
      "needs_background": "light"
     },
     "output_type": "display_data"
    }
   ],
   "source": [
    "sns.scatterplot(x='Area', y='Shape', data=rock)"
   ]
  },
  {
   "cell_type": "code",
   "execution_count": 6,
   "id": "ee1bf58b-39e3-4cbd-8e38-a3a7d5751088",
   "metadata": {},
   "outputs": [
    {
     "data": {
      "text/plain": [
       "<AxesSubplot:xlabel='Area', ylabel='Shape'>"
      ]
     },
     "execution_count": 6,
     "metadata": {},
     "output_type": "execute_result"
    },
    {
     "data": {
      "image/png": "[encoded data removed]",
      "text/plain": [
       "<Figure size 432x288 with 1 Axes>"
      ]
     },
     "metadata": {
      "needs_background": "light"
     },
     "output_type": "display_data"
    }
   ],
   "source": [
    "sns.regplot(x='Area', y='Shape', data=rock, ci=False)"
   ]
  },
  {
   "cell_type": "code",
   "execution_count": 20,
   "id": "b6ccfc8e-8951-49c8-bbc7-2131bad559e3",
   "metadata": {},
   "outputs": [],
   "source": [
    "X = rock[['Area']]"
   ]
  },
  {
   "cell_type": "code",
   "execution_count": 21,
   "id": "880bfb91-8d81-4a43-b38e-374721db70b6",
   "metadata": {},
   "outputs": [],
   "source": [
    "y = rock[['Shape']]"
   ]
  },
  {
   "cell_type": "code",
   "execution_count": 12,
   "id": "82149860-b53a-4547-a8a5-5c927badea61",
   "metadata": {},
   "outputs": [],
   "source": [
    "X_train, X_test, y_train, y_test = train_test_split(X, y, test_size=0.2, random_state=123)"
   ]
  },
  {
   "cell_type": "code",
   "execution_count": 22,
   "id": "a280a3eb-aa04-42d9-917c-096da9a89ed4",
   "metadata": {},
   "outputs": [],
   "source": [
    "reg = LinearRegression().fit(X,y)"
   ]
  },
  {
   "cell_type": "code",
   "execution_count": 23,
   "id": "c67c8dfd-c20d-49e9-867d-2345254423a2",
   "metadata": {},
   "outputs": [
    {
     "data": {
      "text/plain": [
       "array([[-5.66716225e-06]])"
      ]
     },
     "execution_count": 23,
     "metadata": {},
     "output_type": "execute_result"
    }
   ],
   "source": [
    "reg.coef_"
   ]
  },
  {
   "cell_type": "code",
   "execution_count": 26,
   "id": "c4f4acee-06cd-4014-bfcc-1073ad991168",
   "metadata": {},
   "outputs": [
    {
     "data": {
      "text/plain": [
       "array([0.25884446])"
      ]
     },
     "execution_count": 26,
     "metadata": {},
     "output_type": "execute_result"
    }
   ],
   "source": [
    "reg.intercept_"
   ]
  },
  {
   "cell_type": "code",
   "execution_count": 34,
   "id": "b8c715af-09d3-4f43-801d-e79a68222caa",
   "metadata": {},
   "outputs": [],
   "source": [
    "list = [1,2,3,4,5]"
   ]
  },
  {
   "cell_type": "code",
   "execution_count": 35,
   "id": "0aace782-dd2f-4546-8bec-dda07de64d55",
   "metadata": {},
   "outputs": [
    {
     "data": {
      "text/plain": [
       "1"
      ]
     },
     "execution_count": 35,
     "metadata": {},
     "output_type": "execute_result"
    }
   ],
   "source": [
    "list[0]"
   ]
  },
  {
   "cell_type": "code",
   "execution_count": 38,
   "id": "15efbdd2-94a0-4b62-b648-f3f793fe1e11",
   "metadata": {},
   "outputs": [
    {
     "data": {
      "text/plain": [
       "array([[0.07814309, 0.90471285, 0.37737566, 0.30510267, 0.87546145]])"
      ]
     },
     "execution_count": 38,
     "metadata": {},
     "output_type": "execute_result"
    }
   ],
   "source": [
    "random.rand(1,5)"
   ]
  },
  {
   "cell_type": "code",
   "execution_count": 40,
   "id": "6ad07909-0370-460e-886a-07999855498e",
   "metadata": {},
   "outputs": [],
   "source": [
    "x = random.normal(0,1,1000)"
   ]
  },
  {
   "cell_type": "code",
   "execution_count": 42,
   "id": "8e17bcb9-4f58-41fe-8908-c67185249395",
   "metadata": {},
   "outputs": [
    {
     "data": {
      "image/png": "[encoded data removed]",
      "text/plain": [
       "<Figure size 432x288 with 1 Axes>"
      ]
     },
     "metadata": {
      "needs_background": "light"
     },
     "output_type": "display_data"
    }
   ],
   "source": [
    "plt.hist(x)\n",
    "plt.show()"
   ]
  },
  {
   "cell_type": "code",
   "execution_count": 43,
   "id": "c6971dd1-6615-4cb6-b5d2-dcbd4e0c0c5a",
   "metadata": {},
   "outputs": [],
   "source": [
    "list = [1,2,3,4]"
   ]
  },
  {
   "cell_type": "code",
   "execution_count": 44,
   "id": "cef87458-88e2-456e-812d-b0903766d361",
   "metadata": {},
   "outputs": [],
   "source": [
    "list.append(\"Hi\")"
   ]
  },
  {
   "cell_type": "code",
   "execution_count": 45,
   "id": "a9f887d2-899f-4b86-89d7-6a6e0f47dfe4",
   "metadata": {},
   "outputs": [
    {
     "data": {
      "text/plain": [
       "[1, 2, 3, 4, 'Hi']"
      ]
     },
     "execution_count": 45,
     "metadata": {},
     "output_type": "execute_result"
    }
   ],
   "source": [
    "list"
   ]
  },
  {
   "cell_type": "code",
   "execution_count": 47,
   "id": "17d12111-f3e3-4dc2-950d-53acabea7810",
   "metadata": {},
   "outputs": [
    {
     "data": {
      "text/plain": [
       "1"
      ]
     },
     "execution_count": 47,
     "metadata": {},
     "output_type": "execute_result"
    }
   ],
   "source": [
    "list.pop(0)"
   ]
  },
  {
   "cell_type": "code",
   "execution_count": 48,
   "id": "fd02e59e-f33d-45bc-8ee6-82a71fbef281",
   "metadata": {},
   "outputs": [
    {
     "data": {
      "text/plain": [
       "[2, 3, 4, 'Hi']"
      ]
     },
     "execution_count": 48,
     "metadata": {},
     "output_type": "execute_result"
    }
   ],
   "source": [
    "list"
   ]
  },
  {
   "cell_type": "code",
   "execution_count": 49,
   "id": "2398b1fb-e4df-4609-8942-8440844dee46",
   "metadata": {},
   "outputs": [],
   "source": [
    "list.insert(0,1)"
   ]
  },
  {
   "cell_type": "code",
   "execution_count": 50,
   "id": "e993a174-cb11-469d-a389-3a0682308dc4",
   "metadata": {},
   "outputs": [
    {
     "data": {
      "text/plain": [
       "[1, 2, 3, 4, 'Hi']"
      ]
     },
     "execution_count": 50,
     "metadata": {},
     "output_type": "execute_result"
    }
   ],
   "source": [
    "list"
   ]
  },
  {
   "cell_type": "code",
   "execution_count": 51,
   "id": "e9b46dee-6df1-4942-a885-9c6088bca630",
   "metadata": {},
   "outputs": [],
   "source": [
    "list1 = [1,2,3,5,1,1,1]\n"
   ]
  },
  {
   "cell_type": "code",
   "execution_count": 54,
   "id": "c8dd4a13-db24-445b-a4f7-a39139b1c414",
   "metadata": {},
   "outputs": [],
   "source": [
    "s = set(list1)"
   ]
  },
  {
   "cell_type": "code",
   "execution_count": 56,
   "id": "a7d9f70f-fafb-49e7-ac39-405bc93dde74",
   "metadata": {},
   "outputs": [
    {
     "ename": "NameError",
     "evalue": "name 'lst' is not defined",
     "output_type": "error",
     "traceback": [
      "\u001b[0;31m---------------------------------------------------------------------------\u001b[0m",
      "\u001b[0;31mNameError\u001b[0m                                 Traceback (most recent call last)",
      "\u001b[0;32m/var/folders/hs/1vg7k3hs1_34vpfdct382twh0000gn/T/ipykernel_25231/268303807.py\u001b[0m in \u001b[0;36m<module>\u001b[0;34m\u001b[0m\n\u001b[0;32m----> 1\u001b[0;31m \u001b[0mlst\u001b[0m\u001b[0;34m(\u001b[0m\u001b[0ms\u001b[0m\u001b[0;34m)\u001b[0m\u001b[0;34m\u001b[0m\u001b[0;34m\u001b[0m\u001b[0m\n\u001b[0m",
      "\u001b[0;31mNameError\u001b[0m: name 'lst' is not defined"
     ]
    }
   ],
   "source": [
    "list("
   ]
  },
  {
   "cell_type": "code",
   "execution_count": null,
   "id": "20642f29-fb40-4cf9-8314-e4a9a4e7a1c4",
   "metadata": {},
   "outputs": [],
   "source": []
  }
 ],
 "metadata": {
  "kernelspec": {
   "display_name": "Python 3 (ipykernel)",
   "language": "python",
   "name": "python3"
  },
  "language_info": {
   "codemirror_mode": {
    "name": "ipython",
    "version": 3
   },
   "file_extension": ".py",
   "mimetype": "text/x-python",
   "name": "python",
   "nbconvert_exporter": "python",
   "pygments_lexer": "ipython3",
   "version": "3.9.7"
  }
 },
 "nbformat": 4,
 "nbformat_minor": 5
}
