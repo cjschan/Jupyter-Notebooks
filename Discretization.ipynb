{
 "cells": [
  {
   "cell_type": "code",
   "execution_count": 1,
   "id": "588d6bfb-60bb-4b0a-bba3-4adf4661a8ca",
   "metadata": {},
   "outputs": [],
   "source": [
    "# Import all libraries\n",
    "from sklearn.preprocessing import KBinsDiscretizer\n",
    "import seaborn as sns\n",
    "import pandas as pd\n",
    "import numpy as np\n",
    "import matplotlib.pyplot as plt"
   ]
  },
  {
   "cell_type": "code",
   "execution_count": 2,
   "id": "74a5539a-7c5f-4a29-8725-7c488ebd1cb3",
   "metadata": {},
   "outputs": [],
   "source": [
    "# Load the abalone.csv data\n",
    "abalone = pd.read_csv('abalone.csv')"
   ]
  },
  {
   "cell_type": "code",
   "execution_count": 3,
   "id": "2355df56-e93d-493c-a3f3-d6fc01dc8d6e",
   "metadata": {},
   "outputs": [
    {
     "data": {
      "text/plain": [
       "KBinsDiscretizer(n_bins=4, strategy='uniform')"
      ]
     },
     "execution_count": 3,
     "metadata": {},
     "output_type": "execute_result"
    }
   ],
   "source": [
    "# Create and fit a discretizer with equal weights and 4 bins\n",
    "discretizer_eqwidth = KBinsDiscretizer(n_bins=4, strategy='uniform')\n",
    "discretizer_eqwidth.fit(np.reshape(abalone[['length']],(4177,1)))"
   ]
  },
  {
   "cell_type": "code",
   "execution_count": 4,
   "id": "ba4147a4-900f-4b51-b862-4fd43c07d3da",
   "metadata": {},
   "outputs": [
    {
     "data": {
      "text/plain": [
       "array([0.075, 0.26 , 0.445, 0.63 , 0.815])"
      ]
     },
     "execution_count": 4,
     "metadata": {},
     "output_type": "execute_result"
    }
   ],
   "source": [
    "# Display the bin edges\n",
    "discretizer_eqwidth.bin_edges_[0]"
   ]
  },
  {
   "cell_type": "code",
   "execution_count": 5,
   "id": "1bfa26cc-7eea-405c-9a85-f3efa8f3bc84",
   "metadata": {},
   "outputs": [
    {
     "data": {
      "text/plain": [
       "Text(0, 0.5, 'Count')"
      ]
     },
     "execution_count": 5,
     "metadata": {},
     "output_type": "execute_result"
    },
    {
     "data": {
      "image/png": "[encoded data removed]",
      "text/plain": [
       "<Figure size 432x288 with 1 Axes>"
      ]
     },
     "metadata": {
      "needs_background": "light"
     },
     "output_type": "display_data"
    }
   ],
   "source": [
    "sns.histplot(data=abalone, x='length', bins=4)\n",
    "# Equivalently, sns.displot(data = abalone, x='length', bins=discretizer_eqwidth.bin_edges_[0])\n",
    "plt.xlabel('length', size=14)\n",
    "plt.ylabel('Count', size=14)"
   ]
  },
  {
   "cell_type": "code",
   "execution_count": 6,
   "id": "8aa545d2-9ca2-406a-a737-bcc051f97f60",
   "metadata": {},
   "outputs": [
    {
     "data": {
      "text/plain": [
       "KBinsDiscretizer()"
      ]
     },
     "execution_count": 6,
     "metadata": {},
     "output_type": "execute_result"
    }
   ],
   "source": [
    "# Create and fit a discretizer with equal frequency and 4 bins\n",
    "discretizer_eqfreq = KBinsDiscretizer(n_bins=5, strategy='quantile')\n",
    "discretizer_eqfreq.fit(np.reshape(abalone[['height']],(4177,1)))"
   ]
  },
  {
   "cell_type": "code",
   "execution_count": 7,
   "id": "2dc22193-f653-41e6-a092-03a5b11725ba",
   "metadata": {},
   "outputs": [
    {
     "data": {
      "text/plain": [
       "array([0.   , 0.105, 0.13 , 0.15 , 0.175, 1.13 ])"
      ]
     },
     "execution_count": 7,
     "metadata": {},
     "output_type": "execute_result"
    }
   ],
   "source": [
    "# Display bin edges\n",
    "discretizer_eqfreq.bin_edges_[0]"
   ]
  },
  {
   "cell_type": "code",
   "execution_count": 16,
   "id": "8875f52e-f978-454d-8918-1d75b115ef00",
   "metadata": {},
   "outputs": [
    {
     "data": {
      "text/plain": [
       "Text(-2.700000000000003, 0.5, 'Count')"
      ]
     },
     "execution_count": 16,
     "metadata": {},
     "output_type": "execute_result"
    },
    {
     "data": {
      "image/png": "[encoded data removed]",
      "text/plain": [
       "<Figure size 360x360 with 1 Axes>"
      ]
     },
     "metadata": {
      "needs_background": "light"
     },
     "output_type": "display_data"
    }
   ],
   "source": [
    "sns.displot(data=abalone, x='length', bins=discretizer_eqfreq.bin_edges_[0])\n",
    "plt.xlabel('length', size=14)\n",
    "plt.ylabel('Count', size=14)"
   ]
  },
  {
   "cell_type": "code",
   "execution_count": 19,
   "id": "143e43ad-9a54-4181-9cb6-d84ba2344ba2",
   "metadata": {},
   "outputs": [
    {
     "data": {
      "text/plain": [
       "(array([ 119.,  859., 2369.,  830.]),\n",
       " array([0.075, 0.26 , 0.445, 0.63 , 0.815]),\n",
       " <BarContainer object of 4 artists>)"
      ]
     },
     "execution_count": 19,
     "metadata": {},
     "output_type": "execute_result"
    },
    {
     "data": {
      "image/png": "[encoded data removed]",
      "text/plain": [
       "<Figure size 432x288 with 1 Axes>"
      ]
     },
     "metadata": {
      "needs_background": "light"
     },
     "output_type": "display_data"
    }
   ],
   "source": [
    "plt.hist(abalone[['length']], bins=4)"
   ]
  },
  {
   "cell_type": "code",
   "execution_count": 20,
   "id": "bd3e7728-88cd-4fc3-8ab2-a171ebe897e6",
   "metadata": {},
   "outputs": [],
   "source": [
    "def equalObs(x, nbin):\n",
    "    nlen = len(x)\n",
    "    return np.interp(np.linspace(0, nlen, nbin + 1),\n",
    "                     np.arange(nlen),\n",
    "                     np.sort(x))"
   ]
  },
  {
   "cell_type": "code",
   "execution_count": 27,
   "id": "4b103f8f-4c6c-45d7-bc5d-121739f79d98",
   "metadata": {},
   "outputs": [
    {
     "data": {
      "image/png": "[encoded data removed]",
      "text/plain": [
       "<Figure size 432x288 with 1 Axes>"
      ]
     },
     "metadata": {
      "needs_background": "light"
     },
     "output_type": "display_data"
    }
   ],
   "source": [
    "n, bins, patches = plt.hist(abalone['length'], equalObs(abalone['length'], 4), edgecolor='black')"
   ]
  },
  {
   "cell_type": "code",
   "execution_count": 28,
   "id": "bee07c34-19bc-4d8c-a9c2-cd0d3b0810e6",
   "metadata": {},
   "outputs": [
    {
     "data": {
      "text/plain": [
       "(array([1007., 1070., 1023., 1077.]),\n",
       " array([0.075, 0.45 , 0.545, 0.615, 0.815]))"
      ]
     },
     "execution_count": 28,
     "metadata": {},
     "output_type": "execute_result"
    }
   ],
   "source": [
    "n, bins"
   ]
  },
  {
   "cell_type": "code",
   "execution_count": 8,
   "id": "b3a2215a-6307-4e06-9164-6167d031d20a",
   "metadata": {},
   "outputs": [
    {
     "data": {
      "text/plain": [
       "<seaborn.axisgrid.FacetGrid at 0x7fcae0d5cd60>"
      ]
     },
     "execution_count": 8,
     "metadata": {},
     "output_type": "execute_result"
    },
    {
     "data": {
      "image/png": "[encoded data removed]",
      "text/plain": [
       "<Figure size 360x360 with 1 Axes>"
      ]
     },
     "metadata": {
      "needs_background": "light"
     },
     "output_type": "display_data"
    }
   ],
   "source": [
    "sns.displot(data=abalone, x='length')"
   ]
  },
  {
   "cell_type": "code",
   "execution_count": 36,
   "id": "341de298-44df-4883-bee3-5ae2fe515f9b",
   "metadata": {},
   "outputs": [],
   "source": [
    "array = abalone['length']"
   ]
  },
  {
   "cell_type": "code",
   "execution_count": 10,
   "id": "c8a7f176-d623-43e6-8654-0aa87eb68c99",
   "metadata": {},
   "outputs": [
    {
     "data": {
      "text/plain": [
       "0       0.455\n",
       "1       0.350\n",
       "2       0.530\n",
       "3       0.440\n",
       "4       0.330\n",
       "        ...  \n",
       "4172    0.565\n",
       "4173    0.590\n",
       "4174    0.600\n",
       "4175    0.625\n",
       "4176    0.710\n",
       "Name: length, Length: 4177, dtype: float64"
      ]
     },
     "execution_count": 10,
     "metadata": {},
     "output_type": "execute_result"
    }
   ],
   "source": [
    "array"
   ]
  },
  {
   "cell_type": "code",
   "execution_count": 13,
   "id": "0b47c777-861a-41fd-ab78-ecf47d448a84",
   "metadata": {},
   "outputs": [
    {
     "data": {
      "text/plain": [
       "Text(0.5, 6.79999999999999, '')"
      ]
     },
     "execution_count": 13,
     "metadata": {},
     "output_type": "execute_result"
    },
    {
     "data": {
      "image/png": "[encoded data removed]",
      "text/plain": [
       "<Figure size 360x360 with 1 Axes>"
      ]
     },
     "metadata": {
      "needs_background": "light"
     },
     "output_type": "display_data"
    }
   ],
   "source": [
    "sns.displot(data=array, x=array)\n",
    "plt.xlabel('')"
   ]
  },
  {
   "cell_type": "code",
   "execution_count": 15,
   "id": "dd0da3e2-b7b2-4405-8bd0-8d82e73f7b7b",
   "metadata": {},
   "outputs": [
    {
     "ename": "AttributeError",
     "evalue": "module 'random' has no attribute 'normal'",
     "output_type": "error",
     "traceback": [
      "\u001b[0;31m---------------------------------------------------------------------------\u001b[0m",
      "\u001b[0;31mAttributeError\u001b[0m                            Traceback (most recent call last)",
      "Input \u001b[0;32mIn [15]\u001b[0m, in \u001b[0;36m<cell line: 1>\u001b[0;34m()\u001b[0m\n\u001b[0;32m----> 1\u001b[0m \u001b[43mrandom\u001b[49m\u001b[38;5;241;43m.\u001b[39;49m\u001b[43mnormal\u001b[49m(loc\u001b[38;5;241m=\u001b[39m\u001b[38;5;241m0.0\u001b[39m, scale\u001b[38;5;241m=\u001b[39m\u001b[38;5;241m1.0\u001b[39m, size\u001b[38;5;241m=\u001b[39m\u001b[38;5;28;01mNone\u001b[39;00m)\n",
      "\u001b[0;31mAttributeError\u001b[0m: module 'random' has no attribute 'normal'"
     ]
    }
   ],
   "source": [
    "random.normal(loc=0.0, scale=1.0, size=None)"
   ]
  },
  {
   "cell_type": "code",
   "execution_count": 105,
   "id": "ab4ba79b-a09c-4187-a937-ea97a2b37e13",
   "metadata": {},
   "outputs": [],
   "source": [
    "array2 = np.random.chisquare(2,4000)"
   ]
  },
  {
   "cell_type": "code",
   "execution_count": 24,
   "id": "8d8ef791-37db-456e-9450-3cc62a1435b9",
   "metadata": {},
   "outputs": [
    {
     "ename": "AttributeError",
     "evalue": "'Series' object has no attribute 'concat'",
     "output_type": "error",
     "traceback": [
      "\u001b[0;31m---------------------------------------------------------------------------\u001b[0m",
      "\u001b[0;31mAttributeError\u001b[0m                            Traceback (most recent call last)",
      "Input \u001b[0;32mIn [24]\u001b[0m, in \u001b[0;36m<cell line: 1>\u001b[0;34m()\u001b[0m\n\u001b[0;32m----> 1\u001b[0m \u001b[43marray\u001b[49m\u001b[38;5;241;43m.\u001b[39;49m\u001b[43mconcat\u001b[49m(array2)\n",
      "File \u001b[0;32m~/opt/anaconda3/lib/python3.9/site-packages/pandas/core/generic.py:5575\u001b[0m, in \u001b[0;36mNDFrame.__getattr__\u001b[0;34m(self, name)\u001b[0m\n\u001b[1;32m   5568\u001b[0m \u001b[38;5;28;01mif\u001b[39;00m (\n\u001b[1;32m   5569\u001b[0m     name \u001b[38;5;129;01mnot\u001b[39;00m \u001b[38;5;129;01min\u001b[39;00m \u001b[38;5;28mself\u001b[39m\u001b[38;5;241m.\u001b[39m_internal_names_set\n\u001b[1;32m   5570\u001b[0m     \u001b[38;5;129;01mand\u001b[39;00m name \u001b[38;5;129;01mnot\u001b[39;00m \u001b[38;5;129;01min\u001b[39;00m \u001b[38;5;28mself\u001b[39m\u001b[38;5;241m.\u001b[39m_metadata\n\u001b[1;32m   5571\u001b[0m     \u001b[38;5;129;01mand\u001b[39;00m name \u001b[38;5;129;01mnot\u001b[39;00m \u001b[38;5;129;01min\u001b[39;00m \u001b[38;5;28mself\u001b[39m\u001b[38;5;241m.\u001b[39m_accessors\n\u001b[1;32m   5572\u001b[0m     \u001b[38;5;129;01mand\u001b[39;00m \u001b[38;5;28mself\u001b[39m\u001b[38;5;241m.\u001b[39m_info_axis\u001b[38;5;241m.\u001b[39m_can_hold_identifiers_and_holds_name(name)\n\u001b[1;32m   5573\u001b[0m ):\n\u001b[1;32m   5574\u001b[0m     \u001b[38;5;28;01mreturn\u001b[39;00m \u001b[38;5;28mself\u001b[39m[name]\n\u001b[0;32m-> 5575\u001b[0m \u001b[38;5;28;01mreturn\u001b[39;00m \u001b[38;5;28;43mobject\u001b[39;49m\u001b[38;5;241;43m.\u001b[39;49m\u001b[38;5;21;43m__getattribute__\u001b[39;49m\u001b[43m(\u001b[49m\u001b[38;5;28;43mself\u001b[39;49m\u001b[43m,\u001b[49m\u001b[43m \u001b[49m\u001b[43mname\u001b[49m\u001b[43m)\u001b[49m\n",
      "\u001b[0;31mAttributeError\u001b[0m: 'Series' object has no attribute 'concat'"
     ]
    }
   ],
   "source": [
    "array.concat(array2)"
   ]
  },
  {
   "cell_type": "code",
   "execution_count": 28,
   "id": "20ef152e-ac47-4e0b-8858-4e7765d24627",
   "metadata": {},
   "outputs": [],
   "source": [
    "array = np.array(array)"
   ]
  },
  {
   "cell_type": "code",
   "execution_count": 29,
   "id": "d2d28dd3-7172-47a6-90d4-1e49f5a8f15a",
   "metadata": {},
   "outputs": [],
   "source": [
    "array2 = np.array(array2)"
   ]
  },
  {
   "cell_type": "code",
   "execution_count": 31,
   "id": "c656a0d2-c1a3-4da6-95e7-e5ed27fc2569",
   "metadata": {},
   "outputs": [
    {
     "ename": "AttributeError",
     "evalue": "'numpy.ndarray' object has no attribute 'concatenate'",
     "output_type": "error",
     "traceback": [
      "\u001b[0;31m---------------------------------------------------------------------------\u001b[0m",
      "\u001b[0;31mAttributeError\u001b[0m                            Traceback (most recent call last)",
      "Input \u001b[0;32mIn [31]\u001b[0m, in \u001b[0;36m<cell line: 1>\u001b[0;34m()\u001b[0m\n\u001b[0;32m----> 1\u001b[0m array \u001b[38;5;241m=\u001b[39m \u001b[43marray\u001b[49m\u001b[38;5;241;43m.\u001b[39;49m\u001b[43mconcatenate\u001b[49m(array2)\n",
      "\u001b[0;31mAttributeError\u001b[0m: 'numpy.ndarray' object has no attribute 'concatenate'"
     ]
    }
   ],
   "source": [
    "array = array.concatenate(array2)"
   ]
  },
  {
   "cell_type": "code",
   "execution_count": 106,
   "id": "c2bf99a0-356c-40cf-8826-d0ac5f46b97d",
   "metadata": {},
   "outputs": [],
   "source": [
    "arr = np.concatenate((array, array2))"
   ]
  },
  {
   "cell_type": "code",
   "execution_count": 33,
   "id": "a1c332c8-352e-461e-9504-1cbae50cd306",
   "metadata": {},
   "outputs": [
    {
     "data": {
      "text/plain": [
       "array([0.455     , 0.35      , 0.53      , ..., 0.1391129 , 0.75862023,\n",
       "       0.12915115])"
      ]
     },
     "execution_count": 33,
     "metadata": {},
     "output_type": "execute_result"
    }
   ],
   "source": []
  },
  {
   "cell_type": "code",
   "execution_count": 107,
   "id": "62483e0b-a749-4be4-8baa-92d37e1a4c0e",
   "metadata": {},
   "outputs": [
    {
     "data": {
      "text/plain": [
       "Text(0.5, 6.79999999999999, '')"
      ]
     },
     "execution_count": 107,
     "metadata": {},
     "output_type": "execute_result"
    },
    {
     "data": {
      "image/png": "[encoded data removed]",
      "text/plain": [
       "<Figure size 360x360 with 1 Axes>"
      ]
     },
     "metadata": {
      "needs_background": "light"
     },
     "output_type": "display_data"
    }
   ],
   "source": [
    "sns.displot(arr)\n",
    "plt.xlabel('')"
   ]
  },
  {
   "cell_type": "code",
   "execution_count": 108,
   "id": "f5cbf68d-f08c-4f85-91eb-b19dade3edeb",
   "metadata": {},
   "outputs": [
    {
     "data": {
      "text/plain": [
       "<seaborn.axisgrid.FacetGrid at 0x7fcaa047aac0>"
      ]
     },
     "execution_count": 108,
     "metadata": {},
     "output_type": "execute_result"
    },
    {
     "data": {
      "image/png": "[encoded data removed]",
      "text/plain": [
       "<Figure size 360x360 with 1 Axes>"
      ]
     },
     "metadata": {
      "needs_background": "light"
     },
     "output_type": "display_data"
    }
   ],
   "source": [
    "sns.displot(np.sqrt(arr))"
   ]
  },
  {
   "cell_type": "code",
   "execution_count": 109,
   "id": "928ea394-0461-4af6-81c3-9051edbf7e5f",
   "metadata": {},
   "outputs": [
    {
     "data": {
      "text/plain": [
       "<seaborn.axisgrid.FacetGrid at 0x7fcab046b820>"
      ]
     },
     "execution_count": 109,
     "metadata": {},
     "output_type": "execute_result"
    },
    {
     "data": {
      "image/png": "[encoded data removed]",
      "text/plain": [
       "<Figure size 360x360 with 1 Axes>"
      ]
     },
     "metadata": {
      "needs_background": "light"
     },
     "output_type": "display_data"
    }
   ],
   "source": [
    "sns.displot(np.log(arr))"
   ]
  },
  {
   "cell_type": "code",
   "execution_count": null,
   "id": "9583c8e9-c4ad-4894-9824-7eaa2a85e7e9",
   "metadata": {},
   "outputs": [],
   "source": []
  }
 ],
 "metadata": {
  "kernelspec": {
   "display_name": "Python 3 (ipykernel)",
   "language": "python",
   "name": "python3"
  },
  "language_info": {
   "codemirror_mode": {
    "name": "ipython",
    "version": 3
   },
   "file_extension": ".py",
   "mimetype": "text/x-python",
   "name": "python",
   "nbconvert_exporter": "python",
   "pygments_lexer": "ipython3",
   "version": "3.9.12"
  }
 },
 "nbformat": 4,
 "nbformat_minor": 5
}
