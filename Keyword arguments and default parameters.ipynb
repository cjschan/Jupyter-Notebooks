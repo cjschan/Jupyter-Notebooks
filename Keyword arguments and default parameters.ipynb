{
 "cells": [
  {
   "cell_type": "code",
   "execution_count": 1,
   "id": "c8e56041-e938-411b-9344-30e717278cfe",
   "metadata": {},
   "outputs": [],
   "source": [
    "# Define function that prints full name\n",
    "def printName(first, last, lastFirst=False):\n",
    "    if lastFirst:\n",
    "        print(last + ', ' + first)\n",
    "    if not lastFirst:\n",
    "        print(first + ' ' + last)"
   ]
  },
  {
   "cell_type": "code",
   "execution_count": 2,
   "id": "cf25e62b-0f17-4a73-8432-3d0cd8568d4c",
   "metadata": {},
   "outputs": [
    {
     "name": "stdout",
     "output_type": "stream",
     "text": [
      "Patel, Dana\n"
     ]
    }
   ],
   "source": [
    "# Call with keyword arguments\n",
    "printName(first='Dana', last='Patel', lastFirst=True)"
   ]
  },
  {
   "cell_type": "code",
   "execution_count": 3,
   "id": "9486f463-df01-4f52-8470-d9a2ab5ee499",
   "metadata": {},
   "outputs": [
    {
     "name": "stdout",
     "output_type": "stream",
     "text": [
      "Patel, Dana\n"
     ]
    }
   ],
   "source": [
    "# Call with positional arguments\n",
    "printName('Dana', 'Patel', True)"
   ]
  },
  {
   "cell_type": "code",
   "execution_count": 4,
   "id": "d5b8f571-359a-42df-8232-aef39edcf438",
   "metadata": {},
   "outputs": [
    {
     "name": "stdout",
     "output_type": "stream",
     "text": [
      "Patel, Dana\n"
     ]
    }
   ],
   "source": [
    "# Call with both keyword and positional arguments\n",
    "printName('Dana', 'Patel', lastFirst=True)"
   ]
  },
  {
   "cell_type": "code",
   "execution_count": 5,
   "id": "a40b3152-b294-41c3-a1c3-9d1503b92450",
   "metadata": {},
   "outputs": [
    {
     "name": "stdout",
     "output_type": "stream",
     "text": [
      "Dana Patel\n"
     ]
    }
   ],
   "source": [
    "# Call with default value\n",
    "printName('Dana', 'Patel')"
   ]
  }
 ],
 "metadata": {
  "kernelspec": {
   "display_name": "Python 3 (ipykernel)",
   "language": "python",
   "name": "python3"
  },
  "language_info": {
   "codemirror_mode": {
    "name": "ipython",
    "version": 3
   },
   "file_extension": ".py",
   "mimetype": "text/x-python",
   "name": "python",
   "nbconvert_exporter": "python",
   "pygments_lexer": "ipython3",
   "version": "3.9.7"
  }
 },
 "nbformat": 4,
 "nbformat_minor": 5
}
