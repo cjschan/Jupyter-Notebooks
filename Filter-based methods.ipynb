{
 "cells": [
  {
   "cell_type": "code",
   "execution_count": 1,
   "id": "be32440c-4603-43a6-85db-0e42cf733ffc",
   "metadata": {},
   "outputs": [],
   "source": [
    "# Import needed packages\n",
    "import pandas as pd\n",
    "import numpy as np\n",
    "from sklearn.model_selection import train_test_split\n",
    "from sklearn.feature_selection import SelectKBest, SelectPercentile, f_classif\n",
    "from sklearn.preprocessing import StandardScaler\n",
    "from sklearn.neural_network import MLPClassifier"
   ]
  },
  {
   "cell_type": "code",
   "execution_count": 2,
   "id": "55c05c74-2a2b-4f39-b235-d412c2e3f22c",
   "metadata": {},
   "outputs": [],
   "source": [
    "# Load the Wisconsin Breast Cancer Database\n",
    "wbcd = pd.read_csv('WisconsinBreastCancerDatabase.csv')"
   ]
  },
  {
   "cell_type": "code",
   "execution_count": 3,
   "id": "30d085a2-44ef-4a1b-a356-3366752f90eb",
   "metadata": {},
   "outputs": [],
   "source": [
    "# Select and scale input features, create dataframe for output feature\n",
    "X = wbcd[['Radius mean', 'Texture mean', 'Area mean', 'Smoothness mean', \n",
    "         'Compactness mean', 'Concavity mean', 'Concave points mean', \n",
    "          'Fractal dimension mean', 'Symmetry mean']]\n",
    "scaler = StandardScaler()\n",
    "X_scaled = pd.DataFrame(scaler.fit_transform(X), columns=X.columns)\n",
    "y = wbcd[['Diagnosis']]"
   ]
  },
  {
   "cell_type": "code",
   "execution_count": 4,
   "id": "d59114b0-742b-4250-837d-03e4bd79c088",
   "metadata": {},
   "outputs": [],
   "source": [
    "# Split the data into train and test sets\n",
    "X_train, X_test, y_train, y_test = train_test_split(X_scaled, y, test_size=0.2, random_state=123)"
   ]
  },
  {
   "cell_type": "code",
   "execution_count": 5,
   "id": "9f5bd1b9-7615-4bf6-b4ac-f0b71c82569a",
   "metadata": {},
   "outputs": [],
   "source": [
    "# Perform feature selection using the SelectKBest function\n",
    "model_kbest = SelectKBest(score_func=f_classif, k=5)\n",
    "X_new_kbest = model_kbest.fit_transform(X_train,np.ravel(y_train))\n",
    "\n",
    "# Perform feature selection using the SelectPercentile function\n",
    "model_percent = SelectPercentile(score_func=f_classif, percentile=30)\n",
    "X_new_percent = model_percent.fit_transform(X_train,np.ravel(y_train))"
   ]
  },
  {
   "cell_type": "code",
   "execution_count": 6,
   "id": "f2e0476c-4dff-43db-8000-66c007ad4655",
   "metadata": {},
   "outputs": [],
   "source": [
    "# Get features selected by each function\n",
    "filter_kbest = model_kbest.get_support()\n",
    "filter_percent = model_percent.get_support()\n",
    "\n",
    "# Get input feature names\n",
    "features = np.array(X_train.columns)"
   ]
  },
  {
   "cell_type": "code",
   "execution_count": 7,
   "id": "8d09924a-6a2a-4b9c-a3ab-fcf7260e309c",
   "metadata": {},
   "outputs": [
    {
     "data": {
      "text/plain": [
       "array(['Radius mean', 'Area mean', 'Compactness mean', 'Concavity mean',\n",
       "       'Concave points mean'], dtype=object)"
      ]
     },
     "execution_count": 7,
     "metadata": {},
     "output_type": "execute_result"
    }
   ],
   "source": [
    "# Display feature names selected by the SelectKBest function\n",
    "features[filter_kbest]"
   ]
  },
  {
   "cell_type": "code",
   "execution_count": 8,
   "id": "b6e0acf4-b043-4dd5-b5a3-9461f739cd5c",
   "metadata": {},
   "outputs": [
    {
     "data": {
      "text/plain": [
       "array(['Radius mean', 'Area mean', 'Concave points mean'], dtype=object)"
      ]
     },
     "execution_count": 8,
     "metadata": {},
     "output_type": "execute_result"
    }
   ],
   "source": [
    "# Display feature names selected by the SelectPercent function\n",
    "features[filter_percent]"
   ]
  },
  {
   "cell_type": "code",
   "execution_count": 16,
   "id": "ca689211-089d-44a5-be0a-f84a46fcecdd",
   "metadata": {},
   "outputs": [
    {
     "data": {
      "text/html": [
       "<div>\n",
       "<style scoped>\n",
       "    .dataframe tbody tr th:only-of-type {\n",
       "        vertical-align: middle;\n",
       "    }\n",
       "\n",
       "    .dataframe tbody tr th {\n",
       "        vertical-align: top;\n",
       "    }\n",
       "\n",
       "    .dataframe thead th {\n",
       "        text-align: right;\n",
       "    }\n",
       "</style>\n",
       "<table border=\"1\" class=\"dataframe\">\n",
       "  <thead>\n",
       "    <tr style=\"text-align: right;\">\n",
       "      <th></th>\n",
       "      <th>F-statistic</th>\n",
       "      <th>p-value</th>\n",
       "    </tr>\n",
       "  </thead>\n",
       "  <tbody>\n",
       "    <tr>\n",
       "      <th>Radius mean</th>\n",
       "      <td>527.9403</td>\n",
       "      <td>0.0000</td>\n",
       "    </tr>\n",
       "    <tr>\n",
       "      <th>Texture mean</th>\n",
       "      <td>92.2585</td>\n",
       "      <td>0.0000</td>\n",
       "    </tr>\n",
       "    <tr>\n",
       "      <th>Area mean</th>\n",
       "      <td>482.9863</td>\n",
       "      <td>0.0000</td>\n",
       "    </tr>\n",
       "    <tr>\n",
       "      <th>Smoothness mean</th>\n",
       "      <td>58.9550</td>\n",
       "      <td>0.0000</td>\n",
       "    </tr>\n",
       "    <tr>\n",
       "      <th>Compactness mean</th>\n",
       "      <td>240.9206</td>\n",
       "      <td>0.0000</td>\n",
       "    </tr>\n",
       "    <tr>\n",
       "      <th>Concavity mean</th>\n",
       "      <td>406.2409</td>\n",
       "      <td>0.0000</td>\n",
       "    </tr>\n",
       "    <tr>\n",
       "      <th>Concave points mean</th>\n",
       "      <td>683.9305</td>\n",
       "      <td>0.0000</td>\n",
       "    </tr>\n",
       "    <tr>\n",
       "      <th>Fractal dimension mean</th>\n",
       "      <td>0.0739</td>\n",
       "      <td>0.7859</td>\n",
       "    </tr>\n",
       "    <tr>\n",
       "      <th>Symmetry mean</th>\n",
       "      <td>59.6782</td>\n",
       "      <td>0.0000</td>\n",
       "    </tr>\n",
       "  </tbody>\n",
       "</table>\n",
       "</div>"
      ],
      "text/plain": [
       "                        F-statistic  p-value\n",
       "Radius mean                527.9403   0.0000\n",
       "Texture mean                92.2585   0.0000\n",
       "Area mean                  482.9863   0.0000\n",
       "Smoothness mean             58.9550   0.0000\n",
       "Compactness mean           240.9206   0.0000\n",
       "Concavity mean             406.2409   0.0000\n",
       "Concave points mean        683.9305   0.0000\n",
       "Fractal dimension mean       0.0739   0.7859\n",
       "Symmetry mean               59.6782   0.0000"
      ]
     },
     "execution_count": 16,
     "metadata": {},
     "output_type": "execute_result"
    }
   ],
   "source": [
    "# Display the F-statistic and p-value for each feature\n",
    "data = {'F-statistic': np.around(model_kbest.scores_,decimals=4), 'p-value': np.around(model_kbest.pvalues_,decimals=4)}\n",
    "pd.DataFrame(data, index=X_train.columns)"
   ]
  },
  {
   "cell_type": "code",
   "execution_count": 10,
   "id": "20722354-749f-4c62-9b80-7df265696829",
   "metadata": {},
   "outputs": [
    {
     "data": {
      "text/plain": [
       "0.956140350877193"
      ]
     },
     "execution_count": 10,
     "metadata": {},
     "output_type": "execute_result"
    }
   ],
   "source": [
    "# Construct MLP classifier using all features and display classification accuracy\n",
    "clf = MLPClassifier(random_state=1, max_iter=1000).fit(X_train, np.ravel(y_train))\n",
    "clf.score(X_test, y_test)"
   ]
  },
  {
   "cell_type": "code",
   "execution_count": 11,
   "id": "77da7659-4bbf-4505-9edc-722833ba2c1e",
   "metadata": {},
   "outputs": [
    {
     "data": {
      "text/plain": [
       "0.9385964912280702"
      ]
     },
     "execution_count": 11,
     "metadata": {},
     "output_type": "execute_result"
    }
   ],
   "source": [
    "# Construct MLP classifier using 5 best features and display classification accuracy\n",
    "clf_reduced_kbest = MLPClassifier(random_state=1, \n",
    "                                  max_iter=1000).fit(X_train[features[filter_kbest]], np.ravel(y_train))\n",
    "clf_reduced_kbest.score(X_test[features[filter_kbest]], y_test)"
   ]
  },
  {
   "cell_type": "code",
   "execution_count": 12,
   "id": "3049c545-2500-4562-861e-261c8912ea0e",
   "metadata": {},
   "outputs": [
    {
     "data": {
      "text/plain": [
       "0.956140350877193"
      ]
     },
     "execution_count": 12,
     "metadata": {},
     "output_type": "execute_result"
    }
   ],
   "source": [
    "# Construct MLP classifier using the top 30% features and display classification accuracy\n",
    "clf_reduced_percent = MLPClassifier(random_state=1, \n",
    "                              max_iter=1000).fit(X_train[features[filter_percent]], np.ravel(y_train))\n",
    "clf_reduced_percent.score(X_test[features[filter_percent]], y_test)"
   ]
  }
 ],
 "metadata": {
  "kernelspec": {
   "display_name": "Python 3 (ipykernel)",
   "language": "python",
   "name": "python3"
  },
  "language_info": {
   "codemirror_mode": {
    "name": "ipython",
    "version": 3
   },
   "file_extension": ".py",
   "mimetype": "text/x-python",
   "name": "python",
   "nbconvert_exporter": "python",
   "pygments_lexer": "ipython3",
   "version": "3.11.5"
  }
 },
 "nbformat": 4,
 "nbformat_minor": 5
}
