{
 "cells": [
  {
   "cell_type": "code",
   "execution_count": 1,
   "id": "b2cef354-7944-4087-9078-fd270f9f3516",
   "metadata": {},
   "outputs": [],
   "source": [
    "# Creates a set\n",
    "set = {'abc', 'xyz'}"
   ]
  },
  {
   "cell_type": "code",
   "execution_count": 2,
   "id": "873c2260-4c0a-4400-a422-7cf87f446837",
   "metadata": {},
   "outputs": [
    {
     "data": {
      "text/plain": [
       "{'abc', 'banana', 'xyz'}"
      ]
     },
     "execution_count": 2,
     "metadata": {},
     "output_type": "execute_result"
    }
   ],
   "source": [
    "# Adds 'banana' to the set\n",
    "set.add('banana')\n",
    "set"
   ]
  },
  {
   "cell_type": "code",
   "execution_count": 3,
   "id": "381b280e-632c-4e2d-8a00-18f0d21aab79",
   "metadata": {},
   "outputs": [
    {
     "data": {
      "text/plain": [
       "{'banana', 'xyz'}"
      ]
     },
     "execution_count": 3,
     "metadata": {},
     "output_type": "execute_result"
    }
   ],
   "source": [
    "# Removes 'abc' from the set\n",
    "set.remove('abc')\n",
    "set"
   ]
  },
  {
   "cell_type": "code",
   "execution_count": 4,
   "id": "e52c0af8-5368-4dfa-aef5-a2d02fab3bf4",
   "metadata": {},
   "outputs": [
    {
     "data": {
      "text/plain": [
       "{'xyz'}"
      ]
     },
     "execution_count": 4,
     "metadata": {},
     "output_type": "execute_result"
    }
   ],
   "source": [
    "# Removes the first element from the set\n",
    "set.pop()\n",
    "set"
   ]
  },
  {
   "cell_type": "code",
   "execution_count": 5,
   "id": "347b1f40-93ec-4b59-bdb6-5b29db45aab9",
   "metadata": {},
   "outputs": [
    {
     "data": {
      "text/plain": [
       "{44, 'xyz'}"
      ]
     },
     "execution_count": 5,
     "metadata": {},
     "output_type": "execute_result"
    }
   ],
   "source": [
    "# Displays the union of set = {'xyz'} and {'xyz', 44}\n",
    "set.union({'xyz', 44})"
   ]
  },
  {
   "cell_type": "code",
   "execution_count": 6,
   "id": "20be279b-a082-4a35-90c3-58dae11fbc3c",
   "metadata": {},
   "outputs": [
    {
     "data": {
      "text/plain": [
       "{'xyz'}"
      ]
     },
     "execution_count": 6,
     "metadata": {},
     "output_type": "execute_result"
    }
   ],
   "source": [
    "# Displays the intersection of set = {'xyz'} and {'xyz', 44}\n",
    "set.intersection({'xyz', 44})"
   ]
  }
 ],
 "metadata": {
  "kernelspec": {
   "display_name": "Python 3 (ipykernel)",
   "language": "python",
   "name": "python3"
  },
  "language_info": {
   "codemirror_mode": {
    "name": "ipython",
    "version": 3
   },
   "file_extension": ".py",
   "mimetype": "text/x-python",
   "name": "python",
   "nbconvert_exporter": "python",
   "pygments_lexer": "ipython3",
   "version": "3.9.7"
  }
 },
 "nbformat": 4,
 "nbformat_minor": 5
}
