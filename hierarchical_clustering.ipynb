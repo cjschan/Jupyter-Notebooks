{
 "cells": [
  {
   "cell_type": "code",
   "execution_count": 1,
   "id": "a243436f-e7e5-40d2-8ad7-8001b93cc663",
   "metadata": {},
   "outputs": [],
   "source": [
    "import numpy as np\n",
    "import matplotlib.pyplot as plt\n",
    "from scipy.cluster.hierarchy import dendrogram, linkage"
   ]
  },
  {
   "cell_type": "code",
   "execution_count": 2,
   "id": "ce761560-5a98-4d47-8760-e5cc8150167c",
   "metadata": {},
   "outputs": [],
   "source": [
    "x = [4,2,6,8,90,1,4,5]\n",
    "y = [3,6,8,2,80,3,6,7]"
   ]
  },
  {
   "cell_type": "code",
   "execution_count": 6,
   "id": "b1bec8c7-d20c-42e5-baa0-ba01270dd77e",
   "metadata": {},
   "outputs": [],
   "source": [
    "df = list(zip(x,y))"
   ]
  },
  {
   "cell_type": "code",
   "execution_count": 7,
   "id": "a58321f5-7b76-4f12-b084-8bc42868462f",
   "metadata": {},
   "outputs": [],
   "source": [
    "model = linkage(df, method=\"ward\", metric=\"euclidean\")"
   ]
  },
  {
   "cell_type": "code",
   "execution_count": 8,
   "id": "37255a4f-a7f7-46e8-9e0b-1813be0c8312",
   "metadata": {},
   "outputs": [
    {
     "data": {
      "text/plain": [
       "{'icoord': [[35.0, 35.0, 45.0, 45.0],\n",
       "  [25.0, 25.0, 40.0, 40.0],\n",
       "  [65.0, 65.0, 75.0, 75.0],\n",
       "  [55.0, 55.0, 70.0, 70.0],\n",
       "  [32.5, 32.5, 62.5, 62.5],\n",
       "  [15.0, 15.0, 47.5, 47.5],\n",
       "  [5.0, 5.0, 31.25, 31.25]],\n",
       " 'dcoord': [[0.0, 1.4142135623730951, 1.4142135623730951, 0.0],\n",
       "  [0.0, 2.4494897427831783, 2.4494897427831783, 1.4142135623730951],\n",
       "  [0.0, 3.0, 3.0, 0.0],\n",
       "  [0.0, 3.511884584284246, 3.511884584284246, 3.0],\n",
       "  [2.4494897427831783, 6.95221787153807, 6.95221787153807, 3.511884584284246],\n",
       "  [0.0, 7.293180115044205, 7.293180115044205, 6.95221787153807],\n",
       "  [0.0, 150.66815475455607, 150.66815475455607, 7.293180115044205]],\n",
       " 'ivl': ['4', '3', '2', '6', '7', '1', '0', '5'],\n",
       " 'leaves': [4, 3, 2, 6, 7, 1, 0, 5],\n",
       " 'color_list': ['C1', 'C1', 'C1', 'C1', 'C1', 'C1', 'C0'],\n",
       " 'leaves_color_list': ['C0', 'C1', 'C1', 'C1', 'C1', 'C1', 'C1', 'C1']}"
      ]
     },
     "execution_count": 8,
     "metadata": {},
     "output_type": "execute_result"
    },
    {
     "data": {
      "image/png": "[encoded data removed]",
      "text/plain": [
       "<Figure size 432x288 with 1 Axes>"
      ]
     },
     "metadata": {
      "needs_background": "light"
     },
     "output_type": "display_data"
    }
   ],
   "source": [
    "dendrogram(model)"
   ]
  },
  {
   "cell_type": "code",
   "execution_count": 9,
   "id": "a5620f81-ec97-4106-99df-81ae100f0738",
   "metadata": {},
   "outputs": [],
   "source": [
    "from sklearn.cluster import AgglomerativeClustering"
   ]
  },
  {
   "cell_type": "code",
   "execution_count": 15,
   "id": "28219a65-6863-47e4-9568-1c0acfe34fac",
   "metadata": {},
   "outputs": [],
   "source": [
    "model_2 = AgglomerativeClustering(n_clusters=2, linkage=\"ward\", affinity=\"euclidean\")"
   ]
  },
  {
   "cell_type": "code",
   "execution_count": 16,
   "id": "8a169ccd-4a28-47ec-8556-0b472a1dd560",
   "metadata": {},
   "outputs": [],
   "source": [
    "predictions = model_2.fit_predict(df)"
   ]
  },
  {
   "cell_type": "code",
   "execution_count": 17,
   "id": "8ae4642f-f88c-4f22-8d55-078d29672a04",
   "metadata": {},
   "outputs": [
    {
     "data": {
      "text/plain": [
       "<matplotlib.collections.PathCollection at 0x7fc948cbd4f0>"
      ]
     },
     "execution_count": 17,
     "metadata": {},
     "output_type": "execute_result"
    },
    {
     "data": {
      "image/png": "[encoded data removed]",
      "text/plain": [
       "<Figure size 432x288 with 1 Axes>"
      ]
     },
     "metadata": {
      "needs_background": "light"
     },
     "output_type": "display_data"
    }
   ],
   "source": [
    "plt.scatter(x, y, c=predictions)"
   ]
  },
  {
   "cell_type": "code",
   "execution_count": null,
   "id": "d8be678a-f0f2-4b93-a204-df48a65ea4d0",
   "metadata": {},
   "outputs": [],
   "source": []
  }
 ],
 "metadata": {
  "kernelspec": {
   "display_name": "Python 3 (ipykernel)",
   "language": "python",
   "name": "python3"
  },
  "language_info": {
   "codemirror_mode": {
    "name": "ipython",
    "version": 3
   },
   "file_extension": ".py",
   "mimetype": "text/x-python",
   "name": "python",
   "nbconvert_exporter": "python",
   "pygments_lexer": "ipython3",
   "version": "3.11.5"
  }
 },
 "nbformat": 4,
 "nbformat_minor": 5
}
